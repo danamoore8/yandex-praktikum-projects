{
 "cells": [
  {
   "cell_type": "markdown",
   "metadata": {},
   "source": [
    "<a id=\"contents\"></a>"
   ]
  },
  {
   "cell_type": "markdown",
   "metadata": {
    "toc": true
   },
   "source": [
    "<h1>Оглавление<span class=\"tocSkip\"></span></h1>\n",
    "<div class=\"toc\"><ul class=\"toc-item\"><li><span><a href=\"#Описание-проекта\" data-toc-modified-id=\"Описание-проекта-1\"><span class=\"toc-item-num\">1&nbsp;&nbsp;</span>Описание проекта</a></span></li><li><span><a href=\"#Изучение-общей-информации\" data-toc-modified-id=\"Изучение-общей-информации-2\"><span class=\"toc-item-num\">2&nbsp;&nbsp;</span>Изучение общей информации</a></span></li><li><span><a href=\"#Исследовательский-анализ-данных-(EDA)\" data-toc-modified-id=\"Исследовательский-анализ-данных-(EDA)-3\"><span class=\"toc-item-num\">3&nbsp;&nbsp;</span>Исследовательский анализ данных (EDA)</a></span></li><li><span><a href=\"#Модель-прогнозирования-оттока-пользователей\" data-toc-modified-id=\"Модель-прогнозирования-оттока-пользователей-4\"><span class=\"toc-item-num\">4&nbsp;&nbsp;</span>Модель прогнозирования оттока пользователей</a></span></li><li><span><a href=\"#Кластеризация-посетителей\" data-toc-modified-id=\"Кластеризация-посетителей-5\"><span class=\"toc-item-num\">5&nbsp;&nbsp;</span>Кластеризация посетителей</a></span></li><li><span><a href=\"#Выводы-и-рекомендации\" data-toc-modified-id=\"Выводы-и-рекомендации-6\"><span class=\"toc-item-num\">6&nbsp;&nbsp;</span>Выводы и рекомендации</a></span></li></ul></div>"
   ]
  },
  {
   "cell_type": "markdown",
   "metadata": {},
   "source": [
    "# Прогнозирование вероятности оттока пользователей для фитнес-центров"
   ]
  },
  {
   "cell_type": "markdown",
   "metadata": {},
   "source": [
    "## Описание проекта\n",
    "В данном проекте мы прогнозируем вероятность оттока для каждого клиента на уровне следующего месяца. Мы формируем типичные портреты пользователей: выделяем наиболее выраженные группы и описываем их основные свойства. Затем анализируем основные признаки, наиболее сильно влияющие на отток пользователей. На основе анализа формулируем основные выводы и рекомендации по повышению качества работы с клиентами. У нас есть данные на месяц до оттока и факт оттока на определённый месяц.\n",
    "\n",
    "Данные представлены в файле gym_churn.csv со следующими полями:\n",
    "\n",
    "   - **Churn** — факт оттока в текущем месяце (1 - факт оттока);\n",
    "\n",
    "Текущие поля в датасете:\n",
    "\n",
    " * Данные пользователя за предыдущий до проверки факта оттока месяц:\n",
    " \n",
    "   - **gender** — пол;\n",
    "   - **Near_Location** — проживание или работа в районе, где находится фитнес-центр;\n",
    "   - **Partner** — сотрудник компании-партнёра клуба (сотрудничество с компаниями, чьи сотрудники могут получать скидки на абонемент — в таком случае фитнес-центр хранит информацию о работодателе клиента);\n",
    "   - **Promo_friends** — факт первоначальной записи в рамках акции «приведи друга» (использовал промо-код от знакомого при оплате первого абонемента);\n",
    "   - **Phone** — наличие контактного телефона;\n",
    "   - **Age** — возраст;\n",
    "   - **Lifetime** — время с момента первого обращения в фитнес-центр (в месяцах);\n",
    "\n",
    "*  Информация на основе журнала посещений, покупок и информация о текущем статусе абонемента клиента:\n",
    "\n",
    "   - **Contract_period** — длительность текущего действующего абонемента (месяц, 3 месяца, 6 месяцев, год);\n",
    "   - **Month_to_end_contract** — срок до окончания текущего действующего абонемента (в месяцах);\n",
    "   - **Group_visits** — факт посещения групповых занятий;\n",
    "   - **Avg_class_frequency_total** — средняя частота посещений в неделю за все время с начала действия абонемента;\n",
    "   - **Avg_class_frequency_current_month** — средняя частота посещений в неделю за предыдущий месяц;\n",
    "   - **Avg_additional_charges_total** — суммарная выручка от других услуг фитнес-центра: кафе, спорт-товары, косметический и массажный салон;"
   ]
  },
  {
   "cell_type": "markdown",
   "metadata": {},
   "source": [
    "## Изучение общей информации"
   ]
  },
  {
   "cell_type": "code",
   "execution_count": 1,
   "metadata": {},
   "outputs": [],
   "source": [
    "# загружаем необходимые библиотеки\n",
    "import pandas as pd\n",
    "import numpy as np\n",
    "import matplotlib.pyplot as plt\n",
    "import seaborn as sns\n",
    "\n",
    "# библиотеки для машинного обучения\n",
    "from sklearn.model_selection import train_test_split\n",
    "from sklearn.preprocessing import StandardScaler\n",
    "from sklearn.linear_model import LogisticRegression\n",
    "from sklearn.ensemble import RandomForestClassifier\n",
    "from sklearn.cluster import KMeans\n",
    "from scipy.cluster.hierarchy import dendrogram, linkage \n",
    "from sklearn.metrics import accuracy_score, precision_score, recall_score, f1_score, roc_auc_score"
   ]
  },
  {
   "cell_type": "code",
   "execution_count": 2,
   "metadata": {},
   "outputs": [],
   "source": [
    "# загружаем файлы\n",
    "path = '/datasets/' #путь яндекса\n",
    "df = pd.read_csv(path + 'gym_churn.csv') "
   ]
  },
  {
   "cell_type": "code",
   "execution_count": 3,
   "metadata": {},
   "outputs": [
    {
     "data": {
      "text/html": [
       "<div>\n",
       "<style scoped>\n",
       "    .dataframe tbody tr th:only-of-type {\n",
       "        vertical-align: middle;\n",
       "    }\n",
       "\n",
       "    .dataframe tbody tr th {\n",
       "        vertical-align: top;\n",
       "    }\n",
       "\n",
       "    .dataframe thead th {\n",
       "        text-align: right;\n",
       "    }\n",
       "</style>\n",
       "<table border=\"1\" class=\"dataframe\">\n",
       "  <thead>\n",
       "    <tr style=\"text-align: right;\">\n",
       "      <th></th>\n",
       "      <th>gender</th>\n",
       "      <th>Near_Location</th>\n",
       "      <th>Partner</th>\n",
       "      <th>Promo_friends</th>\n",
       "      <th>Phone</th>\n",
       "      <th>Contract_period</th>\n",
       "      <th>Group_visits</th>\n",
       "      <th>Age</th>\n",
       "      <th>Avg_additional_charges_total</th>\n",
       "      <th>Month_to_end_contract</th>\n",
       "      <th>Lifetime</th>\n",
       "      <th>Avg_class_frequency_total</th>\n",
       "      <th>Avg_class_frequency_current_month</th>\n",
       "      <th>Churn</th>\n",
       "    </tr>\n",
       "  </thead>\n",
       "  <tbody>\n",
       "    <tr>\n",
       "      <td>0</td>\n",
       "      <td>1</td>\n",
       "      <td>1</td>\n",
       "      <td>1</td>\n",
       "      <td>1</td>\n",
       "      <td>0</td>\n",
       "      <td>6</td>\n",
       "      <td>1</td>\n",
       "      <td>29</td>\n",
       "      <td>14.227470</td>\n",
       "      <td>5.0</td>\n",
       "      <td>3</td>\n",
       "      <td>0.020398</td>\n",
       "      <td>0.000000</td>\n",
       "      <td>0</td>\n",
       "    </tr>\n",
       "    <tr>\n",
       "      <td>1</td>\n",
       "      <td>0</td>\n",
       "      <td>1</td>\n",
       "      <td>0</td>\n",
       "      <td>0</td>\n",
       "      <td>1</td>\n",
       "      <td>12</td>\n",
       "      <td>1</td>\n",
       "      <td>31</td>\n",
       "      <td>113.202938</td>\n",
       "      <td>12.0</td>\n",
       "      <td>7</td>\n",
       "      <td>1.922936</td>\n",
       "      <td>1.910244</td>\n",
       "      <td>0</td>\n",
       "    </tr>\n",
       "    <tr>\n",
       "      <td>2</td>\n",
       "      <td>0</td>\n",
       "      <td>1</td>\n",
       "      <td>1</td>\n",
       "      <td>0</td>\n",
       "      <td>1</td>\n",
       "      <td>1</td>\n",
       "      <td>0</td>\n",
       "      <td>28</td>\n",
       "      <td>129.448479</td>\n",
       "      <td>1.0</td>\n",
       "      <td>2</td>\n",
       "      <td>1.859098</td>\n",
       "      <td>1.736502</td>\n",
       "      <td>0</td>\n",
       "    </tr>\n",
       "    <tr>\n",
       "      <td>3</td>\n",
       "      <td>0</td>\n",
       "      <td>1</td>\n",
       "      <td>1</td>\n",
       "      <td>1</td>\n",
       "      <td>1</td>\n",
       "      <td>12</td>\n",
       "      <td>1</td>\n",
       "      <td>33</td>\n",
       "      <td>62.669863</td>\n",
       "      <td>12.0</td>\n",
       "      <td>2</td>\n",
       "      <td>3.205633</td>\n",
       "      <td>3.357215</td>\n",
       "      <td>0</td>\n",
       "    </tr>\n",
       "    <tr>\n",
       "      <td>4</td>\n",
       "      <td>1</td>\n",
       "      <td>1</td>\n",
       "      <td>1</td>\n",
       "      <td>1</td>\n",
       "      <td>1</td>\n",
       "      <td>1</td>\n",
       "      <td>0</td>\n",
       "      <td>26</td>\n",
       "      <td>198.362265</td>\n",
       "      <td>1.0</td>\n",
       "      <td>3</td>\n",
       "      <td>1.113884</td>\n",
       "      <td>1.120078</td>\n",
       "      <td>0</td>\n",
       "    </tr>\n",
       "  </tbody>\n",
       "</table>\n",
       "</div>"
      ],
      "text/plain": [
       "   gender  Near_Location  Partner  Promo_friends  Phone  Contract_period  \\\n",
       "0       1              1        1              1      0                6   \n",
       "1       0              1        0              0      1               12   \n",
       "2       0              1        1              0      1                1   \n",
       "3       0              1        1              1      1               12   \n",
       "4       1              1        1              1      1                1   \n",
       "\n",
       "   Group_visits  Age  Avg_additional_charges_total  Month_to_end_contract  \\\n",
       "0             1   29                     14.227470                    5.0   \n",
       "1             1   31                    113.202938                   12.0   \n",
       "2             0   28                    129.448479                    1.0   \n",
       "3             1   33                     62.669863                   12.0   \n",
       "4             0   26                    198.362265                    1.0   \n",
       "\n",
       "   Lifetime  Avg_class_frequency_total  Avg_class_frequency_current_month  \\\n",
       "0         3                   0.020398                           0.000000   \n",
       "1         7                   1.922936                           1.910244   \n",
       "2         2                   1.859098                           1.736502   \n",
       "3         2                   3.205633                           3.357215   \n",
       "4         3                   1.113884                           1.120078   \n",
       "\n",
       "   Churn  \n",
       "0      0  \n",
       "1      0  \n",
       "2      0  \n",
       "3      0  \n",
       "4      0  "
      ]
     },
     "execution_count": 3,
     "metadata": {},
     "output_type": "execute_result"
    }
   ],
   "source": [
    "df.head()"
   ]
  },
  {
   "cell_type": "code",
   "execution_count": 4,
   "metadata": {},
   "outputs": [
    {
     "name": "stdout",
     "output_type": "stream",
     "text": [
      "<class 'pandas.core.frame.DataFrame'>\n",
      "RangeIndex: 4000 entries, 0 to 3999\n",
      "Data columns (total 14 columns):\n",
      "gender                               4000 non-null int64\n",
      "Near_Location                        4000 non-null int64\n",
      "Partner                              4000 non-null int64\n",
      "Promo_friends                        4000 non-null int64\n",
      "Phone                                4000 non-null int64\n",
      "Contract_period                      4000 non-null int64\n",
      "Group_visits                         4000 non-null int64\n",
      "Age                                  4000 non-null int64\n",
      "Avg_additional_charges_total         4000 non-null float64\n",
      "Month_to_end_contract                4000 non-null float64\n",
      "Lifetime                             4000 non-null int64\n",
      "Avg_class_frequency_total            4000 non-null float64\n",
      "Avg_class_frequency_current_month    4000 non-null float64\n",
      "Churn                                4000 non-null int64\n",
      "dtypes: float64(4), int64(10)\n",
      "memory usage: 437.6 KB\n"
     ]
    }
   ],
   "source": [
    "df.info()"
   ]
  },
  {
   "cell_type": "markdown",
   "metadata": {},
   "source": [
    "В данных присутствуют все признаки из описания. Пропусков нет. Типы данных указаны верно. Большинство переменных имеет бинарные значения 0 или 1, что означает \"нет\" или \"да\" соответственно."
   ]
  },
  {
   "cell_type": "code",
   "execution_count": 5,
   "metadata": {},
   "outputs": [
    {
     "data": {
      "text/plain": [
       "0"
      ]
     },
     "execution_count": 5,
     "metadata": {},
     "output_type": "execute_result"
    }
   ],
   "source": [
    "# проверим на дубликаты\n",
    "df.duplicated().sum()"
   ]
  },
  {
   "cell_type": "markdown",
   "metadata": {},
   "source": [
    "Дубликатов нет."
   ]
  },
  {
   "cell_type": "markdown",
   "metadata": {},
   "source": [
    "<a href=\"#contents\">к оглавлению</a>"
   ]
  },
  {
   "cell_type": "markdown",
   "metadata": {},
   "source": [
    "## Исследовательский анализ данных (EDA)"
   ]
  },
  {
   "cell_type": "markdown",
   "metadata": {},
   "source": [
    "Взглянем на описательную статистику переменных."
   ]
  },
  {
   "cell_type": "code",
   "execution_count": 6,
   "metadata": {},
   "outputs": [
    {
     "data": {
      "text/html": [
       "<div>\n",
       "<style scoped>\n",
       "    .dataframe tbody tr th:only-of-type {\n",
       "        vertical-align: middle;\n",
       "    }\n",
       "\n",
       "    .dataframe tbody tr th {\n",
       "        vertical-align: top;\n",
       "    }\n",
       "\n",
       "    .dataframe thead th {\n",
       "        text-align: right;\n",
       "    }\n",
       "</style>\n",
       "<table border=\"1\" class=\"dataframe\">\n",
       "  <thead>\n",
       "    <tr style=\"text-align: right;\">\n",
       "      <th></th>\n",
       "      <th>count</th>\n",
       "      <th>mean</th>\n",
       "      <th>std</th>\n",
       "      <th>min</th>\n",
       "      <th>25%</th>\n",
       "      <th>50%</th>\n",
       "      <th>75%</th>\n",
       "      <th>max</th>\n",
       "    </tr>\n",
       "  </thead>\n",
       "  <tbody>\n",
       "    <tr>\n",
       "      <td>gender</td>\n",
       "      <td>4000.0</td>\n",
       "      <td>0.510250</td>\n",
       "      <td>0.499957</td>\n",
       "      <td>0.000000</td>\n",
       "      <td>0.000000</td>\n",
       "      <td>1.000000</td>\n",
       "      <td>1.000000</td>\n",
       "      <td>1.000000</td>\n",
       "    </tr>\n",
       "    <tr>\n",
       "      <td>Near_Location</td>\n",
       "      <td>4000.0</td>\n",
       "      <td>0.845250</td>\n",
       "      <td>0.361711</td>\n",
       "      <td>0.000000</td>\n",
       "      <td>1.000000</td>\n",
       "      <td>1.000000</td>\n",
       "      <td>1.000000</td>\n",
       "      <td>1.000000</td>\n",
       "    </tr>\n",
       "    <tr>\n",
       "      <td>Partner</td>\n",
       "      <td>4000.0</td>\n",
       "      <td>0.486750</td>\n",
       "      <td>0.499887</td>\n",
       "      <td>0.000000</td>\n",
       "      <td>0.000000</td>\n",
       "      <td>0.000000</td>\n",
       "      <td>1.000000</td>\n",
       "      <td>1.000000</td>\n",
       "    </tr>\n",
       "    <tr>\n",
       "      <td>Promo_friends</td>\n",
       "      <td>4000.0</td>\n",
       "      <td>0.308500</td>\n",
       "      <td>0.461932</td>\n",
       "      <td>0.000000</td>\n",
       "      <td>0.000000</td>\n",
       "      <td>0.000000</td>\n",
       "      <td>1.000000</td>\n",
       "      <td>1.000000</td>\n",
       "    </tr>\n",
       "    <tr>\n",
       "      <td>Phone</td>\n",
       "      <td>4000.0</td>\n",
       "      <td>0.903500</td>\n",
       "      <td>0.295313</td>\n",
       "      <td>0.000000</td>\n",
       "      <td>1.000000</td>\n",
       "      <td>1.000000</td>\n",
       "      <td>1.000000</td>\n",
       "      <td>1.000000</td>\n",
       "    </tr>\n",
       "    <tr>\n",
       "      <td>Contract_period</td>\n",
       "      <td>4000.0</td>\n",
       "      <td>4.681250</td>\n",
       "      <td>4.549706</td>\n",
       "      <td>1.000000</td>\n",
       "      <td>1.000000</td>\n",
       "      <td>1.000000</td>\n",
       "      <td>6.000000</td>\n",
       "      <td>12.000000</td>\n",
       "    </tr>\n",
       "    <tr>\n",
       "      <td>Group_visits</td>\n",
       "      <td>4000.0</td>\n",
       "      <td>0.412250</td>\n",
       "      <td>0.492301</td>\n",
       "      <td>0.000000</td>\n",
       "      <td>0.000000</td>\n",
       "      <td>0.000000</td>\n",
       "      <td>1.000000</td>\n",
       "      <td>1.000000</td>\n",
       "    </tr>\n",
       "    <tr>\n",
       "      <td>Age</td>\n",
       "      <td>4000.0</td>\n",
       "      <td>29.184250</td>\n",
       "      <td>3.258367</td>\n",
       "      <td>18.000000</td>\n",
       "      <td>27.000000</td>\n",
       "      <td>29.000000</td>\n",
       "      <td>31.000000</td>\n",
       "      <td>41.000000</td>\n",
       "    </tr>\n",
       "    <tr>\n",
       "      <td>Avg_additional_charges_total</td>\n",
       "      <td>4000.0</td>\n",
       "      <td>146.943728</td>\n",
       "      <td>96.355602</td>\n",
       "      <td>0.148205</td>\n",
       "      <td>68.868830</td>\n",
       "      <td>136.220159</td>\n",
       "      <td>210.949625</td>\n",
       "      <td>552.590740</td>\n",
       "    </tr>\n",
       "    <tr>\n",
       "      <td>Month_to_end_contract</td>\n",
       "      <td>4000.0</td>\n",
       "      <td>4.322750</td>\n",
       "      <td>4.191297</td>\n",
       "      <td>1.000000</td>\n",
       "      <td>1.000000</td>\n",
       "      <td>1.000000</td>\n",
       "      <td>6.000000</td>\n",
       "      <td>12.000000</td>\n",
       "    </tr>\n",
       "    <tr>\n",
       "      <td>Lifetime</td>\n",
       "      <td>4000.0</td>\n",
       "      <td>3.724750</td>\n",
       "      <td>3.749267</td>\n",
       "      <td>0.000000</td>\n",
       "      <td>1.000000</td>\n",
       "      <td>3.000000</td>\n",
       "      <td>5.000000</td>\n",
       "      <td>31.000000</td>\n",
       "    </tr>\n",
       "    <tr>\n",
       "      <td>Avg_class_frequency_total</td>\n",
       "      <td>4000.0</td>\n",
       "      <td>1.879020</td>\n",
       "      <td>0.972245</td>\n",
       "      <td>0.000000</td>\n",
       "      <td>1.180875</td>\n",
       "      <td>1.832768</td>\n",
       "      <td>2.536078</td>\n",
       "      <td>6.023668</td>\n",
       "    </tr>\n",
       "    <tr>\n",
       "      <td>Avg_class_frequency_current_month</td>\n",
       "      <td>4000.0</td>\n",
       "      <td>1.767052</td>\n",
       "      <td>1.052906</td>\n",
       "      <td>0.000000</td>\n",
       "      <td>0.963003</td>\n",
       "      <td>1.719574</td>\n",
       "      <td>2.510336</td>\n",
       "      <td>6.146783</td>\n",
       "    </tr>\n",
       "    <tr>\n",
       "      <td>Churn</td>\n",
       "      <td>4000.0</td>\n",
       "      <td>0.265250</td>\n",
       "      <td>0.441521</td>\n",
       "      <td>0.000000</td>\n",
       "      <td>0.000000</td>\n",
       "      <td>0.000000</td>\n",
       "      <td>1.000000</td>\n",
       "      <td>1.000000</td>\n",
       "    </tr>\n",
       "  </tbody>\n",
       "</table>\n",
       "</div>"
      ],
      "text/plain": [
       "                                    count        mean        std        min  \\\n",
       "gender                             4000.0    0.510250   0.499957   0.000000   \n",
       "Near_Location                      4000.0    0.845250   0.361711   0.000000   \n",
       "Partner                            4000.0    0.486750   0.499887   0.000000   \n",
       "Promo_friends                      4000.0    0.308500   0.461932   0.000000   \n",
       "Phone                              4000.0    0.903500   0.295313   0.000000   \n",
       "Contract_period                    4000.0    4.681250   4.549706   1.000000   \n",
       "Group_visits                       4000.0    0.412250   0.492301   0.000000   \n",
       "Age                                4000.0   29.184250   3.258367  18.000000   \n",
       "Avg_additional_charges_total       4000.0  146.943728  96.355602   0.148205   \n",
       "Month_to_end_contract              4000.0    4.322750   4.191297   1.000000   \n",
       "Lifetime                           4000.0    3.724750   3.749267   0.000000   \n",
       "Avg_class_frequency_total          4000.0    1.879020   0.972245   0.000000   \n",
       "Avg_class_frequency_current_month  4000.0    1.767052   1.052906   0.000000   \n",
       "Churn                              4000.0    0.265250   0.441521   0.000000   \n",
       "\n",
       "                                         25%         50%         75%  \\\n",
       "gender                              0.000000    1.000000    1.000000   \n",
       "Near_Location                       1.000000    1.000000    1.000000   \n",
       "Partner                             0.000000    0.000000    1.000000   \n",
       "Promo_friends                       0.000000    0.000000    1.000000   \n",
       "Phone                               1.000000    1.000000    1.000000   \n",
       "Contract_period                     1.000000    1.000000    6.000000   \n",
       "Group_visits                        0.000000    0.000000    1.000000   \n",
       "Age                                27.000000   29.000000   31.000000   \n",
       "Avg_additional_charges_total       68.868830  136.220159  210.949625   \n",
       "Month_to_end_contract               1.000000    1.000000    6.000000   \n",
       "Lifetime                            1.000000    3.000000    5.000000   \n",
       "Avg_class_frequency_total           1.180875    1.832768    2.536078   \n",
       "Avg_class_frequency_current_month   0.963003    1.719574    2.510336   \n",
       "Churn                               0.000000    0.000000    1.000000   \n",
       "\n",
       "                                          max  \n",
       "gender                               1.000000  \n",
       "Near_Location                        1.000000  \n",
       "Partner                              1.000000  \n",
       "Promo_friends                        1.000000  \n",
       "Phone                                1.000000  \n",
       "Contract_period                     12.000000  \n",
       "Group_visits                         1.000000  \n",
       "Age                                 41.000000  \n",
       "Avg_additional_charges_total       552.590740  \n",
       "Month_to_end_contract               12.000000  \n",
       "Lifetime                            31.000000  \n",
       "Avg_class_frequency_total            6.023668  \n",
       "Avg_class_frequency_current_month    6.146783  \n",
       "Churn                                1.000000  "
      ]
     },
     "execution_count": 6,
     "metadata": {},
     "output_type": "execute_result"
    }
   ],
   "source": [
    "# описательная статистика\n",
    "df.describe().T"
   ]
  },
  {
   "cell_type": "markdown",
   "metadata": {},
   "source": [
    "- Из среднего показателя оттока видим, что примерно для 27% посетителей зафиксирован факт оттока;\n",
    "- Мужчины и женщины примерно одинаково представлены в данных;\n",
    "- Около 85% посетителей проживают или работают в районе фитнес-центра;\n",
    "- Около 49% посетителей работают в компаниях-партнерах;\n",
    "- Около 31% посетителей пришли в рамках акции \"приведи друга\";\n",
    "- Около 90% посетителей имеют контактный телефон; \n",
    "- Около 41% посетителей посещают групповые занятия;\n",
    "- Средняя суммарная выручка от других услуг фитнес-центра - 147;\n",
    "- Средний возраст посетителей - 29 лет;\n",
    "- Средняя длительность абонемента - 4.7 месяцев;\n",
    "- Среднее время с момента первого обращения в фитнес-центр - 3.7 месяцев; \n",
    "- Средний срок до окончания текущего действующего абонемента - 4.3 месяца;\n",
    "- Средняя частота посещений в неделю за все время с начала действия абонемента - 1.9 раз;\n",
    "- Средняя частота посещений в неделю за предыдущий месяц - 1.8 раз. \n",
    "\n",
    "Следующие признаки имеют высокое стандартное отклонение по сравнению со средним: \n",
    "- суммарная выручка от других услуг фитнес-центра;\n",
    "- срок до окончания текущего действующего абонемента;\n",
    "- длительность абонемента, частота посещений в неделю за все время с начала действия абонемента;\n",
    "- частота посещений в неделю за предыдущий месяц."
   ]
  },
  {
   "cell_type": "markdown",
   "metadata": {},
   "source": [
    "Посмотрим на средние значения признаков в двух группах — тех, кто ушел в отток (1) и тех, кто остался (0)."
   ]
  },
  {
   "cell_type": "code",
   "execution_count": 7,
   "metadata": {},
   "outputs": [
    {
     "data": {
      "text/html": [
       "<div>\n",
       "<style scoped>\n",
       "    .dataframe tbody tr th:only-of-type {\n",
       "        vertical-align: middle;\n",
       "    }\n",
       "\n",
       "    .dataframe tbody tr th {\n",
       "        vertical-align: top;\n",
       "    }\n",
       "\n",
       "    .dataframe thead th {\n",
       "        text-align: right;\n",
       "    }\n",
       "</style>\n",
       "<table border=\"1\" class=\"dataframe\">\n",
       "  <thead>\n",
       "    <tr style=\"text-align: right;\">\n",
       "      <th>Churn</th>\n",
       "      <th>0</th>\n",
       "      <th>1</th>\n",
       "    </tr>\n",
       "  </thead>\n",
       "  <tbody>\n",
       "    <tr>\n",
       "      <td>gender</td>\n",
       "      <td>0.510037</td>\n",
       "      <td>0.510839</td>\n",
       "    </tr>\n",
       "    <tr>\n",
       "      <td>Near_Location</td>\n",
       "      <td>0.873086</td>\n",
       "      <td>0.768143</td>\n",
       "    </tr>\n",
       "    <tr>\n",
       "      <td>Partner</td>\n",
       "      <td>0.534195</td>\n",
       "      <td>0.355325</td>\n",
       "    </tr>\n",
       "    <tr>\n",
       "      <td>Promo_friends</td>\n",
       "      <td>0.353522</td>\n",
       "      <td>0.183789</td>\n",
       "    </tr>\n",
       "    <tr>\n",
       "      <td>Phone</td>\n",
       "      <td>0.903709</td>\n",
       "      <td>0.902922</td>\n",
       "    </tr>\n",
       "    <tr>\n",
       "      <td>Contract_period</td>\n",
       "      <td>5.747193</td>\n",
       "      <td>1.728558</td>\n",
       "    </tr>\n",
       "    <tr>\n",
       "      <td>Group_visits</td>\n",
       "      <td>0.464103</td>\n",
       "      <td>0.268615</td>\n",
       "    </tr>\n",
       "    <tr>\n",
       "      <td>Age</td>\n",
       "      <td>29.976523</td>\n",
       "      <td>26.989632</td>\n",
       "    </tr>\n",
       "    <tr>\n",
       "      <td>Avg_additional_charges_total</td>\n",
       "      <td>158.445715</td>\n",
       "      <td>115.082899</td>\n",
       "    </tr>\n",
       "    <tr>\n",
       "      <td>Month_to_end_contract</td>\n",
       "      <td>5.283089</td>\n",
       "      <td>1.662582</td>\n",
       "    </tr>\n",
       "    <tr>\n",
       "      <td>Lifetime</td>\n",
       "      <td>4.711807</td>\n",
       "      <td>0.990575</td>\n",
       "    </tr>\n",
       "    <tr>\n",
       "      <td>Avg_class_frequency_total</td>\n",
       "      <td>2.024876</td>\n",
       "      <td>1.474995</td>\n",
       "    </tr>\n",
       "    <tr>\n",
       "      <td>Avg_class_frequency_current_month</td>\n",
       "      <td>2.027882</td>\n",
       "      <td>1.044546</td>\n",
       "    </tr>\n",
       "  </tbody>\n",
       "</table>\n",
       "</div>"
      ],
      "text/plain": [
       "Churn                                       0           1\n",
       "gender                               0.510037    0.510839\n",
       "Near_Location                        0.873086    0.768143\n",
       "Partner                              0.534195    0.355325\n",
       "Promo_friends                        0.353522    0.183789\n",
       "Phone                                0.903709    0.902922\n",
       "Contract_period                      5.747193    1.728558\n",
       "Group_visits                         0.464103    0.268615\n",
       "Age                                 29.976523   26.989632\n",
       "Avg_additional_charges_total       158.445715  115.082899\n",
       "Month_to_end_contract                5.283089    1.662582\n",
       "Lifetime                             4.711807    0.990575\n",
       "Avg_class_frequency_total            2.024876    1.474995\n",
       "Avg_class_frequency_current_month    2.027882    1.044546"
      ]
     },
     "execution_count": 7,
     "metadata": {},
     "output_type": "execute_result"
    }
   ],
   "source": [
    "# средние значения признаков по группам \n",
    "df.groupby('Churn').mean().T"
   ]
  },
  {
   "cell_type": "markdown",
   "metadata": {},
   "source": [
    "Мы видим следующие отличительные признаки среди тех, кто **остался** - **Churn=0**:\n",
    "- доля посетителей, живущих или работающих в районе фитнес-центра, больше;\n",
    "- доля посетителей, являющихся сотрудниками компаний-партнеров, больше;\n",
    "- доля посетителей, пришедших по акции \"приведи друга\", больше;\n",
    "- средняя длительность абонемента больше;\n",
    "- доля посетителей, посещающих групповые занятия, больше;\n",
    "- средний возраст больше;\n",
    "- средний срок до окончания текущего действующего абонемента больше;\n",
    "- среднее время с момента первого обращения в фитнес-центр больше;\n",
    "- средняя частота посещений в неделю за все время с начала действия абонемента больше;\n",
    "- средняя частота посещений в неделю за предыдущий месяц больше.\n",
    "\n",
    "То есть у тех, кто остался, все средние показатели выше."
   ]
  },
  {
   "cell_type": "markdown",
   "metadata": {},
   "source": [
    "Нарисуем гистограммы распределения признаков для двух групп."
   ]
  },
  {
   "cell_type": "code",
   "execution_count": 8,
   "metadata": {
    "scrolled": false
   },
   "outputs": [
    {
     "data": {
      "image/png": "[encoded data removed]",
      "text/plain": [
       "<Figure size 576x360 with 1 Axes>"
      ]
     },
     "metadata": {},
     "output_type": "display_data"
    },
    {
     "data": {
      "image/png": "[encoded data removed]",
      "text/plain": [
       "<Figure size 576x360 with 1 Axes>"
      ]
     },
     "metadata": {},
     "output_type": "display_data"
    },
    {
     "data": {
      "image/png": "[encoded data removed]",
      "text/plain": [
       "<Figure size 576x360 with 1 Axes>"
      ]
     },
     "metadata": {},
     "output_type": "display_data"
    },
    {
     "data": {
      "image/png": "[encoded data removed]",
      "text/plain": [
       "<Figure size 576x360 with 1 Axes>"
      ]
     },
     "metadata": {},
     "output_type": "display_data"
    },
    {
     "data": {
      "image/png": "[encoded data removed]",
      "text/plain": [
       "<Figure size 576x360 with 1 Axes>"
      ]
     },
     "metadata": {},
     "output_type": "display_data"
    },
    {
     "data": {
      "image/png": "[encoded data removed]",
      "text/plain": [
       "<Figure size 576x360 with 1 Axes>"
      ]
     },
     "metadata": {},
     "output_type": "display_data"
    },
    {
     "data": {
      "image/png": "[encoded data removed]",
      "text/plain": [
       "<Figure size 576x360 with 1 Axes>"
      ]
     },
     "metadata": {},
     "output_type": "display_data"
    },
    {
     "data": {
      "image/png": "[encoded data removed]",
      "text/plain": [
       "<Figure size 576x360 with 1 Axes>"
      ]
     },
     "metadata": {},
     "output_type": "display_data"
    },
    {
     "data": {
      "image/png": "[encoded data removed]",
      "text/plain": [
       "<Figure size 576x360 with 1 Axes>"
      ]
     },
     "metadata": {},
     "output_type": "display_data"
    },
    {
     "data": {
      "image/png": "[encoded data removed]",
      "text/plain": [
       "<Figure size 576x360 with 1 Axes>"
      ]
     },
     "metadata": {},
     "output_type": "display_data"
    },
    {
     "data": {
      "image/png": "[encoded data removed]",
      "text/plain": [
       "<Figure size 576x360 with 1 Axes>"
      ]
     },
     "metadata": {},
     "output_type": "display_data"
    },
    {
     "data": {
      "image/png": "[encoded data removed]",
      "text/plain": [
       "<Figure size 576x360 with 1 Axes>"
      ]
     },
     "metadata": {},
     "output_type": "display_data"
    },
    {
     "data": {
      "image/png": "[encoded data removed]",
      "text/plain": [
       "<Figure size 576x360 with 1 Axes>"
      ]
     },
     "metadata": {},
     "output_type": "display_data"
    }
   ],
   "source": [
    "# диаграммы распределения\n",
    "for feature in df.drop(['Churn'], axis=1).columns:\n",
    "    sns.set(style=\"whitegrid\")\n",
    "    plt.figure(figsize=(8,5))\n",
    "    sns.distplot(df[df['Churn']==1][feature], bins=10, label=\"churn=1\")\n",
    "    sns.distplot(df[df['Churn']==0][feature], bins=10, label=\"churn=0\")\n",
    "    plt.legend() \n",
    "    plt.show()"
   ]
  },
  {
   "cell_type": "markdown",
   "metadata": {},
   "source": [
    "Для посетителей, ушедших в отток характерны меньшие значения по всем числовым признакам. Также по бинарным признакам значение 0 (\"нет\") больше характерно для тех, кто ушел в отток. В целом графики подтверждают ранее сделанные выводы."
   ]
  },
  {
   "cell_type": "markdown",
   "metadata": {},
   "source": [
    "Построим матрицу корреляций и тепловую карту."
   ]
  },
  {
   "cell_type": "code",
   "execution_count": 9,
   "metadata": {},
   "outputs": [
    {
     "data": {
      "image/png": "[encoded data removed]",
      "text/plain": [
       "<Figure size 864x720 with 2 Axes>"
      ]
     },
     "metadata": {},
     "output_type": "display_data"
    }
   ],
   "source": [
    "#вычисляем матрицу корреляций\n",
    "cm = df.corr() \n",
    "fig, ax = plt.subplots(figsize=(12, 10))\n",
    "\n",
    "#нарисуем тепловую карту с подписями для матрицы корреляций\n",
    "sns.heatmap(cm, annot = True) \n",
    "plt.show()"
   ]
  },
  {
   "cell_type": "markdown",
   "metadata": {},
   "source": [
    "Мы можем заметить, что признаки не так сильно коррелируют с целевой переменной. Почти все признаки имеют отрицательную корреляцию с целевой переменной. Отрицательная корреляция с целевой переменной больше или равная 40% наблюдается у признаков: средняя частота посещений в неделю за предыдущий месяц, время с момента первого обращения в фитнес-центр и возраст. \n",
    "\n",
    "Среди признаков высокая корреляция (выше 0.8) наблюдается между признаками: Month_to_end_contract и contract_period; 'Avg_class_frequency_current_month' и 'Avg_class_frequency_total'. Действительно, срок до окончания текущего абонемента напрямую зависит от длительности абонемента, и также средняя частота посещений в неделю за все время зависит от средней частоты посещений в неделю за предыдущий месяц. При необходимости можно отбросить по одному признаку из каждой пары."
   ]
  },
  {
   "cell_type": "markdown",
   "metadata": {},
   "source": [
    "<a href=\"#contents\">к оглавлению</a>"
   ]
  },
  {
   "cell_type": "markdown",
   "metadata": {},
   "source": [
    "## Модель прогнозирования оттока пользователей"
   ]
  },
  {
   "cell_type": "markdown",
   "metadata": {},
   "source": [
    "Построим модель бинарной классификации пользователей, где целевой признак — факт оттока пользователя в следующем месяце. Разделим выборку на обучающую и валидационную в соотношении 80/20. Применим два алгоритма - логистическая регрессия и случайный лес. Оценим метрики *accuracy*, *precision* и *recall* для обеих моделей на валидационной выборке. Стоит отметить, что стандартизировать данные для логистической регрессии и случайного леса это делать необязательно. "
   ]
  },
  {
   "cell_type": "code",
   "execution_count": 10,
   "metadata": {},
   "outputs": [],
   "source": [
    "# разделим данные на признаки (матрица X) и целевую переменную (y)\n",
    "X = df.drop('Churn', axis=1)\n",
    "y = df['Churn']"
   ]
  },
  {
   "cell_type": "code",
   "execution_count": 11,
   "metadata": {},
   "outputs": [],
   "source": [
    "# разделяем модель на обучающую и валидационную выборку\n",
    "X_train, X_test, y_train, y_test = train_test_split(X, y, test_size=0.2, random_state=0, stratify = y)"
   ]
  },
  {
   "cell_type": "code",
   "execution_count": 12,
   "metadata": {},
   "outputs": [],
   "source": [
    "# определим функцию, которая будет выводить метрики\n",
    "def print_metrics(y_true, y_pred, title='Метрики классификации'):\n",
    "    print(title)\n",
    "    print('\\tAccuracy: {:.2f}'.format(accuracy_score(y_true, y_pred)))\n",
    "    print('\\tPrecision: {:.2f}'.format(precision_score(y_true, y_pred)))\n",
    "    print('\\tRecall: {:.2f}'.format(recall_score(y_true, y_pred)))"
   ]
  },
  {
   "cell_type": "markdown",
   "metadata": {},
   "source": [
    "Модель логистической регрессии:"
   ]
  },
  {
   "cell_type": "code",
   "execution_count": 13,
   "metadata": {},
   "outputs": [
    {
     "data": {
      "text/plain": [
       "LogisticRegression(C=1.0, class_weight=None, dual=False, fit_intercept=True,\n",
       "                   intercept_scaling=1, l1_ratio=None, max_iter=100,\n",
       "                   multi_class='warn', n_jobs=None, penalty='l2',\n",
       "                   random_state=0, solver='liblinear', tol=0.0001, verbose=0,\n",
       "                   warm_start=False)"
      ]
     },
     "execution_count": 13,
     "metadata": {},
     "output_type": "execute_result"
    }
   ],
   "source": [
    "# зададим алгоритм для модели логистической регрессии\n",
    "lr_model = LogisticRegression(random_state=0, solver='liblinear')\n",
    "\n",
    "# обучим модель\n",
    "lr_model.fit(X_train, y_train)"
   ]
  },
  {
   "cell_type": "code",
   "execution_count": 14,
   "metadata": {},
   "outputs": [],
   "source": [
    "# воспользуемся обученной моделью, чтобы сделать прогнозы\n",
    "lr_predictions = lr_model.predict(X_test)\n",
    "lr_probabilities = lr_model.predict_proba(X_test)[:, 1]"
   ]
  },
  {
   "cell_type": "code",
   "execution_count": 15,
   "metadata": {},
   "outputs": [
    {
     "data": {
      "text/plain": [
       "array([[ 4.96318288e-02,  9.39218184e-02, -2.71059116e-03,\n",
       "        -3.20300307e-01,  4.68146548e-01, -1.94968688e-01,\n",
       "        -7.08444955e-01, -1.95833757e-01, -4.85550193e-03,\n",
       "        -7.85822960e-02, -9.07724882e-01,  3.22844085e+00,\n",
       "        -3.88004738e+00]])"
      ]
     },
     "execution_count": 15,
     "metadata": {},
     "output_type": "execute_result"
    }
   ],
   "source": [
    "# коэффициенты логистической регрессии для всех признаков \n",
    "lr_model.coef_ "
   ]
  },
  {
   "cell_type": "code",
   "execution_count": 16,
   "metadata": {},
   "outputs": [
    {
     "data": {
      "text/plain": [
       "array([8.37570427])"
      ]
     },
     "execution_count": 16,
     "metadata": {},
     "output_type": "execute_result"
    }
   ],
   "source": [
    "# нулевой коэффициент\n",
    "lr_model.intercept_"
   ]
  },
  {
   "cell_type": "code",
   "execution_count": 17,
   "metadata": {},
   "outputs": [
    {
     "data": {
      "text/html": [
       "<div>\n",
       "<style scoped>\n",
       "    .dataframe tbody tr th:only-of-type {\n",
       "        vertical-align: middle;\n",
       "    }\n",
       "\n",
       "    .dataframe tbody tr th {\n",
       "        vertical-align: top;\n",
       "    }\n",
       "\n",
       "    .dataframe thead th {\n",
       "        text-align: right;\n",
       "    }\n",
       "</style>\n",
       "<table border=\"1\" class=\"dataframe\">\n",
       "  <thead>\n",
       "    <tr style=\"text-align: right;\">\n",
       "      <th></th>\n",
       "      <th>gender</th>\n",
       "      <th>Near_Location</th>\n",
       "      <th>Partner</th>\n",
       "      <th>Promo_friends</th>\n",
       "      <th>Phone</th>\n",
       "      <th>Contract_period</th>\n",
       "      <th>Group_visits</th>\n",
       "      <th>Age</th>\n",
       "      <th>Avg_additional_charges_total</th>\n",
       "      <th>Month_to_end_contract</th>\n",
       "      <th>Lifetime</th>\n",
       "      <th>Avg_class_frequency_total</th>\n",
       "      <th>Avg_class_frequency_current_month</th>\n",
       "    </tr>\n",
       "  </thead>\n",
       "  <tbody>\n",
       "    <tr>\n",
       "      <td>3025</td>\n",
       "      <td>0</td>\n",
       "      <td>1</td>\n",
       "      <td>1</td>\n",
       "      <td>1</td>\n",
       "      <td>1</td>\n",
       "      <td>1</td>\n",
       "      <td>1</td>\n",
       "      <td>27</td>\n",
       "      <td>61.347169</td>\n",
       "      <td>1.0</td>\n",
       "      <td>1</td>\n",
       "      <td>1.230596</td>\n",
       "      <td>0.805638</td>\n",
       "    </tr>\n",
       "    <tr>\n",
       "      <td>31</td>\n",
       "      <td>0</td>\n",
       "      <td>1</td>\n",
       "      <td>0</td>\n",
       "      <td>0</td>\n",
       "      <td>1</td>\n",
       "      <td>12</td>\n",
       "      <td>1</td>\n",
       "      <td>32</td>\n",
       "      <td>87.856139</td>\n",
       "      <td>12.0</td>\n",
       "      <td>1</td>\n",
       "      <td>0.000000</td>\n",
       "      <td>0.000000</td>\n",
       "    </tr>\n",
       "    <tr>\n",
       "      <td>2017</td>\n",
       "      <td>1</td>\n",
       "      <td>1</td>\n",
       "      <td>0</td>\n",
       "      <td>0</td>\n",
       "      <td>1</td>\n",
       "      <td>12</td>\n",
       "      <td>1</td>\n",
       "      <td>25</td>\n",
       "      <td>243.128113</td>\n",
       "      <td>12.0</td>\n",
       "      <td>4</td>\n",
       "      <td>1.021601</td>\n",
       "      <td>0.935325</td>\n",
       "    </tr>\n",
       "    <tr>\n",
       "      <td>55</td>\n",
       "      <td>0</td>\n",
       "      <td>1</td>\n",
       "      <td>1</td>\n",
       "      <td>1</td>\n",
       "      <td>0</td>\n",
       "      <td>1</td>\n",
       "      <td>0</td>\n",
       "      <td>30</td>\n",
       "      <td>194.669178</td>\n",
       "      <td>1.0</td>\n",
       "      <td>4</td>\n",
       "      <td>1.893015</td>\n",
       "      <td>1.900943</td>\n",
       "    </tr>\n",
       "    <tr>\n",
       "      <td>2096</td>\n",
       "      <td>1</td>\n",
       "      <td>1</td>\n",
       "      <td>1</td>\n",
       "      <td>0</td>\n",
       "      <td>1</td>\n",
       "      <td>1</td>\n",
       "      <td>0</td>\n",
       "      <td>32</td>\n",
       "      <td>101.187972</td>\n",
       "      <td>1.0</td>\n",
       "      <td>5</td>\n",
       "      <td>1.837830</td>\n",
       "      <td>1.804372</td>\n",
       "    </tr>\n",
       "  </tbody>\n",
       "</table>\n",
       "</div>"
      ],
      "text/plain": [
       "      gender  Near_Location  Partner  Promo_friends  Phone  Contract_period  \\\n",
       "3025       0              1        1              1      1                1   \n",
       "31         0              1        0              0      1               12   \n",
       "2017       1              1        0              0      1               12   \n",
       "55         0              1        1              1      0                1   \n",
       "2096       1              1        1              0      1                1   \n",
       "\n",
       "      Group_visits  Age  Avg_additional_charges_total  Month_to_end_contract  \\\n",
       "3025             1   27                     61.347169                    1.0   \n",
       "31               1   32                     87.856139                   12.0   \n",
       "2017             1   25                    243.128113                   12.0   \n",
       "55               0   30                    194.669178                    1.0   \n",
       "2096             0   32                    101.187972                    1.0   \n",
       "\n",
       "      Lifetime  Avg_class_frequency_total  Avg_class_frequency_current_month  \n",
       "3025         1                   1.230596                           0.805638  \n",
       "31           1                   0.000000                           0.000000  \n",
       "2017         4                   1.021601                           0.935325  \n",
       "55           4                   1.893015                           1.900943  \n",
       "2096         5                   1.837830                           1.804372  "
      ]
     },
     "execution_count": 17,
     "metadata": {},
     "output_type": "execute_result"
    }
   ],
   "source": [
    "X_test.head()"
   ]
  },
  {
   "cell_type": "markdown",
   "metadata": {},
   "source": [
    "Исходя из величин коэффициентов, наибольшее влияние имеют признаки Promo_friends, Phone, Contract_period, Group_visits, Age, Lifetime, Avg_class_frequency_total, Avg_class_frequency_current_month. Все коэффициенты отрицательные, кроме Gender, Near_Location, Phone и Avg_class_frequency_total. Некоторые результаты бессмысленны. Вероятно, проблема - мультиколлинеарность, как мы выяснили раннее из корреляционного анализа."
   ]
  },
  {
   "cell_type": "markdown",
   "metadata": {},
   "source": [
    "Удалим дублирующие признаки Month_to_end_contract и Avg_class_frequency_total, и снова применим логистическую регрессию."
   ]
  },
  {
   "cell_type": "code",
   "execution_count": 18,
   "metadata": {},
   "outputs": [],
   "source": [
    "X_train_filt = X_train.drop(['Month_to_end_contract', 'Avg_class_frequency_total'], axis=1)"
   ]
  },
  {
   "cell_type": "code",
   "execution_count": 19,
   "metadata": {},
   "outputs": [],
   "source": [
    "X_test_filt = X_test.drop(['Month_to_end_contract', 'Avg_class_frequency_total'], axis=1)"
   ]
  },
  {
   "cell_type": "code",
   "execution_count": 20,
   "metadata": {},
   "outputs": [
    {
     "data": {
      "text/plain": [
       "LogisticRegression(C=1.0, class_weight=None, dual=False, fit_intercept=True,\n",
       "                   intercept_scaling=1, l1_ratio=None, max_iter=100,\n",
       "                   multi_class='warn', n_jobs=None, penalty='l2',\n",
       "                   random_state=0, solver='liblinear', tol=0.0001, verbose=0,\n",
       "                   warm_start=False)"
      ]
     },
     "execution_count": 20,
     "metadata": {},
     "output_type": "execute_result"
    }
   ],
   "source": [
    "# зададим алгоритм для второй модели логистической регрессии\n",
    "lr_model_filt = LogisticRegression(random_state=0, solver='liblinear')\n",
    "\n",
    "# обучим модель\n",
    "lr_model_filt.fit(X_train_filt, y_train)"
   ]
  },
  {
   "cell_type": "code",
   "execution_count": 21,
   "metadata": {},
   "outputs": [],
   "source": [
    "# воспользуемся обученной моделью, чтобы сделать прогнозы\n",
    "lr_predictions_filt = lr_model_filt.predict(X_test_filt)\n",
    "lr_probabilities_filt = lr_model_filt.predict_proba(X_test_filt)[:, 1]"
   ]
  },
  {
   "cell_type": "code",
   "execution_count": 22,
   "metadata": {},
   "outputs": [
    {
     "data": {
      "text/plain": [
       "array([[ 0.11672072,  0.08034751,  0.0256596 , -0.33116978,  0.23551876,\n",
       "        -0.2812108 , -0.65254483, -0.20081566, -0.00484481, -0.91423217,\n",
       "        -1.07076784]])"
      ]
     },
     "execution_count": 22,
     "metadata": {},
     "output_type": "execute_result"
    }
   ],
   "source": [
    "# коэффициенты второй логистической регрессии для всех признаков \n",
    "lr_model_filt.coef_ "
   ]
  },
  {
   "cell_type": "code",
   "execution_count": 23,
   "metadata": {},
   "outputs": [
    {
     "data": {
      "text/plain": [
       "array([9.76658269])"
      ]
     },
     "execution_count": 23,
     "metadata": {},
     "output_type": "execute_result"
    }
   ],
   "source": [
    "# нулевой коэффициент\n",
    "lr_model_filt.intercept_"
   ]
  },
  {
   "cell_type": "code",
   "execution_count": 24,
   "metadata": {},
   "outputs": [
    {
     "data": {
      "text/html": [
       "<div>\n",
       "<style scoped>\n",
       "    .dataframe tbody tr th:only-of-type {\n",
       "        vertical-align: middle;\n",
       "    }\n",
       "\n",
       "    .dataframe tbody tr th {\n",
       "        vertical-align: top;\n",
       "    }\n",
       "\n",
       "    .dataframe thead th {\n",
       "        text-align: right;\n",
       "    }\n",
       "</style>\n",
       "<table border=\"1\" class=\"dataframe\">\n",
       "  <thead>\n",
       "    <tr style=\"text-align: right;\">\n",
       "      <th></th>\n",
       "      <th>gender</th>\n",
       "      <th>Near_Location</th>\n",
       "      <th>Partner</th>\n",
       "      <th>Promo_friends</th>\n",
       "      <th>Phone</th>\n",
       "      <th>Contract_period</th>\n",
       "      <th>Group_visits</th>\n",
       "      <th>Age</th>\n",
       "      <th>Avg_additional_charges_total</th>\n",
       "      <th>Lifetime</th>\n",
       "      <th>Avg_class_frequency_current_month</th>\n",
       "    </tr>\n",
       "  </thead>\n",
       "  <tbody>\n",
       "    <tr>\n",
       "      <td>2702</td>\n",
       "      <td>1</td>\n",
       "      <td>1</td>\n",
       "      <td>1</td>\n",
       "      <td>0</td>\n",
       "      <td>1</td>\n",
       "      <td>6</td>\n",
       "      <td>1</td>\n",
       "      <td>31</td>\n",
       "      <td>56.345649</td>\n",
       "      <td>3</td>\n",
       "      <td>0.000000</td>\n",
       "    </tr>\n",
       "    <tr>\n",
       "      <td>1709</td>\n",
       "      <td>1</td>\n",
       "      <td>1</td>\n",
       "      <td>0</td>\n",
       "      <td>0</td>\n",
       "      <td>1</td>\n",
       "      <td>12</td>\n",
       "      <td>1</td>\n",
       "      <td>25</td>\n",
       "      <td>161.385863</td>\n",
       "      <td>2</td>\n",
       "      <td>3.094860</td>\n",
       "    </tr>\n",
       "    <tr>\n",
       "      <td>907</td>\n",
       "      <td>0</td>\n",
       "      <td>1</td>\n",
       "      <td>0</td>\n",
       "      <td>1</td>\n",
       "      <td>1</td>\n",
       "      <td>6</td>\n",
       "      <td>1</td>\n",
       "      <td>30</td>\n",
       "      <td>175.561159</td>\n",
       "      <td>2</td>\n",
       "      <td>1.199163</td>\n",
       "    </tr>\n",
       "    <tr>\n",
       "      <td>1991</td>\n",
       "      <td>0</td>\n",
       "      <td>1</td>\n",
       "      <td>1</td>\n",
       "      <td>1</td>\n",
       "      <td>1</td>\n",
       "      <td>6</td>\n",
       "      <td>1</td>\n",
       "      <td>25</td>\n",
       "      <td>49.844578</td>\n",
       "      <td>0</td>\n",
       "      <td>2.513288</td>\n",
       "    </tr>\n",
       "    <tr>\n",
       "      <td>3680</td>\n",
       "      <td>0</td>\n",
       "      <td>1</td>\n",
       "      <td>0</td>\n",
       "      <td>1</td>\n",
       "      <td>0</td>\n",
       "      <td>12</td>\n",
       "      <td>1</td>\n",
       "      <td>29</td>\n",
       "      <td>148.153962</td>\n",
       "      <td>2</td>\n",
       "      <td>1.430624</td>\n",
       "    </tr>\n",
       "  </tbody>\n",
       "</table>\n",
       "</div>"
      ],
      "text/plain": [
       "      gender  Near_Location  Partner  Promo_friends  Phone  Contract_period  \\\n",
       "2702       1              1        1              0      1                6   \n",
       "1709       1              1        0              0      1               12   \n",
       "907        0              1        0              1      1                6   \n",
       "1991       0              1        1              1      1                6   \n",
       "3680       0              1        0              1      0               12   \n",
       "\n",
       "      Group_visits  Age  Avg_additional_charges_total  Lifetime  \\\n",
       "2702             1   31                     56.345649         3   \n",
       "1709             1   25                    161.385863         2   \n",
       "907              1   30                    175.561159         2   \n",
       "1991             1   25                     49.844578         0   \n",
       "3680             1   29                    148.153962         2   \n",
       "\n",
       "      Avg_class_frequency_current_month  \n",
       "2702                           0.000000  \n",
       "1709                           3.094860  \n",
       "907                            1.199163  \n",
       "1991                           2.513288  \n",
       "3680                           1.430624  "
      ]
     },
     "execution_count": 24,
     "metadata": {},
     "output_type": "execute_result"
    }
   ],
   "source": [
    "X_train_filt.head()"
   ]
  },
  {
   "cell_type": "markdown",
   "metadata": {},
   "source": [
    "Исходя из величины коэффициентов, наибольшее влияние также имеют признаки Promo_friends, Phone, Contract_period, Group_visits, Age, Lifetime, Avg_class_frequency_current_month. Все коэффициенты отрицательные, кроме Phone, Gender, Near_Location и Partner.\n",
    " \n",
    "Нужно помнить, что мы не можем полностью полагаться на результаты линейной регрессии, чтобы объяснить и доказать причинно-следственную связь между признаком и целевой переменной."
   ]
  },
  {
   "cell_type": "markdown",
   "metadata": {},
   "source": [
    "Теперь построим модель случайного леса с числом деревьев n_estimators = 100:"
   ]
  },
  {
   "cell_type": "code",
   "execution_count": 25,
   "metadata": {},
   "outputs": [
    {
     "data": {
      "text/plain": [
       "RandomForestClassifier(bootstrap=True, class_weight=None, criterion='gini',\n",
       "                       max_depth=None, max_features='auto', max_leaf_nodes=None,\n",
       "                       min_impurity_decrease=0.0, min_impurity_split=None,\n",
       "                       min_samples_leaf=1, min_samples_split=2,\n",
       "                       min_weight_fraction_leaf=0.0, n_estimators=100,\n",
       "                       n_jobs=None, oob_score=False, random_state=0, verbose=0,\n",
       "                       warm_start=False)"
      ]
     },
     "execution_count": 25,
     "metadata": {},
     "output_type": "execute_result"
    }
   ],
   "source": [
    "# зададим алгоритм для модели на основе алгоритма случайного леса\n",
    "rf_model = RandomForestClassifier(n_estimators = 100, random_state=0) \n",
    "\n",
    "# обучим модель случайного леса\n",
    "rf_model.fit(X_train, y_train)"
   ]
  },
  {
   "cell_type": "code",
   "execution_count": 26,
   "metadata": {},
   "outputs": [],
   "source": [
    "# воспользуемся обученной моделью, чтобы сделать прогнозы\n",
    "rf_predictions = rf_model.predict(X_test) \n",
    "rf_probabilities = rf_model.predict_proba(X_test)[:, 1]"
   ]
  },
  {
   "cell_type": "markdown",
   "metadata": {},
   "source": [
    "Посмотрим на значимость признаков в модели случайного леса в убывающем порядке."
   ]
  },
  {
   "cell_type": "code",
   "execution_count": 27,
   "metadata": {},
   "outputs": [
    {
     "name": "stdout",
     "output_type": "stream",
     "text": [
      "                              feature  importance\n",
      "0                              gender    0.012293\n",
      "1                       Near_Location    0.009924\n",
      "2                             Partner    0.012099\n",
      "3                       Promo_friends    0.010499\n",
      "4                               Phone    0.006511\n",
      "5                     Contract_period    0.067406\n",
      "6                        Group_visits    0.016090\n",
      "7                                 Age    0.121477\n",
      "8        Avg_additional_charges_total    0.088327\n",
      "9               Month_to_end_contract    0.072941\n",
      "10                           Lifetime    0.270336\n",
      "11          Avg_class_frequency_total    0.135955\n",
      "12  Avg_class_frequency_current_month    0.176142\n"
     ]
    }
   ],
   "source": [
    "# создадим таблицу с важностью признаков\n",
    "fi_df = pd.DataFrame(\n",
    "    data={'feature': X.columns, 'importance': rf_model.feature_importances_}\n",
    ")\n",
    "fi_df.sort_values('importance', ascending=False)\n",
    "print(fi_df)"
   ]
  },
  {
   "cell_type": "markdown",
   "metadata": {},
   "source": [
    "Видим, что наиболее важные признаки - Age, Lifetime,  Avg_class_frequency_total и Avg_class_frequency_current_month."
   ]
  },
  {
   "cell_type": "markdown",
   "metadata": {},
   "source": [
    "Теперь применим случайный лес на отфильтрованной выборке."
   ]
  },
  {
   "cell_type": "code",
   "execution_count": 28,
   "metadata": {},
   "outputs": [
    {
     "data": {
      "text/plain": [
       "RandomForestClassifier(bootstrap=True, class_weight=None, criterion='gini',\n",
       "                       max_depth=None, max_features='auto', max_leaf_nodes=None,\n",
       "                       min_impurity_decrease=0.0, min_impurity_split=None,\n",
       "                       min_samples_leaf=1, min_samples_split=2,\n",
       "                       min_weight_fraction_leaf=0.0, n_estimators=100,\n",
       "                       n_jobs=None, oob_score=False, random_state=0, verbose=0,\n",
       "                       warm_start=False)"
      ]
     },
     "execution_count": 28,
     "metadata": {},
     "output_type": "execute_result"
    }
   ],
   "source": [
    "# зададим алгоритм для модели на основе алгоритма случайного леса\n",
    "rf_model_filt = RandomForestClassifier(n_estimators = 100, random_state=0) \n",
    "\n",
    "# обучим модель случайного леса\n",
    "rf_model_filt.fit(X_train_filt, y_train)"
   ]
  },
  {
   "cell_type": "code",
   "execution_count": 29,
   "metadata": {},
   "outputs": [],
   "source": [
    "# воспользуемся обученной моделью, чтобы сделать прогнозы\n",
    "rf_predictions_filt = rf_model_filt.predict(X_test_filt) \n",
    "rf_probabilities_filt = rf_model_filt.predict_proba(X_test_filt)[:, 1]"
   ]
  },
  {
   "cell_type": "markdown",
   "metadata": {},
   "source": [
    "Посмотрим снова на значимость признаков в модели случайного леса в убывающем порядке."
   ]
  },
  {
   "cell_type": "code",
   "execution_count": 30,
   "metadata": {},
   "outputs": [
    {
     "name": "stdout",
     "output_type": "stream",
     "text": [
      "                              feature  importance\n",
      "0                              gender    0.016574\n",
      "1                       Near_Location    0.013045\n",
      "2                             Partner    0.016854\n",
      "3                       Promo_friends    0.013606\n",
      "4                               Phone    0.008662\n",
      "5                     Contract_period    0.110377\n",
      "6                        Group_visits    0.020768\n",
      "7                                 Age    0.144186\n",
      "8        Avg_additional_charges_total    0.122384\n",
      "9                            Lifetime    0.317762\n",
      "10  Avg_class_frequency_current_month    0.215782\n"
     ]
    }
   ],
   "source": [
    "# создадим таблицу с важностью признаков\n",
    "fi_df_filt = pd.DataFrame(\n",
    "    data={'feature': X_train_filt.columns, 'importance': rf_model_filt.feature_importances_}\n",
    ")\n",
    "fi_df_filt.sort_values('importance', ascending=False)\n",
    "print(fi_df_filt)"
   ]
  },
  {
   "cell_type": "markdown",
   "metadata": {},
   "source": [
    "Видим, что наиболее важные признаки теперь - Contract_period, Age, Avg_additional_charges_total, Lifetime и Avg_class_frequency_current_month."
   ]
  },
  {
   "cell_type": "markdown",
   "metadata": {},
   "source": [
    "Выведем метрики для четырех моделей."
   ]
  },
  {
   "cell_type": "code",
   "execution_count": 31,
   "metadata": {},
   "outputs": [
    {
     "name": "stdout",
     "output_type": "stream",
     "text": [
      "Метрики для модели логистической регрессии:\n",
      "\tAccuracy: 0.93\n",
      "\tPrecision: 0.89\n",
      "\tRecall: 0.84\n"
     ]
    }
   ],
   "source": [
    "# выведем метрики для модели логистической регрессии\n",
    "print_metrics(\n",
    "    y_test,\n",
    "    lr_predictions,\n",
    "   title='Метрики для модели логистической регрессии:'\n",
    ")"
   ]
  },
  {
   "cell_type": "code",
   "execution_count": 32,
   "metadata": {},
   "outputs": [
    {
     "name": "stdout",
     "output_type": "stream",
     "text": [
      "Метрики для второй модели логистической регрессии:\n",
      "\tAccuracy: 0.91\n",
      "\tPrecision: 0.85\n",
      "\tRecall: 0.82\n"
     ]
    }
   ],
   "source": [
    "# выведем метрики для второй модели логистической регрессии \n",
    "print_metrics(\n",
    "    y_test,\n",
    "    lr_predictions_filt,\n",
    "   title='Метрики для второй модели логистической регрессии:'\n",
    ")"
   ]
  },
  {
   "cell_type": "code",
   "execution_count": 33,
   "metadata": {},
   "outputs": [
    {
     "name": "stdout",
     "output_type": "stream",
     "text": [
      "Метрики для модели случайного леса:\n",
      "\tAccuracy: 0.92\n",
      "\tPrecision: 0.88\n",
      "\tRecall: 0.83\n"
     ]
    }
   ],
   "source": [
    "# выведем метрики для модели случайного леса\n",
    "print_metrics(\n",
    "     y_test,\n",
    "    rf_predictions,\n",
    "   title='Метрики для модели случайного леса:'\n",
    ")"
   ]
  },
  {
   "cell_type": "code",
   "execution_count": 34,
   "metadata": {},
   "outputs": [
    {
     "name": "stdout",
     "output_type": "stream",
     "text": [
      "Метрики для второй модели случайного леса:\n",
      "\tAccuracy: 0.90\n",
      "\tPrecision: 0.85\n",
      "\tRecall: 0.77\n"
     ]
    }
   ],
   "source": [
    "# выведем метрики для второй модели случайного леса\n",
    "print_metrics(\n",
    "     y_test,\n",
    "    rf_predictions_filt,\n",
    "   title='Метрики для второй модели случайного леса:'\n",
    ")"
   ]
  },
  {
   "cell_type": "markdown",
   "metadata": {},
   "source": [
    "В целом обе модели хороши. Однако логистическая регрессия имеет более высокие значения всех метрик. Среди двух логистических регрессий первая показала более высокие значения метрик. Среди двух моделей случайного леса, первая показала более высокие значения метрик."
   ]
  },
  {
   "cell_type": "markdown",
   "metadata": {},
   "source": [
    "<a href=\"#contents\">к оглавлению</a>"
   ]
  },
  {
   "cell_type": "markdown",
   "metadata": {},
   "source": [
    "## Кластеризация посетителей"
   ]
  },
  {
   "cell_type": "markdown",
   "metadata": {},
   "source": [
    "Выделим несколько наиболее выраженных групп клиентов. Для этого нарисуем дендрограмму. Затем обучим модель кластеризации на основании алгоритма K-Means и спрогнозируем кластеры клиентов. Число кластеров возьмем n = 5."
   ]
  },
  {
   "cell_type": "code",
   "execution_count": 35,
   "metadata": {},
   "outputs": [],
   "source": [
    "# стандартизируем данные\n",
    "sc = StandardScaler()\n",
    "X_st = sc.fit_transform(X)"
   ]
  },
  {
   "cell_type": "code",
   "execution_count": 36,
   "metadata": {},
   "outputs": [],
   "source": [
    "# создадим таблицу связок\n",
    "linked = linkage(X_st, method = 'ward') "
   ]
  },
  {
   "cell_type": "code",
   "execution_count": 37,
   "metadata": {
    "scrolled": false
   },
   "outputs": [
    {
     "data": {
      "image/png": "[encoded data removed]",
      "text/plain": [
       "<Figure size 936x576 with 1 Axes>"
      ]
     },
     "metadata": {},
     "output_type": "display_data"
    }
   ],
   "source": [
    "# нарисуем дендрограмму\n",
    "plt.figure(figsize=(13, 8))  \n",
    "dendrogram(linked, orientation='top')\n",
    "plt.show() "
   ]
  },
  {
   "cell_type": "markdown",
   "metadata": {},
   "source": [
    "Предложенное оптимальное число кластеров 4 — четыре разных цвета на графике. Можно сиреневый кластер разбить еще на два кластера, тогда в итоге получим 5 разных кластеров."
   ]
  },
  {
   "cell_type": "code",
   "execution_count": 38,
   "metadata": {},
   "outputs": [],
   "source": [
    "# задаём модель K-means с числом кластеров 5\n",
    "km = KMeans(n_clusters = 5, random_state=0)"
   ]
  },
  {
   "cell_type": "code",
   "execution_count": 39,
   "metadata": {},
   "outputs": [],
   "source": [
    "# прогнозируем кластеры для наблюдений (алгоритм присваивает им номера от 0 до 4)\n",
    "labels = km.fit_predict(X_st)"
   ]
  },
  {
   "cell_type": "code",
   "execution_count": 40,
   "metadata": {},
   "outputs": [],
   "source": [
    "# сохраняем метки кластера в поле нашего датасета\n",
    "X['cluster_km'] = labels"
   ]
  },
  {
   "cell_type": "code",
   "execution_count": 41,
   "metadata": {},
   "outputs": [
    {
     "data": {
      "text/html": [
       "<div>\n",
       "<style scoped>\n",
       "    .dataframe tbody tr th:only-of-type {\n",
       "        vertical-align: middle;\n",
       "    }\n",
       "\n",
       "    .dataframe tbody tr th {\n",
       "        vertical-align: top;\n",
       "    }\n",
       "\n",
       "    .dataframe thead th {\n",
       "        text-align: right;\n",
       "    }\n",
       "</style>\n",
       "<table border=\"1\" class=\"dataframe\">\n",
       "  <thead>\n",
       "    <tr style=\"text-align: right;\">\n",
       "      <th></th>\n",
       "      <th>gender</th>\n",
       "      <th>Near_Location</th>\n",
       "      <th>Partner</th>\n",
       "      <th>Promo_friends</th>\n",
       "      <th>Phone</th>\n",
       "      <th>Contract_period</th>\n",
       "      <th>Group_visits</th>\n",
       "      <th>Age</th>\n",
       "      <th>Avg_additional_charges_total</th>\n",
       "      <th>Month_to_end_contract</th>\n",
       "      <th>Lifetime</th>\n",
       "      <th>Avg_class_frequency_total</th>\n",
       "      <th>Avg_class_frequency_current_month</th>\n",
       "      <th>cluster_km</th>\n",
       "    </tr>\n",
       "  </thead>\n",
       "  <tbody>\n",
       "    <tr>\n",
       "      <td>0</td>\n",
       "      <td>1</td>\n",
       "      <td>1</td>\n",
       "      <td>1</td>\n",
       "      <td>1</td>\n",
       "      <td>0</td>\n",
       "      <td>6</td>\n",
       "      <td>1</td>\n",
       "      <td>29</td>\n",
       "      <td>14.227470</td>\n",
       "      <td>5.0</td>\n",
       "      <td>3</td>\n",
       "      <td>0.020398</td>\n",
       "      <td>0.000000</td>\n",
       "      <td>1</td>\n",
       "    </tr>\n",
       "    <tr>\n",
       "      <td>1</td>\n",
       "      <td>0</td>\n",
       "      <td>1</td>\n",
       "      <td>0</td>\n",
       "      <td>0</td>\n",
       "      <td>1</td>\n",
       "      <td>12</td>\n",
       "      <td>1</td>\n",
       "      <td>31</td>\n",
       "      <td>113.202938</td>\n",
       "      <td>12.0</td>\n",
       "      <td>7</td>\n",
       "      <td>1.922936</td>\n",
       "      <td>1.910244</td>\n",
       "      <td>0</td>\n",
       "    </tr>\n",
       "    <tr>\n",
       "      <td>2</td>\n",
       "      <td>0</td>\n",
       "      <td>1</td>\n",
       "      <td>1</td>\n",
       "      <td>0</td>\n",
       "      <td>1</td>\n",
       "      <td>1</td>\n",
       "      <td>0</td>\n",
       "      <td>28</td>\n",
       "      <td>129.448479</td>\n",
       "      <td>1.0</td>\n",
       "      <td>2</td>\n",
       "      <td>1.859098</td>\n",
       "      <td>1.736502</td>\n",
       "      <td>3</td>\n",
       "    </tr>\n",
       "    <tr>\n",
       "      <td>3</td>\n",
       "      <td>0</td>\n",
       "      <td>1</td>\n",
       "      <td>1</td>\n",
       "      <td>1</td>\n",
       "      <td>1</td>\n",
       "      <td>12</td>\n",
       "      <td>1</td>\n",
       "      <td>33</td>\n",
       "      <td>62.669863</td>\n",
       "      <td>12.0</td>\n",
       "      <td>2</td>\n",
       "      <td>3.205633</td>\n",
       "      <td>3.357215</td>\n",
       "      <td>0</td>\n",
       "    </tr>\n",
       "    <tr>\n",
       "      <td>4</td>\n",
       "      <td>1</td>\n",
       "      <td>1</td>\n",
       "      <td>1</td>\n",
       "      <td>1</td>\n",
       "      <td>1</td>\n",
       "      <td>1</td>\n",
       "      <td>0</td>\n",
       "      <td>26</td>\n",
       "      <td>198.362265</td>\n",
       "      <td>1.0</td>\n",
       "      <td>3</td>\n",
       "      <td>1.113884</td>\n",
       "      <td>1.120078</td>\n",
       "      <td>3</td>\n",
       "    </tr>\n",
       "  </tbody>\n",
       "</table>\n",
       "</div>"
      ],
      "text/plain": [
       "   gender  Near_Location  Partner  Promo_friends  Phone  Contract_period  \\\n",
       "0       1              1        1              1      0                6   \n",
       "1       0              1        0              0      1               12   \n",
       "2       0              1        1              0      1                1   \n",
       "3       0              1        1              1      1               12   \n",
       "4       1              1        1              1      1                1   \n",
       "\n",
       "   Group_visits  Age  Avg_additional_charges_total  Month_to_end_contract  \\\n",
       "0             1   29                     14.227470                    5.0   \n",
       "1             1   31                    113.202938                   12.0   \n",
       "2             0   28                    129.448479                    1.0   \n",
       "3             1   33                     62.669863                   12.0   \n",
       "4             0   26                    198.362265                    1.0   \n",
       "\n",
       "   Lifetime  Avg_class_frequency_total  Avg_class_frequency_current_month  \\\n",
       "0         3                   0.020398                           0.000000   \n",
       "1         7                   1.922936                           1.910244   \n",
       "2         2                   1.859098                           1.736502   \n",
       "3         2                   3.205633                           3.357215   \n",
       "4         3                   1.113884                           1.120078   \n",
       "\n",
       "   cluster_km  \n",
       "0           1  \n",
       "1           0  \n",
       "2           3  \n",
       "3           0  \n",
       "4           3  "
      ]
     },
     "execution_count": 41,
     "metadata": {},
     "output_type": "execute_result"
    }
   ],
   "source": [
    "X.head()"
   ]
  },
  {
   "cell_type": "code",
   "execution_count": 42,
   "metadata": {},
   "outputs": [
    {
     "data": {
      "text/html": [
       "<div>\n",
       "<style scoped>\n",
       "    .dataframe tbody tr th:only-of-type {\n",
       "        vertical-align: middle;\n",
       "    }\n",
       "\n",
       "    .dataframe tbody tr th {\n",
       "        vertical-align: top;\n",
       "    }\n",
       "\n",
       "    .dataframe thead th {\n",
       "        text-align: right;\n",
       "    }\n",
       "</style>\n",
       "<table border=\"1\" class=\"dataframe\">\n",
       "  <thead>\n",
       "    <tr style=\"text-align: right;\">\n",
       "      <th></th>\n",
       "      <th>gender</th>\n",
       "      <th>Near_Location</th>\n",
       "      <th>Partner</th>\n",
       "      <th>Promo_friends</th>\n",
       "      <th>Phone</th>\n",
       "      <th>Contract_period</th>\n",
       "      <th>Group_visits</th>\n",
       "      <th>Age</th>\n",
       "      <th>Avg_additional_charges_total</th>\n",
       "      <th>Month_to_end_contract</th>\n",
       "      <th>Lifetime</th>\n",
       "      <th>Avg_class_frequency_total</th>\n",
       "      <th>Avg_class_frequency_current_month</th>\n",
       "    </tr>\n",
       "    <tr>\n",
       "      <th>cluster_km</th>\n",
       "      <th></th>\n",
       "      <th></th>\n",
       "      <th></th>\n",
       "      <th></th>\n",
       "      <th></th>\n",
       "      <th></th>\n",
       "      <th></th>\n",
       "      <th></th>\n",
       "      <th></th>\n",
       "      <th></th>\n",
       "      <th></th>\n",
       "      <th></th>\n",
       "      <th></th>\n",
       "    </tr>\n",
       "  </thead>\n",
       "  <tbody>\n",
       "    <tr>\n",
       "      <td>0</td>\n",
       "      <td>0.502473</td>\n",
       "      <td>0.959446</td>\n",
       "      <td>0.783383</td>\n",
       "      <td>0.574679</td>\n",
       "      <td>1.000000</td>\n",
       "      <td>10.884273</td>\n",
       "      <td>0.543027</td>\n",
       "      <td>29.980218</td>\n",
       "      <td>160.706969</td>\n",
       "      <td>9.950544</td>\n",
       "      <td>4.738872</td>\n",
       "      <td>1.983305</td>\n",
       "      <td>1.976225</td>\n",
       "    </tr>\n",
       "    <tr>\n",
       "      <td>1</td>\n",
       "      <td>0.522078</td>\n",
       "      <td>0.862338</td>\n",
       "      <td>0.470130</td>\n",
       "      <td>0.306494</td>\n",
       "      <td>0.000000</td>\n",
       "      <td>4.787013</td>\n",
       "      <td>0.425974</td>\n",
       "      <td>29.301299</td>\n",
       "      <td>143.957664</td>\n",
       "      <td>4.475325</td>\n",
       "      <td>3.924675</td>\n",
       "      <td>1.847220</td>\n",
       "      <td>1.716369</td>\n",
       "    </tr>\n",
       "    <tr>\n",
       "      <td>2</td>\n",
       "      <td>0.495050</td>\n",
       "      <td>0.000000</td>\n",
       "      <td>0.463366</td>\n",
       "      <td>0.079208</td>\n",
       "      <td>1.000000</td>\n",
       "      <td>2.352475</td>\n",
       "      <td>0.215842</td>\n",
       "      <td>28.477228</td>\n",
       "      <td>135.457501</td>\n",
       "      <td>2.198020</td>\n",
       "      <td>2.809901</td>\n",
       "      <td>1.660461</td>\n",
       "      <td>1.477324</td>\n",
       "    </tr>\n",
       "    <tr>\n",
       "      <td>3</td>\n",
       "      <td>0.485737</td>\n",
       "      <td>1.000000</td>\n",
       "      <td>0.350238</td>\n",
       "      <td>0.240095</td>\n",
       "      <td>1.000000</td>\n",
       "      <td>1.948494</td>\n",
       "      <td>0.341521</td>\n",
       "      <td>28.167987</td>\n",
       "      <td>131.622204</td>\n",
       "      <td>1.856577</td>\n",
       "      <td>2.440571</td>\n",
       "      <td>1.247634</td>\n",
       "      <td>1.012983</td>\n",
       "    </tr>\n",
       "    <tr>\n",
       "      <td>4</td>\n",
       "      <td>0.560335</td>\n",
       "      <td>0.976105</td>\n",
       "      <td>0.356033</td>\n",
       "      <td>0.229391</td>\n",
       "      <td>0.998805</td>\n",
       "      <td>2.665472</td>\n",
       "      <td>0.473118</td>\n",
       "      <td>30.127838</td>\n",
       "      <td>161.724258</td>\n",
       "      <td>2.455197</td>\n",
       "      <td>4.896057</td>\n",
       "      <td>2.851531</td>\n",
       "      <td>2.849473</td>\n",
       "    </tr>\n",
       "  </tbody>\n",
       "</table>\n",
       "</div>"
      ],
      "text/plain": [
       "              gender  Near_Location   Partner  Promo_friends     Phone  \\\n",
       "cluster_km                                                               \n",
       "0           0.502473       0.959446  0.783383       0.574679  1.000000   \n",
       "1           0.522078       0.862338  0.470130       0.306494  0.000000   \n",
       "2           0.495050       0.000000  0.463366       0.079208  1.000000   \n",
       "3           0.485737       1.000000  0.350238       0.240095  1.000000   \n",
       "4           0.560335       0.976105  0.356033       0.229391  0.998805   \n",
       "\n",
       "            Contract_period  Group_visits        Age  \\\n",
       "cluster_km                                             \n",
       "0                 10.884273      0.543027  29.980218   \n",
       "1                  4.787013      0.425974  29.301299   \n",
       "2                  2.352475      0.215842  28.477228   \n",
       "3                  1.948494      0.341521  28.167987   \n",
       "4                  2.665472      0.473118  30.127838   \n",
       "\n",
       "            Avg_additional_charges_total  Month_to_end_contract  Lifetime  \\\n",
       "cluster_km                                                                  \n",
       "0                             160.706969               9.950544  4.738872   \n",
       "1                             143.957664               4.475325  3.924675   \n",
       "2                             135.457501               2.198020  2.809901   \n",
       "3                             131.622204               1.856577  2.440571   \n",
       "4                             161.724258               2.455197  4.896057   \n",
       "\n",
       "            Avg_class_frequency_total  Avg_class_frequency_current_month  \n",
       "cluster_km                                                                \n",
       "0                            1.983305                           1.976225  \n",
       "1                            1.847220                           1.716369  \n",
       "2                            1.660461                           1.477324  \n",
       "3                            1.247634                           1.012983  \n",
       "4                            2.851531                           2.849473  "
      ]
     },
     "execution_count": 42,
     "metadata": {},
     "output_type": "execute_result"
    }
   ],
   "source": [
    "# выведем статистику по средним значениям признаков по кластеру\n",
    "X.groupby('cluster_km').mean()"
   ]
  },
  {
   "cell_type": "markdown",
   "metadata": {},
   "source": [
    "Можем сделать некоторые наблюдения по средним значениям. Все кластеры имеют примерно одинаковый средний возраст посетителей - 28-30 лет. Доля мужчин и женщин примерно одинакова по всем кластерам. Кластеры 0, 1 и 4 имеют высокие показатели по всем количественным признакам. Кластеры 1 и 4 выделяются из всех, так как имеют большие средние значения/доли почти по всем признакам."
   ]
  },
  {
   "cell_type": "markdown",
   "metadata": {},
   "source": [
    "Построим распределения признаков по кластерам. Для бинарных переменных - столбчатые диаграммы, а для непрерывных - боксплоты."
   ]
  },
  {
   "cell_type": "code",
   "execution_count": 43,
   "metadata": {
    "scrolled": false
   },
   "outputs": [
    {
     "data": {
      "image/png": "[encoded data removed]",
      "text/plain": [
       "<Figure size 576x360 with 1 Axes>"
      ]
     },
     "metadata": {},
     "output_type": "display_data"
    },
    {
     "data": {
      "image/png": "[encoded data removed]",
      "text/plain": [
       "<Figure size 576x360 with 1 Axes>"
      ]
     },
     "metadata": {},
     "output_type": "display_data"
    },
    {
     "data": {
      "image/png": "[encoded data removed]",
      "text/plain": [
       "<Figure size 576x360 with 1 Axes>"
      ]
     },
     "metadata": {},
     "output_type": "display_data"
    },
    {
     "data": {
      "image/png": "[encoded data removed]",
      "text/plain": [
       "<Figure size 576x360 with 1 Axes>"
      ]
     },
     "metadata": {},
     "output_type": "display_data"
    },
    {
     "data": {
      "image/png": "[encoded data removed]",
      "text/plain": [
       "<Figure size 576x360 with 1 Axes>"
      ]
     },
     "metadata": {},
     "output_type": "display_data"
    },
    {
     "data": {
      "image/png": "[encoded data removed]",
      "text/plain": [
       "<Figure size 576x360 with 1 Axes>"
      ]
     },
     "metadata": {},
     "output_type": "display_data"
    }
   ],
   "source": [
    "# построим столючатые диаграммы с подсчетом для бинарных признаков по кластерам \n",
    "for feature in X[['gender', 'Near_Location', 'Partner', 'Promo_friends', 'Phone', 'Group_visits']].columns:\n",
    "    sns.set(style=\"whitegrid\")\n",
    "    plt.figure(figsize=(8,5))\n",
    "    sns.countplot(X[feature], hue=X['cluster_km'])\n",
    "    plt.show()"
   ]
  },
  {
   "cell_type": "code",
   "execution_count": 44,
   "metadata": {
    "scrolled": false
   },
   "outputs": [
    {
     "data": {
      "image/png": "[encoded data removed]",
      "text/plain": [
       "<Figure size 576x360 with 1 Axes>"
      ]
     },
     "metadata": {},
     "output_type": "display_data"
    },
    {
     "data": {
      "image/png": "[encoded data removed]",
      "text/plain": [
       "<Figure size 576x360 with 1 Axes>"
      ]
     },
     "metadata": {},
     "output_type": "display_data"
    },
    {
     "data": {
      "image/png": "[encoded data removed]",
      "text/plain": [
       "<Figure size 576x360 with 1 Axes>"
      ]
     },
     "metadata": {},
     "output_type": "display_data"
    },
    {
     "data": {
      "image/png": "[encoded data removed]",
      "text/plain": [
       "<Figure size 576x360 with 1 Axes>"
      ]
     },
     "metadata": {},
     "output_type": "display_data"
    },
    {
     "data": {
      "image/png": "[encoded data removed]",
      "text/plain": [
       "<Figure size 576x360 with 1 Axes>"
      ]
     },
     "metadata": {},
     "output_type": "display_data"
    },
    {
     "data": {
      "image/png": "[encoded data removed]",
      "text/plain": [
       "<Figure size 576x360 with 1 Axes>"
      ]
     },
     "metadata": {},
     "output_type": "display_data"
    },
    {
     "data": {
      "image/png": "[encoded data removed]",
      "text/plain": [
       "<Figure size 576x360 with 1 Axes>"
      ]
     },
     "metadata": {},
     "output_type": "display_data"
    }
   ],
   "source": [
    "# построим боксплоты для непрерывных признаков по кластерам \n",
    "for feature in X.drop(['cluster_km', 'gender', 'Near_Location', 'Partner', 'Promo_friends', 'Phone', 'Group_visits'], axis=1).columns:\n",
    "    sns.set(style=\"whitegrid\")\n",
    "    plt.figure(figsize=(8,5))\n",
    "    sns.boxplot(X['cluster_km'], X[feature])\n",
    "    plt.show()"
   ]
  },
  {
   "cell_type": "markdown",
   "metadata": {},
   "source": [
    "Можем сделать некоторые отличительные наблюдения:\n",
    "* для кластеров 0 и 4 характерен возраст 30+;\n",
    "* для кластера 3 характерен возраст 25-28 лет;\n",
    "* для кластеров 0 и 4 характерна более высокая средняя частота посещений в неделю за предыдущий месяц и с начала абонемента;\n",
    "* для кластера 3 характерна низкая средняя частота посещений в неделю за предыдущий месяц и с начала абонемента;\n",
    "* для кластеров 0 и 4 характерен более высокий жизненный цикл абонемента;\n",
    "* для кластера 3 характерен низкий жизненный цикл абонемента;\n",
    "* только для кластера 3 доля, проживающих или работающих в районе фитнес-центра, составляет 100%;\n",
    "* в кластере 2 нет проживающих или работающих в районе фитнес-центра;\n",
    "* кластер 3 имеет самый короткий средний срок абонемента;\n",
    "* кластер 0 имеет самый большой средний срок абонемента;\n",
    "* кластеры 0 и 4 имеют высокую долю тех, кто посещает групповые занятия;\n",
    "* кластеры 0 и 1 имеют самую большую долю тех, кто пришел по акции \"приведи друга\";\n",
    "* кластер 2 имеют самую маленькую долю тех, кто пришел по акции \"приведи друга\";\n",
    "* кластер 0 имеет самую большую долю тех, кто работает в компаниях-партнерах. "
   ]
  },
  {
   "cell_type": "markdown",
   "metadata": {},
   "source": [
    "Для каждого полученного кластера посчитаем долю оттока. "
   ]
  },
  {
   "cell_type": "code",
   "execution_count": 45,
   "metadata": {},
   "outputs": [],
   "source": [
    "# добавим новый столбец с метками кластера в основную таблицу\n",
    "df['cluster_km'] = labels"
   ]
  },
  {
   "cell_type": "code",
   "execution_count": 46,
   "metadata": {},
   "outputs": [
    {
     "data": {
      "text/html": [
       "<div>\n",
       "<style scoped>\n",
       "    .dataframe tbody tr th:only-of-type {\n",
       "        vertical-align: middle;\n",
       "    }\n",
       "\n",
       "    .dataframe tbody tr th {\n",
       "        vertical-align: top;\n",
       "    }\n",
       "\n",
       "    .dataframe thead th {\n",
       "        text-align: right;\n",
       "    }\n",
       "</style>\n",
       "<table border=\"1\" class=\"dataframe\">\n",
       "  <thead>\n",
       "    <tr style=\"text-align: right;\">\n",
       "      <th></th>\n",
       "      <th>Churn</th>\n",
       "    </tr>\n",
       "    <tr>\n",
       "      <th>cluster_km</th>\n",
       "      <th></th>\n",
       "    </tr>\n",
       "  </thead>\n",
       "  <tbody>\n",
       "    <tr>\n",
       "      <td>0</td>\n",
       "      <td>0.027695</td>\n",
       "    </tr>\n",
       "    <tr>\n",
       "      <td>1</td>\n",
       "      <td>0.267532</td>\n",
       "    </tr>\n",
       "    <tr>\n",
       "      <td>2</td>\n",
       "      <td>0.443564</td>\n",
       "    </tr>\n",
       "    <tr>\n",
       "      <td>3</td>\n",
       "      <td>0.514263</td>\n",
       "    </tr>\n",
       "    <tr>\n",
       "      <td>4</td>\n",
       "      <td>0.068100</td>\n",
       "    </tr>\n",
       "  </tbody>\n",
       "</table>\n",
       "</div>"
      ],
      "text/plain": [
       "               Churn\n",
       "cluster_km          \n",
       "0           0.027695\n",
       "1           0.267532\n",
       "2           0.443564\n",
       "3           0.514263\n",
       "4           0.068100"
      ]
     },
     "execution_count": 46,
     "metadata": {},
     "output_type": "execute_result"
    }
   ],
   "source": [
    "# доля оттока для каждого кластера\n",
    "df.groupby('cluster_km')[['Churn']].mean()"
   ]
  },
  {
   "cell_type": "markdown",
   "metadata": {},
   "source": [
    "Видим, что кластер 3 наиболее склонен к оттоку, с долей превышающей 50% посетителей. Затем идут кластеры 2 и 1 с долями 44% и 26% соответственно. Доля оттока в кластере 4 составляет 6%. Наиболее лояльные посетители принадлежат к кластеру 0, с долей оттока всего 2%."
   ]
  },
  {
   "cell_type": "markdown",
   "metadata": {},
   "source": [
    "## Выводы и рекомендации"
   ]
  },
  {
   "cell_type": "markdown",
   "metadata": {},
   "source": [
    "Мы проанализировали данные о посетителях сети фитнес-клубов с целью прогнозирования оттока клиента на уровне следующего месяца. Были использованы следующие методы машинного обучения: с учителем - логистическая регрессия и случайный лес для предсказания факта оттока; и без учителя - алгоритм K-Means для сегментирования клиентов. Для регрессии и случайного леса мы не стандартизировали данные, так как это необязательно для этих моделей.\n",
    "\n",
    "Логистическая регрессия показала значения метрик accuracy, precision и recall чуть лучше случайного леса. Перед использованием алгоритма K-Means мы нарисовали дендрограмму, которая выделила 4-5 кластеров. В алгоритм K-Means мы заложили число кластеров 5.\n",
    "\n",
    "По результатам логистической регрессии были выделены признаки с наибольшими коэффициентами - Promo_friends, Contract_period, Group_visits, Age, Lifetime, Avg_class_frequency_current_month. Эти коэффициенты отрицательные.\n",
    "\n",
    "По результатам модели случайного леса, наиболее важные признаки - Contract_period, Age, Avg_additional_charges_total, Lifetime и Avg_class_frequency_current_month.\n",
    "\n",
    "По результатам кластеризации клиентов выяснили, что кластер 3 наиболее склонен к оттоку, с долей превышающей 50% посетителей. Затем идут кластеры 2 и 1 с долями 44% и 26% соответственно. Доля оттока в кластере 4 составляет 6%. А вот наиболее лояльные посетители принадлежат к кластеру 0, с долей оттока всего 2%. А теперь выделим наиболее выраженные отличия в признаках:\n",
    "\n",
    "* для кластеров 0 и 4 характерен возраст 30+;\n",
    "* для кластера 3 характерен возраст 25-28 лет;\n",
    "* для кластеров 0 и 4 характерна более высокая средняя частота посещений в неделю за предыдущий месяц и с начала абонемента;\n",
    "* для кластера 3 характерна низкая средняя частота посещений в неделю за предыдущий месяц и с начала абонемента;\n",
    "* для кластеров 0 и 4 характерен более высокий жизненный цикл абонемента;\n",
    "* для кластера 3 характерен низкий жизненный цикл абонемента;\n",
    "* только для кластера 3 доля, проживающих или работающих в районе фитнес-центра, составляет 100%;\n",
    "* в кластере 2 нет проживающих или работающих в районе фитнес-центра;\n",
    "* кластер 3 имеет самый короткий средний срок абонемента;\n",
    "* кластер 0 имеет самый большой средний срок абонемента;\n",
    "* кластеры 0 и 4 имеют высокую долю тех, кто посещает групповые занятия;\n",
    "* кластеры 0 и 1 имеют самую большую долю тех, кто пришел по акции \"приведи друга\";\n",
    "* кластер 2 имеют самую маленькую долю тех, кто пришел по акции \"приведи друга\";\n",
    "* кластер 0 имеет самую большую долю тех, кто работает в компаниях-партнерах. \n",
    "\n",
    "<div class=\"alert alert-info\">\n",
    "    <strong>Исходя из вышеперечисленных выводов, рекомендуем следующие меры по работе с клиентами:</strong> \n",
    "   \n",
    "**1. Промо-акции и система вознаграждения лояльных клиентов**. Для мотивации клиентов оставаться лояльными можно устраивать акции и вознаграждать их. Например, дарить в подарок 1-2 занятия каждый месяц, или же предоставлять бесплатное пробоное занятие по всем имеющимся направлениям в клубе. Также можно дарить посещения в СПА и баню, спорт-питание, например.\n",
    "\n",
    "**2. Вовлечение клиентов в групповые занятия**. Групповые занятия создают дух команды, а для кого-то дух соперничества. Но в целом групповые занятия мотивируют на посещения больше, чем одиночные занятия с тренером. Можно расширить перечень групповых занятий, и даже провести опрос среди клиентов, какие групповые занятия были бы им интересны.\n",
    "\n",
    "**3. Увеличение сети компаний-пертнеров**. Из анализа мы поняли, что сотрудники компаний-партнеров лояльные клиенты. Главный фактор - это - предоставление скидок.\n",
    "</div>"
   ]
  },
  {
   "cell_type": "markdown",
   "metadata": {},
   "source": [
    "<a href=\"#contents\">к оглавлению</a>"
   ]
  }
 ],
 "metadata": {
  "ExecuteTimeLog": [
   {
    "duration": 368,
    "start_time": "2021-06-26T09:51:44.703Z"
   },
   {
    "duration": 1523,
    "start_time": "2021-06-26T09:51:50.903Z"
   },
   {
    "duration": 26,
    "start_time": "2021-06-26T09:51:52.644Z"
   },
   {
    "duration": 23,
    "start_time": "2021-06-26T09:51:58.135Z"
   },
   {
    "duration": 11,
    "start_time": "2021-06-26T10:02:48.725Z"
   },
   {
    "duration": 6,
    "start_time": "2021-06-26T10:16:48.486Z"
   },
   {
    "duration": 74,
    "start_time": "2021-06-26T10:26:57.042Z"
   },
   {
    "duration": 67,
    "start_time": "2021-06-26T10:27:04.012Z"
   },
   {
    "duration": 24,
    "start_time": "2021-06-26T12:18:48.195Z"
   },
   {
    "duration": 15,
    "start_time": "2021-06-26T12:18:54.458Z"
   },
   {
    "duration": 431,
    "start_time": "2021-06-26T13:04:39.408Z"
   },
   {
    "duration": 392,
    "start_time": "2021-06-26T13:04:50.507Z"
   },
   {
    "duration": 605,
    "start_time": "2021-06-26T13:14:25.488Z"
   },
   {
    "duration": 378,
    "start_time": "2021-06-26T13:14:48.048Z"
   },
   {
    "duration": 7273,
    "start_time": "2021-06-26T13:27:07.982Z"
   },
   {
    "duration": 8059,
    "start_time": "2021-06-26T13:39:05.302Z"
   },
   {
    "duration": 7539,
    "start_time": "2021-06-26T13:39:18.135Z"
   },
   {
    "duration": 1763,
    "start_time": "2021-06-26T13:41:34.953Z"
   },
   {
    "duration": 1808,
    "start_time": "2021-06-26T13:42:05.529Z"
   },
   {
    "duration": 1881,
    "start_time": "2021-06-26T13:42:13.152Z"
   },
   {
    "duration": 1835,
    "start_time": "2021-06-26T13:42:23.242Z"
   },
   {
    "duration": 1861,
    "start_time": "2021-06-26T13:42:31.737Z"
   },
   {
    "duration": 1717,
    "start_time": "2021-06-26T13:42:47.972Z"
   },
   {
    "duration": 1897,
    "start_time": "2021-06-26T13:42:55.340Z"
   },
   {
    "duration": 1730,
    "start_time": "2021-06-26T13:43:02.974Z"
   },
   {
    "duration": 1715,
    "start_time": "2021-06-26T13:43:33.060Z"
   },
   {
    "duration": 1823,
    "start_time": "2021-06-26T13:43:53.119Z"
   },
   {
    "duration": 1888,
    "start_time": "2021-06-26T13:44:59.831Z"
   },
   {
    "duration": 1969,
    "start_time": "2021-06-26T13:45:29.746Z"
   },
   {
    "duration": 1857,
    "start_time": "2021-06-26T13:45:36.865Z"
   },
   {
    "duration": 1790,
    "start_time": "2021-06-26T13:45:46.481Z"
   },
   {
    "duration": 2014,
    "start_time": "2021-06-26T13:45:54.731Z"
   },
   {
    "duration": 1940,
    "start_time": "2021-06-26T13:46:01.335Z"
   },
   {
    "duration": 7809,
    "start_time": "2021-06-26T13:47:43.735Z"
   },
   {
    "duration": 1658,
    "start_time": "2021-06-27T07:53:01.272Z"
   },
   {
    "duration": 25,
    "start_time": "2021-06-27T07:53:02.933Z"
   },
   {
    "duration": 22,
    "start_time": "2021-06-27T07:53:02.961Z"
   },
   {
    "duration": 15,
    "start_time": "2021-06-27T07:53:02.985Z"
   },
   {
    "duration": 92,
    "start_time": "2021-06-27T07:53:03.002Z"
   },
   {
    "duration": 14,
    "start_time": "2021-06-27T07:53:03.096Z"
   },
   {
    "duration": 7283,
    "start_time": "2021-06-27T07:53:03.113Z"
   },
   {
    "duration": 1959,
    "start_time": "2021-06-27T07:53:10.399Z"
   },
   {
    "duration": 1958,
    "start_time": "2021-06-27T07:54:53.621Z"
   },
   {
    "duration": 14,
    "start_time": "2021-06-27T08:10:59.579Z"
   },
   {
    "duration": 6,
    "start_time": "2021-06-27T08:21:59.712Z"
   },
   {
    "duration": 5,
    "start_time": "2021-06-27T08:26:51.458Z"
   },
   {
    "duration": 10,
    "start_time": "2021-06-27T08:28:40.790Z"
   },
   {
    "duration": 9,
    "start_time": "2021-06-27T08:31:20.847Z"
   },
   {
    "duration": 55,
    "start_time": "2021-06-27T08:36:35.513Z"
   },
   {
    "duration": 53,
    "start_time": "2021-06-27T08:37:17.524Z"
   },
   {
    "duration": 13,
    "start_time": "2021-06-27T08:38:20.598Z"
   },
   {
    "duration": 7,
    "start_time": "2021-06-27T08:38:22.242Z"
   },
   {
    "duration": 16,
    "start_time": "2021-06-27T08:38:31.363Z"
   },
   {
    "duration": 7,
    "start_time": "2021-06-27T08:38:45.563Z"
   },
   {
    "duration": 7,
    "start_time": "2021-06-27T08:54:58.743Z"
   },
   {
    "duration": 457,
    "start_time": "2021-06-27T09:04:19.231Z"
   },
   {
    "duration": 63,
    "start_time": "2021-06-27T09:04:21.763Z"
   },
   {
    "duration": 422,
    "start_time": "2021-06-27T09:04:33.166Z"
   },
   {
    "duration": 5,
    "start_time": "2021-06-27T09:04:39.526Z"
   },
   {
    "duration": 340,
    "start_time": "2021-06-27T09:04:45.283Z"
   },
   {
    "duration": 406,
    "start_time": "2021-06-27T09:05:25.879Z"
   },
   {
    "duration": 4,
    "start_time": "2021-06-27T09:06:34.163Z"
   },
   {
    "duration": 336,
    "start_time": "2021-06-27T09:06:38.932Z"
   },
   {
    "duration": 10,
    "start_time": "2021-06-27T09:06:50.653Z"
   },
   {
    "duration": 5,
    "start_time": "2021-06-27T09:07:12.423Z"
   },
   {
    "duration": 10,
    "start_time": "2021-06-27T09:07:17.783Z"
   },
   {
    "duration": 10,
    "start_time": "2021-06-27T09:07:21.841Z"
   },
   {
    "duration": 10,
    "start_time": "2021-06-27T09:07:33.281Z"
   },
   {
    "duration": 11,
    "start_time": "2021-06-27T09:07:35.469Z"
   },
   {
    "duration": 257,
    "start_time": "2021-06-27T09:20:16.130Z"
   },
   {
    "duration": 46,
    "start_time": "2021-06-27T09:20:18.662Z"
   },
   {
    "duration": 12,
    "start_time": "2021-06-27T09:20:26.422Z"
   },
   {
    "duration": 524,
    "start_time": "2021-06-27T09:20:36.622Z"
   },
   {
    "duration": 58,
    "start_time": "2021-06-27T09:20:38.519Z"
   },
   {
    "duration": 11,
    "start_time": "2021-06-27T09:20:42.084Z"
   },
   {
    "duration": 11,
    "start_time": "2021-06-27T09:20:44.301Z"
   },
   {
    "duration": 1488,
    "start_time": "2021-06-28T07:20:24.748Z"
   },
   {
    "duration": 26,
    "start_time": "2021-06-28T07:20:26.238Z"
   },
   {
    "duration": 23,
    "start_time": "2021-06-28T07:20:26.267Z"
   },
   {
    "duration": 10,
    "start_time": "2021-06-28T07:20:26.302Z"
   },
   {
    "duration": 89,
    "start_time": "2021-06-28T07:20:26.315Z"
   },
   {
    "duration": 15,
    "start_time": "2021-06-28T07:20:26.406Z"
   },
   {
    "duration": 7138,
    "start_time": "2021-06-28T07:20:26.423Z"
   },
   {
    "duration": 1917,
    "start_time": "2021-06-28T07:20:33.564Z"
   },
   {
    "duration": 16,
    "start_time": "2021-06-28T07:20:35.484Z"
   },
   {
    "duration": 7,
    "start_time": "2021-06-28T07:20:35.503Z"
   },
   {
    "duration": 7,
    "start_time": "2021-06-28T07:20:35.512Z"
   },
   {
    "duration": 81,
    "start_time": "2021-06-28T07:20:35.521Z"
   },
   {
    "duration": 95,
    "start_time": "2021-06-28T07:20:35.604Z"
   },
   {
    "duration": 557,
    "start_time": "2021-06-28T07:20:35.703Z"
   },
   {
    "duration": 68,
    "start_time": "2021-06-28T07:20:36.263Z"
   },
   {
    "duration": 10,
    "start_time": "2021-06-28T07:20:36.333Z"
   },
   {
    "duration": 12,
    "start_time": "2021-06-28T07:20:36.346Z"
   },
   {
    "duration": 40,
    "start_time": "2021-06-28T07:20:36.361Z"
   },
   {
    "duration": 6,
    "start_time": "2021-06-28T07:22:04.641Z"
   },
   {
    "duration": 6,
    "start_time": "2021-06-28T07:27:13.201Z"
   },
   {
    "duration": 819,
    "start_time": "2021-06-28T07:30:39.939Z"
   },
   {
    "duration": 143882,
    "start_time": "2021-06-28T07:31:45.051Z"
   },
   {
    "duration": 144343,
    "start_time": "2021-06-28T07:35:31.213Z"
   },
   {
    "duration": 144299,
    "start_time": "2021-06-28T07:41:00.400Z"
   },
   {
    "duration": 4,
    "start_time": "2021-06-28T07:51:52.192Z"
   },
   {
    "duration": 1571,
    "start_time": "2021-06-28T07:53:02.231Z"
   },
   {
    "duration": 6,
    "start_time": "2021-06-28T07:53:12.360Z"
   },
   {
    "duration": 4,
    "start_time": "2021-06-28T07:54:46.560Z"
   },
   {
    "duration": 26,
    "start_time": "2021-06-28T07:54:49.636Z"
   },
   {
    "duration": 20,
    "start_time": "2021-06-28T07:55:25.361Z"
   },
   {
    "duration": 17,
    "start_time": "2021-06-28T07:59:01.721Z"
   },
   {
    "duration": 437,
    "start_time": "2021-06-28T08:14:56.560Z"
   },
   {
    "duration": 18,
    "start_time": "2021-06-28T08:15:10.301Z"
   },
   {
    "duration": 6550,
    "start_time": "2021-06-28T08:33:08.401Z"
   },
   {
    "duration": 10561,
    "start_time": "2021-06-28T08:34:28.049Z"
   },
   {
    "duration": 3,
    "start_time": "2021-06-28T08:36:44.611Z"
   },
   {
    "duration": 1874,
    "start_time": "2021-06-28T08:36:46.129Z"
   },
   {
    "duration": 4,
    "start_time": "2021-06-28T08:36:48.005Z"
   },
   {
    "duration": 17,
    "start_time": "2021-06-28T08:36:49.152Z"
   },
   {
    "duration": 16,
    "start_time": "2021-06-28T08:36:51.503Z"
   },
   {
    "duration": 9077,
    "start_time": "2021-06-28T08:38:01.574Z"
   },
   {
    "duration": 4,
    "start_time": "2021-06-28T08:38:54.134Z"
   },
   {
    "duration": 10151,
    "start_time": "2021-06-28T08:39:26.612Z"
   },
   {
    "duration": 8138,
    "start_time": "2021-06-28T09:03:23.635Z"
   },
   {
    "duration": 8076,
    "start_time": "2021-06-28T09:03:35.314Z"
   },
   {
    "duration": 8815,
    "start_time": "2021-06-28T09:03:56.593Z"
   },
   {
    "duration": 7395,
    "start_time": "2021-06-28T09:04:22.091Z"
   },
   {
    "duration": 279,
    "start_time": "2021-06-28T09:09:54.439Z"
   },
   {
    "duration": 92,
    "start_time": "2021-06-28T09:10:51.362Z"
   },
   {
    "duration": 262,
    "start_time": "2021-06-28T09:10:58.210Z"
   },
   {
    "duration": 299,
    "start_time": "2021-06-28T09:11:14.179Z"
   },
   {
    "duration": 324,
    "start_time": "2021-06-28T09:11:45.060Z"
   },
   {
    "duration": 263,
    "start_time": "2021-06-28T09:12:13.663Z"
   },
   {
    "duration": 273,
    "start_time": "2021-06-28T09:12:32.983Z"
   },
   {
    "duration": 273,
    "start_time": "2021-06-28T09:12:47.541Z"
   },
   {
    "duration": 133,
    "start_time": "2021-06-28T09:13:00.082Z"
   },
   {
    "duration": 273,
    "start_time": "2021-06-28T09:14:24.892Z"
   },
   {
    "duration": 278,
    "start_time": "2021-06-28T09:15:27.961Z"
   },
   {
    "duration": 5452,
    "start_time": "2021-06-28T09:18:27.008Z"
   },
   {
    "duration": 403,
    "start_time": "2021-06-28T09:18:55.248Z"
   },
   {
    "duration": 11,
    "start_time": "2021-06-28T09:19:37.711Z"
   },
   {
    "duration": 453,
    "start_time": "2021-06-28T09:20:15.152Z"
   },
   {
    "duration": 637,
    "start_time": "2021-06-28T09:20:20.349Z"
   },
   {
    "duration": 357,
    "start_time": "2021-06-28T09:20:33.562Z"
   },
   {
    "duration": 301,
    "start_time": "2021-06-28T09:22:10.621Z"
   },
   {
    "duration": 308,
    "start_time": "2021-06-28T09:23:51.471Z"
   },
   {
    "duration": 268,
    "start_time": "2021-06-28T09:24:34.671Z"
   },
   {
    "duration": 11,
    "start_time": "2021-06-28T09:24:46.421Z"
   },
   {
    "duration": 2981,
    "start_time": "2021-06-28T09:25:11.470Z"
   },
   {
    "duration": 11,
    "start_time": "2021-06-28T09:25:55.711Z"
   },
   {
    "duration": 1611,
    "start_time": "2021-06-28T12:11:23.530Z"
   },
   {
    "duration": 27,
    "start_time": "2021-06-28T12:11:25.144Z"
   },
   {
    "duration": 24,
    "start_time": "2021-06-28T12:11:25.174Z"
   },
   {
    "duration": 11,
    "start_time": "2021-06-28T12:11:25.201Z"
   },
   {
    "duration": 103,
    "start_time": "2021-06-28T12:11:25.215Z"
   },
   {
    "duration": 36,
    "start_time": "2021-06-28T12:11:25.320Z"
   },
   {
    "duration": 7511,
    "start_time": "2021-06-28T12:11:25.359Z"
   },
   {
    "duration": 2166,
    "start_time": "2021-06-28T12:11:32.876Z"
   },
   {
    "duration": 10,
    "start_time": "2021-06-28T12:11:35.045Z"
   },
   {
    "duration": 29,
    "start_time": "2021-06-28T12:11:35.058Z"
   },
   {
    "duration": 12,
    "start_time": "2021-06-28T12:11:35.089Z"
   },
   {
    "duration": 86,
    "start_time": "2021-06-28T12:11:35.103Z"
   },
   {
    "duration": 11,
    "start_time": "2021-06-28T12:11:35.191Z"
   },
   {
    "duration": 576,
    "start_time": "2021-06-28T12:11:35.256Z"
   },
   {
    "duration": 72,
    "start_time": "2021-06-28T12:11:35.834Z"
   },
   {
    "duration": 11,
    "start_time": "2021-06-28T12:11:35.909Z"
   },
   {
    "duration": 37,
    "start_time": "2021-06-28T12:11:35.922Z"
   },
   {
    "duration": 8,
    "start_time": "2021-06-28T12:11:35.961Z"
   },
   {
    "duration": 803,
    "start_time": "2021-06-28T12:11:35.971Z"
   },
   {
    "duration": 140547,
    "start_time": "2021-06-28T12:11:36.776Z"
   },
   {
    "duration": 3,
    "start_time": "2021-06-28T12:13:57.325Z"
   },
   {
    "duration": 1825,
    "start_time": "2021-06-28T12:13:57.330Z"
   },
   {
    "duration": 4,
    "start_time": "2021-06-28T12:13:59.159Z"
   },
   {
    "duration": 36,
    "start_time": "2021-06-28T12:13:59.166Z"
   },
   {
    "duration": 31,
    "start_time": "2021-06-28T12:13:59.205Z"
   },
   {
    "duration": 7885,
    "start_time": "2021-06-28T12:13:59.238Z"
   },
   {
    "duration": 7961,
    "start_time": "2021-06-28T12:14:07.125Z"
   },
   {
    "duration": 3,
    "start_time": "2021-06-28T12:14:15.088Z"
   },
   {
    "duration": 4,
    "start_time": "2021-06-28T12:16:15.155Z"
   },
   {
    "duration": 10,
    "start_time": "2021-06-28T12:17:39.127Z"
   },
   {
    "duration": 14,
    "start_time": "2021-06-28T12:17:45.874Z"
   },
   {
    "duration": 10668,
    "start_time": "2021-06-28T12:26:30.432Z"
   },
   {
    "duration": 11,
    "start_time": "2021-06-28T12:47:26.120Z"
   },
   {
    "duration": 11,
    "start_time": "2021-06-28T12:51:11.819Z"
   },
   {
    "duration": 6,
    "start_time": "2021-06-28T13:08:54.719Z"
   },
   {
    "duration": 6,
    "start_time": "2021-06-28T13:09:25.493Z"
   },
   {
    "duration": 6,
    "start_time": "2021-06-28T13:09:30.582Z"
   },
   {
    "duration": 6,
    "start_time": "2021-06-28T13:10:27.690Z"
   },
   {
    "duration": 17,
    "start_time": "2021-06-28T13:14:32.060Z"
   },
   {
    "duration": 1679,
    "start_time": "2021-06-28T17:04:35.824Z"
   },
   {
    "duration": 26,
    "start_time": "2021-06-28T17:04:37.506Z"
   },
   {
    "duration": 38,
    "start_time": "2021-06-28T17:04:37.535Z"
   },
   {
    "duration": 12,
    "start_time": "2021-06-28T17:04:37.576Z"
   },
   {
    "duration": 92,
    "start_time": "2021-06-28T17:04:37.591Z"
   },
   {
    "duration": 16,
    "start_time": "2021-06-28T17:04:37.685Z"
   },
   {
    "duration": 8240,
    "start_time": "2021-06-28T17:04:37.704Z"
   },
   {
    "duration": 2110,
    "start_time": "2021-06-28T17:04:45.948Z"
   },
   {
    "duration": 6,
    "start_time": "2021-06-28T17:04:48.068Z"
   },
   {
    "duration": 16,
    "start_time": "2021-06-28T17:04:48.076Z"
   },
   {
    "duration": 12,
    "start_time": "2021-06-28T17:04:48.095Z"
   },
   {
    "duration": 69,
    "start_time": "2021-06-28T17:04:48.110Z"
   },
   {
    "duration": 6,
    "start_time": "2021-06-28T17:04:48.182Z"
   },
   {
    "duration": 9,
    "start_time": "2021-06-28T17:04:48.190Z"
   },
   {
    "duration": 20,
    "start_time": "2021-06-28T17:04:48.202Z"
   },
   {
    "duration": 45,
    "start_time": "2021-06-28T17:04:48.224Z"
   },
   {
    "duration": 650,
    "start_time": "2021-06-28T17:04:48.273Z"
   },
   {
    "duration": 68,
    "start_time": "2021-06-28T17:04:48.925Z"
   },
   {
    "duration": 10,
    "start_time": "2021-06-28T17:04:48.995Z"
   },
   {
    "duration": 13,
    "start_time": "2021-06-28T17:04:49.008Z"
   },
   {
    "duration": 8,
    "start_time": "2021-06-28T17:04:49.024Z"
   },
   {
    "duration": 817,
    "start_time": "2021-06-28T17:04:49.035Z"
   },
   {
    "duration": 147488,
    "start_time": "2021-06-28T17:04:49.856Z"
   },
   {
    "duration": 4,
    "start_time": "2021-06-28T17:07:17.347Z"
   },
   {
    "duration": 1806,
    "start_time": "2021-06-28T17:07:17.368Z"
   },
   {
    "duration": 4,
    "start_time": "2021-06-28T17:07:19.177Z"
   },
   {
    "duration": 48,
    "start_time": "2021-06-28T17:07:19.183Z"
   },
   {
    "duration": 36,
    "start_time": "2021-06-28T17:07:19.233Z"
   },
   {
    "duration": 10395,
    "start_time": "2021-06-28T17:07:19.272Z"
   },
   {
    "duration": 5,
    "start_time": "2021-06-28T17:07:29.669Z"
   },
   {
    "duration": 23,
    "start_time": "2021-06-28T17:07:29.677Z"
   },
   {
    "duration": 6,
    "start_time": "2021-06-28T18:27:06.462Z"
   },
   {
    "duration": 15,
    "start_time": "2021-06-28T18:27:08.319Z"
   },
   {
    "duration": 5,
    "start_time": "2021-06-28T18:30:41.602Z"
   },
   {
    "duration": 5,
    "start_time": "2021-06-28T18:30:43.319Z"
   },
   {
    "duration": 16,
    "start_time": "2021-06-28T18:31:32.605Z"
   },
   {
    "duration": 10,
    "start_time": "2021-06-28T18:32:54.938Z"
   },
   {
    "duration": 53,
    "start_time": "2021-06-28T18:34:08.550Z"
   },
   {
    "duration": 8,
    "start_time": "2021-06-28T18:35:07.309Z"
   },
   {
    "duration": 6,
    "start_time": "2021-06-28T18:36:04.278Z"
   },
   {
    "duration": 5,
    "start_time": "2021-06-28T18:36:34.448Z"
   },
   {
    "duration": 11,
    "start_time": "2021-06-28T18:37:47.736Z"
   },
   {
    "duration": 16,
    "start_time": "2021-06-28T18:40:09.170Z"
   },
   {
    "duration": 1504,
    "start_time": "2021-06-28T18:47:37.621Z"
   },
   {
    "duration": 25,
    "start_time": "2021-06-28T18:47:39.127Z"
   },
   {
    "duration": 24,
    "start_time": "2021-06-28T18:47:39.155Z"
   },
   {
    "duration": 11,
    "start_time": "2021-06-28T18:47:39.182Z"
   },
   {
    "duration": 92,
    "start_time": "2021-06-28T18:47:39.195Z"
   },
   {
    "duration": 15,
    "start_time": "2021-06-28T18:47:39.289Z"
   },
   {
    "duration": 7303,
    "start_time": "2021-06-28T18:47:39.306Z"
   },
   {
    "duration": 2207,
    "start_time": "2021-06-28T18:47:46.612Z"
   },
   {
    "duration": 5,
    "start_time": "2021-06-28T18:47:48.823Z"
   },
   {
    "duration": 14,
    "start_time": "2021-06-28T18:47:48.831Z"
   },
   {
    "duration": 25,
    "start_time": "2021-06-28T18:47:48.847Z"
   },
   {
    "duration": 60,
    "start_time": "2021-06-28T18:47:48.874Z"
   },
   {
    "duration": 32,
    "start_time": "2021-06-28T18:47:48.936Z"
   },
   {
    "duration": 100,
    "start_time": "2021-06-28T18:47:48.972Z"
   },
   {
    "duration": 95,
    "start_time": "2021-06-28T18:47:49.076Z"
   },
   {
    "duration": 10,
    "start_time": "2021-06-28T18:47:49.174Z"
   },
   {
    "duration": 16,
    "start_time": "2021-06-28T18:47:49.186Z"
   },
   {
    "duration": 75,
    "start_time": "2021-06-28T18:47:49.204Z"
   },
   {
    "duration": 6,
    "start_time": "2021-06-28T18:47:49.281Z"
   },
   {
    "duration": 8,
    "start_time": "2021-06-28T18:47:49.290Z"
   },
   {
    "duration": 8,
    "start_time": "2021-06-28T18:47:49.300Z"
   },
   {
    "duration": 14,
    "start_time": "2021-06-28T18:47:49.310Z"
   },
   {
    "duration": 505,
    "start_time": "2021-06-28T18:47:49.327Z"
   },
   {
    "duration": 73,
    "start_time": "2021-06-28T18:47:49.834Z"
   },
   {
    "duration": 9,
    "start_time": "2021-06-28T18:47:49.910Z"
   },
   {
    "duration": 19,
    "start_time": "2021-06-28T18:47:49.922Z"
   },
   {
    "duration": 28,
    "start_time": "2021-06-28T18:47:49.946Z"
   },
   {
    "duration": 9,
    "start_time": "2021-06-28T18:47:49.976Z"
   },
   {
    "duration": 798,
    "start_time": "2021-06-28T18:47:49.987Z"
   },
   {
    "duration": 142874,
    "start_time": "2021-06-28T18:47:50.788Z"
   },
   {
    "duration": 4,
    "start_time": "2021-06-28T18:50:13.667Z"
   },
   {
    "duration": 1898,
    "start_time": "2021-06-28T18:50:13.673Z"
   },
   {
    "duration": 5,
    "start_time": "2021-06-28T18:50:15.573Z"
   },
   {
    "duration": 20,
    "start_time": "2021-06-28T18:50:15.580Z"
   },
   {
    "duration": 26,
    "start_time": "2021-06-28T18:50:15.603Z"
   },
   {
    "duration": 10202,
    "start_time": "2021-06-28T18:50:15.631Z"
   },
   {
    "duration": 5,
    "start_time": "2021-06-28T18:50:25.835Z"
   },
   {
    "duration": 29,
    "start_time": "2021-06-28T18:50:25.842Z"
   },
   {
    "duration": 109,
    "start_time": "2021-06-30T07:39:23.151Z"
   },
   {
    "duration": 5,
    "start_time": "2021-06-30T07:39:53.125Z"
   },
   {
    "duration": 1515,
    "start_time": "2021-06-30T07:46:13.556Z"
   },
   {
    "duration": 27,
    "start_time": "2021-06-30T07:46:16.210Z"
   },
   {
    "duration": 23,
    "start_time": "2021-06-30T07:46:19.254Z"
   },
   {
    "duration": 10,
    "start_time": "2021-06-30T07:46:20.943Z"
   },
   {
    "duration": 16,
    "start_time": "2021-06-30T07:51:45.250Z"
   },
   {
    "duration": 75,
    "start_time": "2021-06-30T07:53:11.654Z"
   },
   {
    "duration": 21,
    "start_time": "2021-06-30T07:57:38.855Z"
   },
   {
    "duration": 7835,
    "start_time": "2021-06-30T08:00:29.680Z"
   },
   {
    "duration": 2135,
    "start_time": "2021-06-30T08:02:21.957Z"
   },
   {
    "duration": 481,
    "start_time": "2021-06-30T08:26:12.954Z"
   },
   {
    "duration": 5,
    "start_time": "2021-06-30T08:26:22.442Z"
   },
   {
    "duration": 14,
    "start_time": "2021-06-30T08:26:32.891Z"
   },
   {
    "duration": 6,
    "start_time": "2021-06-30T08:26:41.601Z"
   },
   {
    "duration": 5,
    "start_time": "2021-06-30T08:27:22.548Z"
   },
   {
    "duration": 61,
    "start_time": "2021-06-30T08:27:30.816Z"
   },
   {
    "duration": 74,
    "start_time": "2021-06-30T08:27:36.917Z"
   },
   {
    "duration": 5,
    "start_time": "2021-06-30T08:27:38.598Z"
   },
   {
    "duration": 6,
    "start_time": "2021-06-30T08:27:44.613Z"
   },
   {
    "duration": 25,
    "start_time": "2021-06-30T08:33:10.133Z"
   },
   {
    "duration": 16,
    "start_time": "2021-06-30T08:33:15.324Z"
   },
   {
    "duration": 5,
    "start_time": "2021-06-30T08:40:47.490Z"
   },
   {
    "duration": 5,
    "start_time": "2021-06-30T09:08:48.879Z"
   },
   {
    "duration": 5,
    "start_time": "2021-06-30T09:08:51.638Z"
   },
   {
    "duration": 15,
    "start_time": "2021-06-30T09:08:56.450Z"
   },
   {
    "duration": 16,
    "start_time": "2021-06-30T09:09:08.949Z"
   },
   {
    "duration": 15,
    "start_time": "2021-06-30T09:09:34.442Z"
   },
   {
    "duration": 7,
    "start_time": "2021-06-30T09:15:01.988Z"
   },
   {
    "duration": 26,
    "start_time": "2021-06-30T09:15:05.751Z"
   },
   {
    "duration": 22,
    "start_time": "2021-06-30T09:15:05.780Z"
   },
   {
    "duration": 17,
    "start_time": "2021-06-30T09:15:07.746Z"
   },
   {
    "duration": 15,
    "start_time": "2021-06-30T09:15:09.679Z"
   },
   {
    "duration": 14,
    "start_time": "2021-06-30T09:15:12.208Z"
   },
   {
    "duration": 12,
    "start_time": "2021-06-30T09:15:15.103Z"
   },
   {
    "duration": 73,
    "start_time": "2021-06-30T09:15:17.674Z"
   },
   {
    "duration": 15,
    "start_time": "2021-06-30T09:15:22.059Z"
   },
   {
    "duration": 7222,
    "start_time": "2021-06-30T09:15:40.099Z"
   },
   {
    "duration": 1846,
    "start_time": "2021-06-30T09:15:58.025Z"
   },
   {
    "duration": 6,
    "start_time": "2021-06-30T09:16:08.204Z"
   },
   {
    "duration": 10,
    "start_time": "2021-06-30T09:16:11.674Z"
   },
   {
    "duration": 5,
    "start_time": "2021-06-30T09:16:18.465Z"
   },
   {
    "duration": 59,
    "start_time": "2021-06-30T09:16:20.287Z"
   },
   {
    "duration": 51,
    "start_time": "2021-06-30T09:16:22.636Z"
   },
   {
    "duration": 6,
    "start_time": "2021-06-30T09:16:24.438Z"
   },
   {
    "duration": 5,
    "start_time": "2021-06-30T09:16:27.012Z"
   },
   {
    "duration": 16,
    "start_time": "2021-06-30T09:16:29.906Z"
   },
   {
    "duration": 6,
    "start_time": "2021-06-30T09:16:35.565Z"
   },
   {
    "duration": 5,
    "start_time": "2021-06-30T09:16:37.577Z"
   },
   {
    "duration": 48,
    "start_time": "2021-06-30T09:18:46.211Z"
   },
   {
    "duration": 7,
    "start_time": "2021-06-30T09:20:23.847Z"
   },
   {
    "duration": 6,
    "start_time": "2021-06-30T09:20:37.265Z"
   },
   {
    "duration": 6,
    "start_time": "2021-06-30T09:20:53.001Z"
   },
   {
    "duration": 14,
    "start_time": "2021-06-30T09:21:15.116Z"
   },
   {
    "duration": 455,
    "start_time": "2021-06-30T09:29:12.880Z"
   },
   {
    "duration": 56,
    "start_time": "2021-06-30T09:29:17.105Z"
   },
   {
    "duration": 29,
    "start_time": "2021-06-30T09:31:20.983Z"
   },
   {
    "duration": 447,
    "start_time": "2021-06-30T09:39:58.795Z"
   },
   {
    "duration": 56,
    "start_time": "2021-06-30T09:40:59.397Z"
   },
   {
    "duration": 22,
    "start_time": "2021-06-30T09:43:13.438Z"
   },
   {
    "duration": 10,
    "start_time": "2021-06-30T09:46:10.473Z"
   },
   {
    "duration": 290,
    "start_time": "2021-06-30T09:46:15.606Z"
   },
   {
    "duration": 11,
    "start_time": "2021-06-30T09:46:17.540Z"
   },
   {
    "duration": 327,
    "start_time": "2021-06-30T09:46:20.120Z"
   },
   {
    "duration": 17,
    "start_time": "2021-06-30T09:46:29.688Z"
   },
   {
    "duration": 10,
    "start_time": "2021-06-30T09:46:37.561Z"
   },
   {
    "duration": 11,
    "start_time": "2021-06-30T09:46:43.042Z"
   },
   {
    "duration": 9,
    "start_time": "2021-06-30T09:49:25.708Z"
   },
   {
    "duration": 757,
    "start_time": "2021-06-30T09:49:27.206Z"
   },
   {
    "duration": 145223,
    "start_time": "2021-06-30T09:49:30.701Z"
   },
   {
    "duration": 3,
    "start_time": "2021-06-30T09:53:51.735Z"
   },
   {
    "duration": 1420,
    "start_time": "2021-06-30T09:54:05.770Z"
   },
   {
    "duration": 4,
    "start_time": "2021-06-30T09:54:09.523Z"
   },
   {
    "duration": 17,
    "start_time": "2021-06-30T09:54:10.933Z"
   },
   {
    "duration": 30,
    "start_time": "2021-06-30T09:54:15.584Z"
   },
   {
    "duration": 10031,
    "start_time": "2021-06-30T09:55:37.175Z"
   },
   {
    "duration": 4,
    "start_time": "2021-06-30T09:57:27.475Z"
   },
   {
    "duration": 20,
    "start_time": "2021-06-30T09:57:31.332Z"
   },
   {
    "duration": 758,
    "start_time": "2021-06-30T10:14:09.417Z"
   },
   {
    "duration": 2169,
    "start_time": "2021-06-30T10:14:34.633Z"
   },
   {
    "duration": 2018,
    "start_time": "2021-06-30T10:20:43.798Z"
   },
   {
    "duration": 277,
    "start_time": "2021-06-30T10:29:14.578Z"
   },
   {
    "duration": 323,
    "start_time": "2021-06-30T10:29:28.942Z"
   },
   {
    "duration": 2930,
    "start_time": "2021-06-30T10:33:11.338Z"
   },
   {
    "duration": 1599,
    "start_time": "2021-07-02T06:52:48.501Z"
   },
   {
    "duration": 27,
    "start_time": "2021-07-02T06:52:50.103Z"
   },
   {
    "duration": 25,
    "start_time": "2021-07-02T06:52:50.134Z"
   },
   {
    "duration": 12,
    "start_time": "2021-07-02T06:52:50.163Z"
   },
   {
    "duration": 34,
    "start_time": "2021-07-02T06:52:50.178Z"
   },
   {
    "duration": 88,
    "start_time": "2021-07-02T06:52:50.215Z"
   },
   {
    "duration": 18,
    "start_time": "2021-07-02T06:52:50.306Z"
   },
   {
    "duration": 7383,
    "start_time": "2021-07-02T06:52:50.328Z"
   },
   {
    "duration": 2112,
    "start_time": "2021-07-02T06:52:57.715Z"
   },
   {
    "duration": 5,
    "start_time": "2021-07-02T06:52:59.829Z"
   },
   {
    "duration": 17,
    "start_time": "2021-07-02T06:52:59.837Z"
   },
   {
    "duration": 10,
    "start_time": "2021-07-02T06:52:59.856Z"
   },
   {
    "duration": 86,
    "start_time": "2021-07-02T06:52:59.868Z"
   },
   {
    "duration": 52,
    "start_time": "2021-07-02T06:52:59.957Z"
   },
   {
    "duration": 94,
    "start_time": "2021-07-02T06:53:00.012Z"
   },
   {
    "duration": 91,
    "start_time": "2021-07-02T06:53:00.112Z"
   },
   {
    "duration": 20,
    "start_time": "2021-07-02T06:53:00.206Z"
   },
   {
    "duration": 7,
    "start_time": "2021-07-02T06:53:00.230Z"
   },
   {
    "duration": 7,
    "start_time": "2021-07-02T06:53:00.240Z"
   },
   {
    "duration": 93,
    "start_time": "2021-07-02T06:53:00.250Z"
   },
   {
    "duration": 8,
    "start_time": "2021-07-02T06:53:00.346Z"
   },
   {
    "duration": 13,
    "start_time": "2021-07-02T06:53:00.357Z"
   },
   {
    "duration": 28,
    "start_time": "2021-07-02T06:53:00.376Z"
   },
   {
    "duration": 18,
    "start_time": "2021-07-02T06:53:00.408Z"
   },
   {
    "duration": 479,
    "start_time": "2021-07-02T06:53:00.429Z"
   },
   {
    "duration": 60,
    "start_time": "2021-07-02T06:53:00.911Z"
   },
   {
    "duration": 43,
    "start_time": "2021-07-02T06:53:00.974Z"
   },
   {
    "duration": 448,
    "start_time": "2021-07-02T06:53:01.020Z"
   },
   {
    "duration": 66,
    "start_time": "2021-07-02T06:53:01.471Z"
   },
   {
    "duration": 21,
    "start_time": "2021-07-02T06:53:01.540Z"
   },
   {
    "duration": 10,
    "start_time": "2021-07-02T06:53:01.563Z"
   },
   {
    "duration": 36,
    "start_time": "2021-07-02T06:53:01.575Z"
   },
   {
    "duration": 15,
    "start_time": "2021-07-02T06:53:01.613Z"
   },
   {
    "duration": 13,
    "start_time": "2021-07-02T06:53:01.630Z"
   },
   {
    "duration": 7,
    "start_time": "2021-07-02T06:53:01.646Z"
   },
   {
    "duration": 933,
    "start_time": "2021-07-02T06:53:01.655Z"
   },
   {
    "duration": 136464,
    "start_time": "2021-07-02T06:53:02.590Z"
   },
   {
    "duration": 3,
    "start_time": "2021-07-02T06:55:19.057Z"
   },
   {
    "duration": 1840,
    "start_time": "2021-07-02T06:55:19.062Z"
   },
   {
    "duration": 6,
    "start_time": "2021-07-02T06:55:20.904Z"
   },
   {
    "duration": 21,
    "start_time": "2021-07-02T06:55:20.913Z"
   },
   {
    "duration": 29,
    "start_time": "2021-07-02T06:55:20.937Z"
   },
   {
    "duration": 1920,
    "start_time": "2021-07-02T06:55:21.001Z"
   },
   {
    "duration": 2702,
    "start_time": "2021-07-02T06:55:22.924Z"
   },
   {
    "duration": 5,
    "start_time": "2021-07-02T06:55:25.628Z"
   },
   {
    "duration": 17,
    "start_time": "2021-07-02T06:55:25.636Z"
   }
  ],
  "kernelspec": {
   "display_name": "Python 3",
   "language": "python",
   "name": "python3"
  },
  "language_info": {
   "codemirror_mode": {
    "name": "ipython",
    "version": 3
   },
   "file_extension": ".py",
   "mimetype": "text/x-python",
   "name": "python",
   "nbconvert_exporter": "python",
   "pygments_lexer": "ipython3",
   "version": "3.7.9"
  },
  "toc": {
   "base_numbering": 1,
   "nav_menu": {},
   "number_sections": true,
   "sideBar": true,
   "skip_h1_title": true,
   "title_cell": "Оглавление",
   "title_sidebar": "Contents",
   "toc_cell": true,
   "toc_position": {},
   "toc_section_display": true,
   "toc_window_display": false
  }
 },
 "nbformat": 4,
 "nbformat_minor": 2
}
