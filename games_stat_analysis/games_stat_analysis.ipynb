{
 "cells": [
  {
   "cell_type": "markdown",
   "metadata": {},
   "source": [
    "<a id=\"contents\"></a>"
   ]
  },
  {
   "cell_type": "markdown",
   "metadata": {
    "toc": true
   },
   "source": [
    "<h1>Оглавление<span class=\"tocSkip\"></span></h1>\n",
    "<div class=\"toc\"><ul class=\"toc-item\"><li><span><a href=\"#Описание-проекта\" data-toc-modified-id=\"Описание-проекта-1\"><span class=\"toc-item-num\">1&nbsp;&nbsp;</span>Описание проекта</a></span></li><li><span><a href=\"#Изучение-общей-информации\" data-toc-modified-id=\"Изучение-общей-информации-2\"><span class=\"toc-item-num\">2&nbsp;&nbsp;</span>Изучение общей информации</a></span><ul class=\"toc-item\"><li><span><a href=\"#Вывод\" data-toc-modified-id=\"Вывод-2.1\"><span class=\"toc-item-num\">2.1&nbsp;&nbsp;</span>Вывод</a></span></li></ul></li><li><span><a href=\"#Предобработка-данных\" data-toc-modified-id=\"Предобработка-данных-3\"><span class=\"toc-item-num\">3&nbsp;&nbsp;</span>Предобработка данных</a></span><ul class=\"toc-item\"><li><span><a href=\"#Вывод\" data-toc-modified-id=\"Вывод-3.1\"><span class=\"toc-item-num\">3.1&nbsp;&nbsp;</span>Вывод</a></span></li></ul></li><li><span><a href=\"#Исследовательский-анализ-данных\" data-toc-modified-id=\"Исследовательский-анализ-данных-4\"><span class=\"toc-item-num\">4&nbsp;&nbsp;</span>Исследовательский анализ данных</a></span><ul class=\"toc-item\"><li><span><a href=\"#Вывод\" data-toc-modified-id=\"Вывод-4.1\"><span class=\"toc-item-num\">4.1&nbsp;&nbsp;</span>Вывод</a></span></li></ul></li><li><span><a href=\"#Портрет-пользователя\" data-toc-modified-id=\"Портрет-пользователя-5\"><span class=\"toc-item-num\">5&nbsp;&nbsp;</span>Портрет пользователя</a></span><ul class=\"toc-item\"><li><span><a href=\"#Вывод\" data-toc-modified-id=\"Вывод-5.1\"><span class=\"toc-item-num\">5.1&nbsp;&nbsp;</span>Вывод</a></span></li></ul></li><li><span><a href=\"#Проверка-гипотез\" data-toc-modified-id=\"Проверка-гипотез-6\"><span class=\"toc-item-num\">6&nbsp;&nbsp;</span>Проверка гипотез</a></span><ul class=\"toc-item\"><li><span><a href=\"#Проверка-первой-гипотезы\" data-toc-modified-id=\"Проверка-первой-гипотезы-6.1\"><span class=\"toc-item-num\">6.1&nbsp;&nbsp;</span>Проверка первой гипотезы</a></span></li><li><span><a href=\"#Проверка-второй-гипотезы\" data-toc-modified-id=\"Проверка-второй-гипотезы-6.2\"><span class=\"toc-item-num\">6.2&nbsp;&nbsp;</span>Проверка второй гипотезы</a></span></li><li><span><a href=\"#Вывод\" data-toc-modified-id=\"Вывод-6.3\"><span class=\"toc-item-num\">6.3&nbsp;&nbsp;</span>Вывод</a></span></li></ul></li><li><span><a href=\"#Общий-вывод\" data-toc-modified-id=\"Общий-вывод-7\"><span class=\"toc-item-num\">7&nbsp;&nbsp;</span>Общий вывод</a></span></li></ul></div>"
   ]
  },
  {
   "cell_type": "markdown",
   "metadata": {},
   "source": [
    "#  Анализ закономерностей, определяющих успешность компьютерных игр"
   ]
  },
  {
   "cell_type": "markdown",
   "metadata": {},
   "source": [
    "## Описание проекта\n",
    "В данном исследовании мы анализируем продажи интернет-магазина, который продаёт по всему миру компьютерные игры. Нам доступны исторические данные о продажах игр, оценки пользователей и экспертов, жанры и платформы (например, Xbox или PlayStation). Нам нужно выявить закономерности, определяющие успешность игры. Это позволит сделать ставку на потенциально популярный продукт и спланировать рекламные кампании на 2017-й год. \n",
    "\n",
    "В наборе данных есть рейтинг ESRB (Entertainment Software Rating Board) — это ассоциация, определяющая возрастной рейтинг компьютерных игр. ESRB оценивает игровой контент и присваивает ему подходящую возрастную категорию, например, «Для взрослых», «Для детей младшего возраста» или «Для подростков».\n",
    "\n",
    "**Описание данных:**\n",
    "- **Name** — название игры;\n",
    "- **Platform** — платформа;\n",
    "- **Year_of_Release** — год выпуска;\n",
    "- **Genre** — жанр игры;\n",
    "- **NA_sales** — продажи в Северной Америке (миллионы проданных копий);\n",
    "- **EU_sales** — продажи в Европе (миллионы проданных копий);\n",
    "- **JP_sales** — продажи в Японии (миллионы проданных копий);\n",
    "- **Other_sales** — продажи в других странах (миллионы проданных копий);\n",
    "- **Critic_Score** — оценка критиков (максимум 100);\n",
    "- **User_Score** — оценка пользователей (максимум 10);\n",
    "- **Rating** — рейтинг от организации ESRB (англ. Entertainment Software Rating Board). Эта ассоциация определяет рейтинг компьютерных игр и присваивает им подходящую возрастную категорию.\n",
    "\n",
    "Стоит отдельно дать определения рейтингам организации ESRB согласно информации из официального сайта https://www.esrb.org/ratings-guide/:\n",
    "* **E** (Everyone) - для всех возрастов ();\n",
    "* **E10+** (Everyone 10+) - с 10 лет и выше;\n",
    "* **T** (Teen) - с 13 лет и выше;\n",
    "* **M** (Mature) - с 17 лет и выше;\n",
    "* **AO** (Adults Only) - с 18 лет и выше;\n",
    "* **RP** (Rating Pending) - оценка ожидается. Такой рейтинг появляется только в рекламе перед непосредственным выпуском игры;\n",
    "* **EC** (Early Childhood) - с 3 лет и выше;\n",
    "* **K-A** (Kids to Adults) - дети и взрослые. Так назывался рейтинг E (Everyone) до 1998 года."
   ]
  },
  {
   "cell_type": "markdown",
   "metadata": {},
   "source": [
    "## Изучение общей информации"
   ]
  },
  {
   "cell_type": "code",
   "execution_count": 1,
   "metadata": {},
   "outputs": [],
   "source": [
    "# загружаем необходимые библиотеки\n",
    "import pandas as pd\n",
    "import numpy as np\n",
    "from scipy import stats as st\n",
    "import matplotlib.pyplot as plt\n",
    "import seaborn as sns\n",
    "from scipy import stats as st\n",
    "import plotly.express as px\n",
    "\n",
    "import warnings\n",
    "from pandas.core.common import SettingWithCopyWarning\n",
    "warnings.simplefilter(action=\"ignore\", category=SettingWithCopyWarning)"
   ]
  },
  {
   "cell_type": "code",
   "execution_count": 2,
   "metadata": {},
   "outputs": [],
   "source": [
    "# сохраняем данные в таблицу\n",
    "try:\n",
    "    games = pd.read_csv('/datasets/games.csv') # путь яндекса\n",
    "except:\n",
    "    games = pd.read_csv('games.csv') # мой путь"
   ]
  },
  {
   "cell_type": "code",
   "execution_count": 3,
   "metadata": {},
   "outputs": [
    {
     "data": {
      "text/html": [
       "<div>\n",
       "<style scoped>\n",
       "    .dataframe tbody tr th:only-of-type {\n",
       "        vertical-align: middle;\n",
       "    }\n",
       "\n",
       "    .dataframe tbody tr th {\n",
       "        vertical-align: top;\n",
       "    }\n",
       "\n",
       "    .dataframe thead th {\n",
       "        text-align: right;\n",
       "    }\n",
       "</style>\n",
       "<table border=\"1\" class=\"dataframe\">\n",
       "  <thead>\n",
       "    <tr style=\"text-align: right;\">\n",
       "      <th></th>\n",
       "      <th>Name</th>\n",
       "      <th>Platform</th>\n",
       "      <th>Year_of_Release</th>\n",
       "      <th>Genre</th>\n",
       "      <th>NA_sales</th>\n",
       "      <th>EU_sales</th>\n",
       "      <th>JP_sales</th>\n",
       "      <th>Other_sales</th>\n",
       "      <th>Critic_Score</th>\n",
       "      <th>User_Score</th>\n",
       "      <th>Rating</th>\n",
       "    </tr>\n",
       "  </thead>\n",
       "  <tbody>\n",
       "    <tr>\n",
       "      <td>0</td>\n",
       "      <td>Wii Sports</td>\n",
       "      <td>Wii</td>\n",
       "      <td>2006.0</td>\n",
       "      <td>Sports</td>\n",
       "      <td>41.36</td>\n",
       "      <td>28.96</td>\n",
       "      <td>3.77</td>\n",
       "      <td>8.45</td>\n",
       "      <td>76.0</td>\n",
       "      <td>8</td>\n",
       "      <td>E</td>\n",
       "    </tr>\n",
       "    <tr>\n",
       "      <td>1</td>\n",
       "      <td>Super Mario Bros.</td>\n",
       "      <td>NES</td>\n",
       "      <td>1985.0</td>\n",
       "      <td>Platform</td>\n",
       "      <td>29.08</td>\n",
       "      <td>3.58</td>\n",
       "      <td>6.81</td>\n",
       "      <td>0.77</td>\n",
       "      <td>NaN</td>\n",
       "      <td>NaN</td>\n",
       "      <td>NaN</td>\n",
       "    </tr>\n",
       "    <tr>\n",
       "      <td>2</td>\n",
       "      <td>Mario Kart Wii</td>\n",
       "      <td>Wii</td>\n",
       "      <td>2008.0</td>\n",
       "      <td>Racing</td>\n",
       "      <td>15.68</td>\n",
       "      <td>12.76</td>\n",
       "      <td>3.79</td>\n",
       "      <td>3.29</td>\n",
       "      <td>82.0</td>\n",
       "      <td>8.3</td>\n",
       "      <td>E</td>\n",
       "    </tr>\n",
       "    <tr>\n",
       "      <td>3</td>\n",
       "      <td>Wii Sports Resort</td>\n",
       "      <td>Wii</td>\n",
       "      <td>2009.0</td>\n",
       "      <td>Sports</td>\n",
       "      <td>15.61</td>\n",
       "      <td>10.93</td>\n",
       "      <td>3.28</td>\n",
       "      <td>2.95</td>\n",
       "      <td>80.0</td>\n",
       "      <td>8</td>\n",
       "      <td>E</td>\n",
       "    </tr>\n",
       "    <tr>\n",
       "      <td>4</td>\n",
       "      <td>Pokemon Red/Pokemon Blue</td>\n",
       "      <td>GB</td>\n",
       "      <td>1996.0</td>\n",
       "      <td>Role-Playing</td>\n",
       "      <td>11.27</td>\n",
       "      <td>8.89</td>\n",
       "      <td>10.22</td>\n",
       "      <td>1.00</td>\n",
       "      <td>NaN</td>\n",
       "      <td>NaN</td>\n",
       "      <td>NaN</td>\n",
       "    </tr>\n",
       "    <tr>\n",
       "      <td>5</td>\n",
       "      <td>Tetris</td>\n",
       "      <td>GB</td>\n",
       "      <td>1989.0</td>\n",
       "      <td>Puzzle</td>\n",
       "      <td>23.20</td>\n",
       "      <td>2.26</td>\n",
       "      <td>4.22</td>\n",
       "      <td>0.58</td>\n",
       "      <td>NaN</td>\n",
       "      <td>NaN</td>\n",
       "      <td>NaN</td>\n",
       "    </tr>\n",
       "    <tr>\n",
       "      <td>6</td>\n",
       "      <td>New Super Mario Bros.</td>\n",
       "      <td>DS</td>\n",
       "      <td>2006.0</td>\n",
       "      <td>Platform</td>\n",
       "      <td>11.28</td>\n",
       "      <td>9.14</td>\n",
       "      <td>6.50</td>\n",
       "      <td>2.88</td>\n",
       "      <td>89.0</td>\n",
       "      <td>8.5</td>\n",
       "      <td>E</td>\n",
       "    </tr>\n",
       "    <tr>\n",
       "      <td>7</td>\n",
       "      <td>Wii Play</td>\n",
       "      <td>Wii</td>\n",
       "      <td>2006.0</td>\n",
       "      <td>Misc</td>\n",
       "      <td>13.96</td>\n",
       "      <td>9.18</td>\n",
       "      <td>2.93</td>\n",
       "      <td>2.84</td>\n",
       "      <td>58.0</td>\n",
       "      <td>6.6</td>\n",
       "      <td>E</td>\n",
       "    </tr>\n",
       "    <tr>\n",
       "      <td>8</td>\n",
       "      <td>New Super Mario Bros. Wii</td>\n",
       "      <td>Wii</td>\n",
       "      <td>2009.0</td>\n",
       "      <td>Platform</td>\n",
       "      <td>14.44</td>\n",
       "      <td>6.94</td>\n",
       "      <td>4.70</td>\n",
       "      <td>2.24</td>\n",
       "      <td>87.0</td>\n",
       "      <td>8.4</td>\n",
       "      <td>E</td>\n",
       "    </tr>\n",
       "    <tr>\n",
       "      <td>9</td>\n",
       "      <td>Duck Hunt</td>\n",
       "      <td>NES</td>\n",
       "      <td>1984.0</td>\n",
       "      <td>Shooter</td>\n",
       "      <td>26.93</td>\n",
       "      <td>0.63</td>\n",
       "      <td>0.28</td>\n",
       "      <td>0.47</td>\n",
       "      <td>NaN</td>\n",
       "      <td>NaN</td>\n",
       "      <td>NaN</td>\n",
       "    </tr>\n",
       "  </tbody>\n",
       "</table>\n",
       "</div>"
      ],
      "text/plain": [
       "                        Name Platform  Year_of_Release         Genre  \\\n",
       "0                 Wii Sports      Wii           2006.0        Sports   \n",
       "1          Super Mario Bros.      NES           1985.0      Platform   \n",
       "2             Mario Kart Wii      Wii           2008.0        Racing   \n",
       "3          Wii Sports Resort      Wii           2009.0        Sports   \n",
       "4   Pokemon Red/Pokemon Blue       GB           1996.0  Role-Playing   \n",
       "5                     Tetris       GB           1989.0        Puzzle   \n",
       "6      New Super Mario Bros.       DS           2006.0      Platform   \n",
       "7                   Wii Play      Wii           2006.0          Misc   \n",
       "8  New Super Mario Bros. Wii      Wii           2009.0      Platform   \n",
       "9                  Duck Hunt      NES           1984.0       Shooter   \n",
       "\n",
       "   NA_sales  EU_sales  JP_sales  Other_sales  Critic_Score User_Score Rating  \n",
       "0     41.36     28.96      3.77         8.45          76.0          8      E  \n",
       "1     29.08      3.58      6.81         0.77           NaN        NaN    NaN  \n",
       "2     15.68     12.76      3.79         3.29          82.0        8.3      E  \n",
       "3     15.61     10.93      3.28         2.95          80.0          8      E  \n",
       "4     11.27      8.89     10.22         1.00           NaN        NaN    NaN  \n",
       "5     23.20      2.26      4.22         0.58           NaN        NaN    NaN  \n",
       "6     11.28      9.14      6.50         2.88          89.0        8.5      E  \n",
       "7     13.96      9.18      2.93         2.84          58.0        6.6      E  \n",
       "8     14.44      6.94      4.70         2.24          87.0        8.4      E  \n",
       "9     26.93      0.63      0.28         0.47           NaN        NaN    NaN  "
      ]
     },
     "execution_count": 3,
     "metadata": {},
     "output_type": "execute_result"
    }
   ],
   "source": [
    "# выведем первые 10 строк таблицы\n",
    "games.head(10)"
   ]
  },
  {
   "cell_type": "code",
   "execution_count": 4,
   "metadata": {},
   "outputs": [
    {
     "data": {
      "text/html": [
       "<div>\n",
       "<style scoped>\n",
       "    .dataframe tbody tr th:only-of-type {\n",
       "        vertical-align: middle;\n",
       "    }\n",
       "\n",
       "    .dataframe tbody tr th {\n",
       "        vertical-align: top;\n",
       "    }\n",
       "\n",
       "    .dataframe thead th {\n",
       "        text-align: right;\n",
       "    }\n",
       "</style>\n",
       "<table border=\"1\" class=\"dataframe\">\n",
       "  <thead>\n",
       "    <tr style=\"text-align: right;\">\n",
       "      <th></th>\n",
       "      <th>Name</th>\n",
       "      <th>Platform</th>\n",
       "      <th>Year_of_Release</th>\n",
       "      <th>Genre</th>\n",
       "      <th>NA_sales</th>\n",
       "      <th>EU_sales</th>\n",
       "      <th>JP_sales</th>\n",
       "      <th>Other_sales</th>\n",
       "      <th>Critic_Score</th>\n",
       "      <th>User_Score</th>\n",
       "      <th>Rating</th>\n",
       "    </tr>\n",
       "  </thead>\n",
       "  <tbody>\n",
       "    <tr>\n",
       "      <td>16705</td>\n",
       "      <td>15 Days</td>\n",
       "      <td>PC</td>\n",
       "      <td>2009.0</td>\n",
       "      <td>Adventure</td>\n",
       "      <td>0.00</td>\n",
       "      <td>0.01</td>\n",
       "      <td>0.00</td>\n",
       "      <td>0.0</td>\n",
       "      <td>63.0</td>\n",
       "      <td>5.8</td>\n",
       "      <td>NaN</td>\n",
       "    </tr>\n",
       "    <tr>\n",
       "      <td>16706</td>\n",
       "      <td>Men in Black II: Alien Escape</td>\n",
       "      <td>GC</td>\n",
       "      <td>2003.0</td>\n",
       "      <td>Shooter</td>\n",
       "      <td>0.01</td>\n",
       "      <td>0.00</td>\n",
       "      <td>0.00</td>\n",
       "      <td>0.0</td>\n",
       "      <td>NaN</td>\n",
       "      <td>tbd</td>\n",
       "      <td>T</td>\n",
       "    </tr>\n",
       "    <tr>\n",
       "      <td>16707</td>\n",
       "      <td>Aiyoku no Eustia</td>\n",
       "      <td>PSV</td>\n",
       "      <td>2014.0</td>\n",
       "      <td>Misc</td>\n",
       "      <td>0.00</td>\n",
       "      <td>0.00</td>\n",
       "      <td>0.01</td>\n",
       "      <td>0.0</td>\n",
       "      <td>NaN</td>\n",
       "      <td>NaN</td>\n",
       "      <td>NaN</td>\n",
       "    </tr>\n",
       "    <tr>\n",
       "      <td>16708</td>\n",
       "      <td>Woody Woodpecker in Crazy Castle 5</td>\n",
       "      <td>GBA</td>\n",
       "      <td>2002.0</td>\n",
       "      <td>Platform</td>\n",
       "      <td>0.01</td>\n",
       "      <td>0.00</td>\n",
       "      <td>0.00</td>\n",
       "      <td>0.0</td>\n",
       "      <td>NaN</td>\n",
       "      <td>NaN</td>\n",
       "      <td>NaN</td>\n",
       "    </tr>\n",
       "    <tr>\n",
       "      <td>16709</td>\n",
       "      <td>SCORE International Baja 1000: The Official Game</td>\n",
       "      <td>PS2</td>\n",
       "      <td>2008.0</td>\n",
       "      <td>Racing</td>\n",
       "      <td>0.00</td>\n",
       "      <td>0.00</td>\n",
       "      <td>0.00</td>\n",
       "      <td>0.0</td>\n",
       "      <td>NaN</td>\n",
       "      <td>NaN</td>\n",
       "      <td>NaN</td>\n",
       "    </tr>\n",
       "    <tr>\n",
       "      <td>16710</td>\n",
       "      <td>Samurai Warriors: Sanada Maru</td>\n",
       "      <td>PS3</td>\n",
       "      <td>2016.0</td>\n",
       "      <td>Action</td>\n",
       "      <td>0.00</td>\n",
       "      <td>0.00</td>\n",
       "      <td>0.01</td>\n",
       "      <td>0.0</td>\n",
       "      <td>NaN</td>\n",
       "      <td>NaN</td>\n",
       "      <td>NaN</td>\n",
       "    </tr>\n",
       "    <tr>\n",
       "      <td>16711</td>\n",
       "      <td>LMA Manager 2007</td>\n",
       "      <td>X360</td>\n",
       "      <td>2006.0</td>\n",
       "      <td>Sports</td>\n",
       "      <td>0.00</td>\n",
       "      <td>0.01</td>\n",
       "      <td>0.00</td>\n",
       "      <td>0.0</td>\n",
       "      <td>NaN</td>\n",
       "      <td>NaN</td>\n",
       "      <td>NaN</td>\n",
       "    </tr>\n",
       "    <tr>\n",
       "      <td>16712</td>\n",
       "      <td>Haitaka no Psychedelica</td>\n",
       "      <td>PSV</td>\n",
       "      <td>2016.0</td>\n",
       "      <td>Adventure</td>\n",
       "      <td>0.00</td>\n",
       "      <td>0.00</td>\n",
       "      <td>0.01</td>\n",
       "      <td>0.0</td>\n",
       "      <td>NaN</td>\n",
       "      <td>NaN</td>\n",
       "      <td>NaN</td>\n",
       "    </tr>\n",
       "    <tr>\n",
       "      <td>16713</td>\n",
       "      <td>Spirits &amp; Spells</td>\n",
       "      <td>GBA</td>\n",
       "      <td>2003.0</td>\n",
       "      <td>Platform</td>\n",
       "      <td>0.01</td>\n",
       "      <td>0.00</td>\n",
       "      <td>0.00</td>\n",
       "      <td>0.0</td>\n",
       "      <td>NaN</td>\n",
       "      <td>NaN</td>\n",
       "      <td>NaN</td>\n",
       "    </tr>\n",
       "    <tr>\n",
       "      <td>16714</td>\n",
       "      <td>Winning Post 8 2016</td>\n",
       "      <td>PSV</td>\n",
       "      <td>2016.0</td>\n",
       "      <td>Simulation</td>\n",
       "      <td>0.00</td>\n",
       "      <td>0.00</td>\n",
       "      <td>0.01</td>\n",
       "      <td>0.0</td>\n",
       "      <td>NaN</td>\n",
       "      <td>NaN</td>\n",
       "      <td>NaN</td>\n",
       "    </tr>\n",
       "  </tbody>\n",
       "</table>\n",
       "</div>"
      ],
      "text/plain": [
       "                                                   Name Platform  \\\n",
       "16705                                           15 Days       PC   \n",
       "16706                     Men in Black II: Alien Escape       GC   \n",
       "16707                                  Aiyoku no Eustia      PSV   \n",
       "16708                Woody Woodpecker in Crazy Castle 5      GBA   \n",
       "16709  SCORE International Baja 1000: The Official Game      PS2   \n",
       "16710                     Samurai Warriors: Sanada Maru      PS3   \n",
       "16711                                  LMA Manager 2007     X360   \n",
       "16712                           Haitaka no Psychedelica      PSV   \n",
       "16713                                  Spirits & Spells      GBA   \n",
       "16714                               Winning Post 8 2016      PSV   \n",
       "\n",
       "       Year_of_Release       Genre  NA_sales  EU_sales  JP_sales  Other_sales  \\\n",
       "16705           2009.0   Adventure      0.00      0.01      0.00          0.0   \n",
       "16706           2003.0     Shooter      0.01      0.00      0.00          0.0   \n",
       "16707           2014.0        Misc      0.00      0.00      0.01          0.0   \n",
       "16708           2002.0    Platform      0.01      0.00      0.00          0.0   \n",
       "16709           2008.0      Racing      0.00      0.00      0.00          0.0   \n",
       "16710           2016.0      Action      0.00      0.00      0.01          0.0   \n",
       "16711           2006.0      Sports      0.00      0.01      0.00          0.0   \n",
       "16712           2016.0   Adventure      0.00      0.00      0.01          0.0   \n",
       "16713           2003.0    Platform      0.01      0.00      0.00          0.0   \n",
       "16714           2016.0  Simulation      0.00      0.00      0.01          0.0   \n",
       "\n",
       "       Critic_Score User_Score Rating  \n",
       "16705          63.0        5.8    NaN  \n",
       "16706           NaN        tbd      T  \n",
       "16707           NaN        NaN    NaN  \n",
       "16708           NaN        NaN    NaN  \n",
       "16709           NaN        NaN    NaN  \n",
       "16710           NaN        NaN    NaN  \n",
       "16711           NaN        NaN    NaN  \n",
       "16712           NaN        NaN    NaN  \n",
       "16713           NaN        NaN    NaN  \n",
       "16714           NaN        NaN    NaN  "
      ]
     },
     "execution_count": 4,
     "metadata": {},
     "output_type": "execute_result"
    }
   ],
   "source": [
    "# выведем последние 10 строк таблицы\n",
    "games.tail(10)"
   ]
  },
  {
   "cell_type": "code",
   "execution_count": 5,
   "metadata": {},
   "outputs": [
    {
     "name": "stdout",
     "output_type": "stream",
     "text": [
      "<class 'pandas.core.frame.DataFrame'>\n",
      "RangeIndex: 16715 entries, 0 to 16714\n",
      "Data columns (total 11 columns):\n",
      "Name               16713 non-null object\n",
      "Platform           16715 non-null object\n",
      "Year_of_Release    16446 non-null float64\n",
      "Genre              16713 non-null object\n",
      "NA_sales           16715 non-null float64\n",
      "EU_sales           16715 non-null float64\n",
      "JP_sales           16715 non-null float64\n",
      "Other_sales        16715 non-null float64\n",
      "Critic_Score       8137 non-null float64\n",
      "User_Score         10014 non-null object\n",
      "Rating             9949 non-null object\n",
      "dtypes: float64(6), object(5)\n",
      "memory usage: 1.4+ MB\n"
     ]
    }
   ],
   "source": [
    "# получим общую информацию о данных в таблице df\n",
    "games.info()"
   ]
  },
  {
   "cell_type": "code",
   "execution_count": 6,
   "metadata": {},
   "outputs": [
    {
     "data": {
      "text/plain": [
       "Index(['Name', 'Platform', 'Year_of_Release', 'Genre', 'NA_sales', 'EU_sales',\n",
       "       'JP_sales', 'Other_sales', 'Critic_Score', 'User_Score', 'Rating'],\n",
       "      dtype='object')"
      ]
     },
     "execution_count": 6,
     "metadata": {},
     "output_type": "execute_result"
    }
   ],
   "source": [
    "# выведем столбцы, которые имеются в таблице\n",
    "games.columns"
   ]
  },
  {
   "cell_type": "code",
   "execution_count": 7,
   "metadata": {},
   "outputs": [
    {
     "data": {
      "text/html": [
       "<div>\n",
       "<style scoped>\n",
       "    .dataframe tbody tr th:only-of-type {\n",
       "        vertical-align: middle;\n",
       "    }\n",
       "\n",
       "    .dataframe tbody tr th {\n",
       "        vertical-align: top;\n",
       "    }\n",
       "\n",
       "    .dataframe thead th {\n",
       "        text-align: right;\n",
       "    }\n",
       "</style>\n",
       "<table border=\"1\" class=\"dataframe\">\n",
       "  <thead>\n",
       "    <tr style=\"text-align: right;\">\n",
       "      <th></th>\n",
       "      <th>count</th>\n",
       "      <th>mean</th>\n",
       "      <th>std</th>\n",
       "      <th>min</th>\n",
       "      <th>25%</th>\n",
       "      <th>50%</th>\n",
       "      <th>75%</th>\n",
       "      <th>max</th>\n",
       "    </tr>\n",
       "  </thead>\n",
       "  <tbody>\n",
       "    <tr>\n",
       "      <td>Year_of_Release</td>\n",
       "      <td>16446.0</td>\n",
       "      <td>2006.484616</td>\n",
       "      <td>5.877050</td>\n",
       "      <td>1980.0</td>\n",
       "      <td>2003.0</td>\n",
       "      <td>2007.00</td>\n",
       "      <td>2010.00</td>\n",
       "      <td>2016.00</td>\n",
       "    </tr>\n",
       "    <tr>\n",
       "      <td>NA_sales</td>\n",
       "      <td>16715.0</td>\n",
       "      <td>0.263377</td>\n",
       "      <td>0.813604</td>\n",
       "      <td>0.0</td>\n",
       "      <td>0.0</td>\n",
       "      <td>0.08</td>\n",
       "      <td>0.24</td>\n",
       "      <td>41.36</td>\n",
       "    </tr>\n",
       "    <tr>\n",
       "      <td>EU_sales</td>\n",
       "      <td>16715.0</td>\n",
       "      <td>0.145060</td>\n",
       "      <td>0.503339</td>\n",
       "      <td>0.0</td>\n",
       "      <td>0.0</td>\n",
       "      <td>0.02</td>\n",
       "      <td>0.11</td>\n",
       "      <td>28.96</td>\n",
       "    </tr>\n",
       "    <tr>\n",
       "      <td>JP_sales</td>\n",
       "      <td>16715.0</td>\n",
       "      <td>0.077617</td>\n",
       "      <td>0.308853</td>\n",
       "      <td>0.0</td>\n",
       "      <td>0.0</td>\n",
       "      <td>0.00</td>\n",
       "      <td>0.04</td>\n",
       "      <td>10.22</td>\n",
       "    </tr>\n",
       "    <tr>\n",
       "      <td>Other_sales</td>\n",
       "      <td>16715.0</td>\n",
       "      <td>0.047342</td>\n",
       "      <td>0.186731</td>\n",
       "      <td>0.0</td>\n",
       "      <td>0.0</td>\n",
       "      <td>0.01</td>\n",
       "      <td>0.03</td>\n",
       "      <td>10.57</td>\n",
       "    </tr>\n",
       "    <tr>\n",
       "      <td>Critic_Score</td>\n",
       "      <td>8137.0</td>\n",
       "      <td>68.967679</td>\n",
       "      <td>13.938165</td>\n",
       "      <td>13.0</td>\n",
       "      <td>60.0</td>\n",
       "      <td>71.00</td>\n",
       "      <td>79.00</td>\n",
       "      <td>98.00</td>\n",
       "    </tr>\n",
       "  </tbody>\n",
       "</table>\n",
       "</div>"
      ],
      "text/plain": [
       "                   count         mean        std     min     25%      50%  \\\n",
       "Year_of_Release  16446.0  2006.484616   5.877050  1980.0  2003.0  2007.00   \n",
       "NA_sales         16715.0     0.263377   0.813604     0.0     0.0     0.08   \n",
       "EU_sales         16715.0     0.145060   0.503339     0.0     0.0     0.02   \n",
       "JP_sales         16715.0     0.077617   0.308853     0.0     0.0     0.00   \n",
       "Other_sales      16715.0     0.047342   0.186731     0.0     0.0     0.01   \n",
       "Critic_Score      8137.0    68.967679  13.938165    13.0    60.0    71.00   \n",
       "\n",
       "                     75%      max  \n",
       "Year_of_Release  2010.00  2016.00  \n",
       "NA_sales            0.24    41.36  \n",
       "EU_sales            0.11    28.96  \n",
       "JP_sales            0.04    10.22  \n",
       "Other_sales         0.03    10.57  \n",
       "Critic_Score       79.00    98.00  "
      ]
     },
     "execution_count": 7,
     "metadata": {},
     "output_type": "execute_result"
    }
   ],
   "source": [
    "# получим основную статистику по столбцам\n",
    "games.describe().T"
   ]
  },
  {
   "cell_type": "code",
   "execution_count": 8,
   "metadata": {},
   "outputs": [
    {
     "data": {
      "text/plain": [
       "E       3990\n",
       "T       2961\n",
       "M       1563\n",
       "E10+    1420\n",
       "EC         8\n",
       "K-A        3\n",
       "RP         3\n",
       "AO         1\n",
       "Name: Rating, dtype: int64"
      ]
     },
     "execution_count": 8,
     "metadata": {},
     "output_type": "execute_result"
    }
   ],
   "source": [
    "# изучим рейтинги организации ESRB\n",
    "games['Rating'].value_counts()"
   ]
  },
  {
   "cell_type": "code",
   "execution_count": 9,
   "metadata": {},
   "outputs": [
    {
     "data": {
      "text/plain": [
       "PS2     2161\n",
       "DS      2151\n",
       "PS3     1331\n",
       "Wii     1320\n",
       "X360    1262\n",
       "PSP     1209\n",
       "PS      1197\n",
       "PC       974\n",
       "XB       824\n",
       "GBA      822\n",
       "GC       556\n",
       "3DS      520\n",
       "PSV      430\n",
       "PS4      392\n",
       "N64      319\n",
       "XOne     247\n",
       "SNES     239\n",
       "SAT      173\n",
       "WiiU     147\n",
       "2600     133\n",
       "GB        98\n",
       "NES       98\n",
       "DC        52\n",
       "GEN       29\n",
       "NG        12\n",
       "WS         6\n",
       "SCD        6\n",
       "3DO        3\n",
       "TG16       2\n",
       "GG         1\n",
       "PCFX       1\n",
       "Name: Platform, dtype: int64"
      ]
     },
     "execution_count": 9,
     "metadata": {},
     "output_type": "execute_result"
    }
   ],
   "source": [
    "# изучим платформы\n",
    "games['Platform'].value_counts()"
   ]
  },
  {
   "cell_type": "markdown",
   "metadata": {},
   "source": [
    "Топ-7 платформ по количеству игр на них: PS2, DS, PS3, Wii, X360, PSP и PS."
   ]
  },
  {
   "cell_type": "code",
   "execution_count": 10,
   "metadata": {},
   "outputs": [
    {
     "data": {
      "text/plain": [
       "11559"
      ]
     },
     "execution_count": 10,
     "metadata": {},
     "output_type": "execute_result"
    }
   ],
   "source": [
    "# количество уникальных игр\n",
    "games['Name'].nunique()"
   ]
  },
  {
   "cell_type": "code",
   "execution_count": 11,
   "metadata": {},
   "outputs": [
    {
     "data": {
      "text/plain": [
       "Action          3369\n",
       "Sports          2348\n",
       "Misc            1750\n",
       "Role-Playing    1498\n",
       "Shooter         1323\n",
       "Adventure       1303\n",
       "Racing          1249\n",
       "Platform         888\n",
       "Simulation       873\n",
       "Fighting         849\n",
       "Strategy         683\n",
       "Puzzle           580\n",
       "Name: Genre, dtype: int64"
      ]
     },
     "execution_count": 11,
     "metadata": {},
     "output_type": "execute_result"
    }
   ],
   "source": [
    "# изучим жанры\n",
    "games['Genre'].value_counts()"
   ]
  },
  {
   "cell_type": "markdown",
   "metadata": {},
   "source": [
    "Больше всего игр в жанре экшн и спорт."
   ]
  },
  {
   "cell_type": "code",
   "execution_count": 12,
   "metadata": {},
   "outputs": [
    {
     "data": {
      "text/plain": [
       "12"
      ]
     },
     "execution_count": 12,
     "metadata": {},
     "output_type": "execute_result"
    }
   ],
   "source": [
    "# количество уникальных жанров\n",
    "games['Genre'].nunique()"
   ]
  },
  {
   "cell_type": "markdown",
   "metadata": {},
   "source": [
    "Так как столбец с пользовательской оценкой не числовой, мы можем на данном этапе только посмотреть уникальные значения, которые он содержит."
   ]
  },
  {
   "cell_type": "code",
   "execution_count": 13,
   "metadata": {},
   "outputs": [
    {
     "data": {
      "text/plain": [
       "array(['8', nan, '8.3', '8.5', '6.6', '8.4', '8.6', '7.7', '6.3', '7.4',\n",
       "       '8.2', '9', '7.9', '8.1', '8.7', '7.1', '3.4', '5.3', '4.8', '3.2',\n",
       "       '8.9', '6.4', '7.8', '7.5', '2.6', '7.2', '9.2', '7', '7.3', '4.3',\n",
       "       '7.6', '5.7', '5', '9.1', '6.5', 'tbd', '8.8', '6.9', '9.4', '6.8',\n",
       "       '6.1', '6.7', '5.4', '4', '4.9', '4.5', '9.3', '6.2', '4.2', '6',\n",
       "       '3.7', '4.1', '5.8', '5.6', '5.5', '4.4', '4.6', '5.9', '3.9',\n",
       "       '3.1', '2.9', '5.2', '3.3', '4.7', '5.1', '3.5', '2.5', '1.9', '3',\n",
       "       '2.7', '2.2', '2', '9.5', '2.1', '3.6', '2.8', '1.8', '3.8', '0',\n",
       "       '1.6', '9.6', '2.4', '1.7', '1.1', '0.3', '1.5', '0.7', '1.2',\n",
       "       '2.3', '0.5', '1.3', '0.2', '0.6', '1.4', '0.9', '1', '9.7'],\n",
       "      dtype=object)"
      ]
     },
     "execution_count": 13,
     "metadata": {},
     "output_type": "execute_result"
    }
   ],
   "source": [
    "# выведем уникальные зхначения столбца с пользовательским рейтингом\n",
    "games['User_Score'].unique()"
   ]
  },
  {
   "cell_type": "code",
   "execution_count": 14,
   "metadata": {},
   "outputs": [
    {
     "data": {
      "text/plain": [
       "96"
      ]
     },
     "execution_count": 14,
     "metadata": {},
     "output_type": "execute_result"
    }
   ],
   "source": [
    "# выведем количество уникальных зхначений в столбце с пользовательским рейтингом\n",
    "games['User_Score'].nunique()"
   ]
  },
  {
   "cell_type": "code",
   "execution_count": 15,
   "metadata": {},
   "outputs": [
    {
     "data": {
      "text/plain": [
       "3"
      ]
     },
     "execution_count": 15,
     "metadata": {},
     "output_type": "execute_result"
    }
   ],
   "source": [
    "len(games[games['Rating']=='RP'])"
   ]
  },
  {
   "cell_type": "markdown",
   "metadata": {},
   "source": [
    "Есть всего 3 наблюдения с рейтингом 'RP' (рейтинг ожидается). "
   ]
  },
  {
   "cell_type": "markdown",
   "metadata": {},
   "source": [
    "### Вывод\n",
    "Период выпуска компьютерных игр 1980 - 2016 год. В таблице 6 столбцов и 16715 строк. В таблице есть пропуски. Типы данных в столбцах - год выпуска и оценка пользователей - неверно обозначены. Имеются нулевые продажи по каждому региону. \n",
    "\n",
    "Самые популярные платформы для игр - PS2 и DS. В таблице есть 11559 уникальных игр, 12 уникальных жанров и 31 уникальная игровая платформа. Самые популярные игры - для всех возрастных категорий. Затем следуют игры для подростков. Значения в столбце рейтинг организации ESRB являются категориальными, и представляют собой 8 уникальных возрастных рейтингов.\n",
    "\n",
    "Еще стоить отметить строковое значение 'tbd' в столбце с оценкой пользователей. По этой причине тип данных в этом столбце object. Обычно аббревиатура 'tbd' означает to be determined/defined/declared с английского, что значит 'что-то еще не решено или еще не известно'. Вероятно, рейтинг пользователя отсутствует в таких наблюдениях."
   ]
  },
  {
   "cell_type": "markdown",
   "metadata": {},
   "source": [
    "<a href=\"#contents\">к оглавлению</a>"
   ]
  },
  {
   "cell_type": "markdown",
   "metadata": {},
   "source": [
    "## Предобработка данных"
   ]
  },
  {
   "cell_type": "markdown",
   "metadata": {},
   "source": [
    "Приведем названия столбцов к нижнему регистру"
   ]
  },
  {
   "cell_type": "code",
   "execution_count": 16,
   "metadata": {},
   "outputs": [],
   "source": [
    "# применим list comprehension для приведения названий столбцов к нижнему регистру\n",
    "col_names = [i.lower() for i in games.columns.values]"
   ]
  },
  {
   "cell_type": "code",
   "execution_count": 17,
   "metadata": {},
   "outputs": [
    {
     "data": {
      "text/plain": [
       "['name',\n",
       " 'platform',\n",
       " 'year_of_release',\n",
       " 'genre',\n",
       " 'na_sales',\n",
       " 'eu_sales',\n",
       " 'jp_sales',\n",
       " 'other_sales',\n",
       " 'critic_score',\n",
       " 'user_score',\n",
       " 'rating']"
      ]
     },
     "execution_count": 17,
     "metadata": {},
     "output_type": "execute_result"
    }
   ],
   "source": [
    "# новые названия столбцов\n",
    "col_names"
   ]
  },
  {
   "cell_type": "code",
   "execution_count": 18,
   "metadata": {},
   "outputs": [],
   "source": [
    "# поменяем названия столбцов на новые\n",
    "games.columns = col_names"
   ]
  },
  {
   "cell_type": "code",
   "execution_count": 19,
   "metadata": {},
   "outputs": [
    {
     "data": {
      "text/plain": [
       "Index(['name', 'platform', 'year_of_release', 'genre', 'na_sales', 'eu_sales',\n",
       "       'jp_sales', 'other_sales', 'critic_score', 'user_score', 'rating'],\n",
       "      dtype='object')"
      ]
     },
     "execution_count": 19,
     "metadata": {},
     "output_type": "execute_result"
    }
   ],
   "source": [
    "# видим, что названия столбцов приведены к нижнему регистру\n",
    "games.columns"
   ]
  },
  {
   "cell_type": "markdown",
   "metadata": {},
   "source": [
    "Проверим количество пропусков"
   ]
  },
  {
   "cell_type": "code",
   "execution_count": 20,
   "metadata": {},
   "outputs": [],
   "source": [
    "# напишем функцию, показывающую пропуски и их долю в каждом столбце\n",
    "def show_nulls(df):\n",
    "    null_df=df.isnull().sum()\n",
    "    null_df=null_df.to_frame(name='nulls_count')\n",
    "    null_percent=pd.DataFrame(round((df.isna().mean()*100), 2), columns=['nulls_percent'])\n",
    "    display(null_df.join(null_percent))"
   ]
  },
  {
   "cell_type": "code",
   "execution_count": 21,
   "metadata": {},
   "outputs": [
    {
     "data": {
      "text/html": [
       "<div>\n",
       "<style scoped>\n",
       "    .dataframe tbody tr th:only-of-type {\n",
       "        vertical-align: middle;\n",
       "    }\n",
       "\n",
       "    .dataframe tbody tr th {\n",
       "        vertical-align: top;\n",
       "    }\n",
       "\n",
       "    .dataframe thead th {\n",
       "        text-align: right;\n",
       "    }\n",
       "</style>\n",
       "<table border=\"1\" class=\"dataframe\">\n",
       "  <thead>\n",
       "    <tr style=\"text-align: right;\">\n",
       "      <th></th>\n",
       "      <th>nulls_count</th>\n",
       "      <th>nulls_percent</th>\n",
       "    </tr>\n",
       "  </thead>\n",
       "  <tbody>\n",
       "    <tr>\n",
       "      <td>name</td>\n",
       "      <td>2</td>\n",
       "      <td>0.01</td>\n",
       "    </tr>\n",
       "    <tr>\n",
       "      <td>platform</td>\n",
       "      <td>0</td>\n",
       "      <td>0.00</td>\n",
       "    </tr>\n",
       "    <tr>\n",
       "      <td>year_of_release</td>\n",
       "      <td>269</td>\n",
       "      <td>1.61</td>\n",
       "    </tr>\n",
       "    <tr>\n",
       "      <td>genre</td>\n",
       "      <td>2</td>\n",
       "      <td>0.01</td>\n",
       "    </tr>\n",
       "    <tr>\n",
       "      <td>na_sales</td>\n",
       "      <td>0</td>\n",
       "      <td>0.00</td>\n",
       "    </tr>\n",
       "    <tr>\n",
       "      <td>eu_sales</td>\n",
       "      <td>0</td>\n",
       "      <td>0.00</td>\n",
       "    </tr>\n",
       "    <tr>\n",
       "      <td>jp_sales</td>\n",
       "      <td>0</td>\n",
       "      <td>0.00</td>\n",
       "    </tr>\n",
       "    <tr>\n",
       "      <td>other_sales</td>\n",
       "      <td>0</td>\n",
       "      <td>0.00</td>\n",
       "    </tr>\n",
       "    <tr>\n",
       "      <td>critic_score</td>\n",
       "      <td>8578</td>\n",
       "      <td>51.32</td>\n",
       "    </tr>\n",
       "    <tr>\n",
       "      <td>user_score</td>\n",
       "      <td>6701</td>\n",
       "      <td>40.09</td>\n",
       "    </tr>\n",
       "    <tr>\n",
       "      <td>rating</td>\n",
       "      <td>6766</td>\n",
       "      <td>40.48</td>\n",
       "    </tr>\n",
       "  </tbody>\n",
       "</table>\n",
       "</div>"
      ],
      "text/plain": [
       "                 nulls_count  nulls_percent\n",
       "name                       2           0.01\n",
       "platform                   0           0.00\n",
       "year_of_release          269           1.61\n",
       "genre                      2           0.01\n",
       "na_sales                   0           0.00\n",
       "eu_sales                   0           0.00\n",
       "jp_sales                   0           0.00\n",
       "other_sales                0           0.00\n",
       "critic_score            8578          51.32\n",
       "user_score              6701          40.09\n",
       "rating                  6766          40.48"
      ]
     },
     "metadata": {},
     "output_type": "display_data"
    }
   ],
   "source": [
    "# применим функцию для подсчета пропусков\n",
    "show_nulls(games)"
   ]
  },
  {
   "cell_type": "markdown",
   "metadata": {},
   "source": [
    "Есть пропуски в столбцах name, year_of_release, critic_score, user_score и rating. Причиной пропусков может быть отсутствие рейтинга/оценки, либо ошибка при выгрузке данных, так как данные были взяты из открытых источников. Много пропусков с столбцах с оценкой пользователей - 40%, оценкой критиков - 51% и рейтингом - 40%. \n",
    "\n",
    "Пропуски в столбцах название игры (меньше 1%) и год выпуска (1.6%) можно удалить, так как их совсем немного.\n",
    "\n",
    "На официальном сайте ESRB также есть вот такая информация:\n",
    "\"Система рейтинга является добровольной, однако все производители консолей, а также некоторые розничные продавцы в США и мобильные или интернет-магазины требуют рейтинги ESRB для игр или приложений, которые они предлагают.\" Предположим, что большинство пропусков в столбце рейтинг означает отсутствие рейтинга ESRB для данной игры, поэтому не будем заполнять пропуски в столбце с рейтингом. \n",
    "\n",
    "Пропуски в столбцах user_score и critic_score мы тоже оставим как есть, так как пока что не представляется возможным как-то заполнитиь эти пропуски. Удалить эти наблюдения не можем, так как потеряем много данных. "
   ]
  },
  {
   "cell_type": "code",
   "execution_count": 22,
   "metadata": {},
   "outputs": [],
   "source": [
    "# удалим пропуски в столбцах название игры и год выпуска\n",
    "games = games.dropna(subset=['name', 'year_of_release'])"
   ]
  },
  {
   "cell_type": "code",
   "execution_count": 23,
   "metadata": {},
   "outputs": [
    {
     "data": {
      "text/html": [
       "<div>\n",
       "<style scoped>\n",
       "    .dataframe tbody tr th:only-of-type {\n",
       "        vertical-align: middle;\n",
       "    }\n",
       "\n",
       "    .dataframe tbody tr th {\n",
       "        vertical-align: top;\n",
       "    }\n",
       "\n",
       "    .dataframe thead th {\n",
       "        text-align: right;\n",
       "    }\n",
       "</style>\n",
       "<table border=\"1\" class=\"dataframe\">\n",
       "  <thead>\n",
       "    <tr style=\"text-align: right;\">\n",
       "      <th></th>\n",
       "      <th>nulls_count</th>\n",
       "      <th>nulls_percent</th>\n",
       "    </tr>\n",
       "  </thead>\n",
       "  <tbody>\n",
       "    <tr>\n",
       "      <td>name</td>\n",
       "      <td>0</td>\n",
       "      <td>0.00</td>\n",
       "    </tr>\n",
       "    <tr>\n",
       "      <td>platform</td>\n",
       "      <td>0</td>\n",
       "      <td>0.00</td>\n",
       "    </tr>\n",
       "    <tr>\n",
       "      <td>year_of_release</td>\n",
       "      <td>0</td>\n",
       "      <td>0.00</td>\n",
       "    </tr>\n",
       "    <tr>\n",
       "      <td>genre</td>\n",
       "      <td>0</td>\n",
       "      <td>0.00</td>\n",
       "    </tr>\n",
       "    <tr>\n",
       "      <td>na_sales</td>\n",
       "      <td>0</td>\n",
       "      <td>0.00</td>\n",
       "    </tr>\n",
       "    <tr>\n",
       "      <td>eu_sales</td>\n",
       "      <td>0</td>\n",
       "      <td>0.00</td>\n",
       "    </tr>\n",
       "    <tr>\n",
       "      <td>jp_sales</td>\n",
       "      <td>0</td>\n",
       "      <td>0.00</td>\n",
       "    </tr>\n",
       "    <tr>\n",
       "      <td>other_sales</td>\n",
       "      <td>0</td>\n",
       "      <td>0.00</td>\n",
       "    </tr>\n",
       "    <tr>\n",
       "      <td>critic_score</td>\n",
       "      <td>8461</td>\n",
       "      <td>51.45</td>\n",
       "    </tr>\n",
       "    <tr>\n",
       "      <td>user_score</td>\n",
       "      <td>6605</td>\n",
       "      <td>40.17</td>\n",
       "    </tr>\n",
       "    <tr>\n",
       "      <td>rating</td>\n",
       "      <td>6676</td>\n",
       "      <td>40.60</td>\n",
       "    </tr>\n",
       "  </tbody>\n",
       "</table>\n",
       "</div>"
      ],
      "text/plain": [
       "                 nulls_count  nulls_percent\n",
       "name                       0           0.00\n",
       "platform                   0           0.00\n",
       "year_of_release            0           0.00\n",
       "genre                      0           0.00\n",
       "na_sales                   0           0.00\n",
       "eu_sales                   0           0.00\n",
       "jp_sales                   0           0.00\n",
       "other_sales                0           0.00\n",
       "critic_score            8461          51.45\n",
       "user_score              6605          40.17\n",
       "rating                  6676          40.60"
      ]
     },
     "metadata": {},
     "output_type": "display_data"
    }
   ],
   "source": [
    "# пропусков в названии и в году выпуска больше нет \n",
    "show_nulls(games)"
   ]
  },
  {
   "cell_type": "markdown",
   "metadata": {},
   "source": [
    "Проверим, есть ли игры с продажами 0 копий по всем 4-м регионам."
   ]
  },
  {
   "cell_type": "code",
   "execution_count": 24,
   "metadata": {},
   "outputs": [
    {
     "data": {
      "text/html": [
       "<div>\n",
       "<style scoped>\n",
       "    .dataframe tbody tr th:only-of-type {\n",
       "        vertical-align: middle;\n",
       "    }\n",
       "\n",
       "    .dataframe tbody tr th {\n",
       "        vertical-align: top;\n",
       "    }\n",
       "\n",
       "    .dataframe thead th {\n",
       "        text-align: right;\n",
       "    }\n",
       "</style>\n",
       "<table border=\"1\" class=\"dataframe\">\n",
       "  <thead>\n",
       "    <tr style=\"text-align: right;\">\n",
       "      <th></th>\n",
       "      <th>name</th>\n",
       "      <th>platform</th>\n",
       "      <th>year_of_release</th>\n",
       "      <th>genre</th>\n",
       "      <th>na_sales</th>\n",
       "      <th>eu_sales</th>\n",
       "      <th>jp_sales</th>\n",
       "      <th>other_sales</th>\n",
       "      <th>critic_score</th>\n",
       "      <th>user_score</th>\n",
       "      <th>rating</th>\n",
       "    </tr>\n",
       "  </thead>\n",
       "  <tbody>\n",
       "    <tr>\n",
       "      <td>16676</td>\n",
       "      <td>G1 Jockey 4 2008</td>\n",
       "      <td>PS3</td>\n",
       "      <td>2008.0</td>\n",
       "      <td>Sports</td>\n",
       "      <td>0.0</td>\n",
       "      <td>0.0</td>\n",
       "      <td>0.0</td>\n",
       "      <td>0.0</td>\n",
       "      <td>NaN</td>\n",
       "      <td>NaN</td>\n",
       "      <td>NaN</td>\n",
       "    </tr>\n",
       "    <tr>\n",
       "      <td>16709</td>\n",
       "      <td>SCORE International Baja 1000: The Official Game</td>\n",
       "      <td>PS2</td>\n",
       "      <td>2008.0</td>\n",
       "      <td>Racing</td>\n",
       "      <td>0.0</td>\n",
       "      <td>0.0</td>\n",
       "      <td>0.0</td>\n",
       "      <td>0.0</td>\n",
       "      <td>NaN</td>\n",
       "      <td>NaN</td>\n",
       "      <td>NaN</td>\n",
       "    </tr>\n",
       "  </tbody>\n",
       "</table>\n",
       "</div>"
      ],
      "text/plain": [
       "                                                   name platform  \\\n",
       "16676                                  G1 Jockey 4 2008      PS3   \n",
       "16709  SCORE International Baja 1000: The Official Game      PS2   \n",
       "\n",
       "       year_of_release   genre  na_sales  eu_sales  jp_sales  other_sales  \\\n",
       "16676           2008.0  Sports       0.0       0.0       0.0          0.0   \n",
       "16709           2008.0  Racing       0.0       0.0       0.0          0.0   \n",
       "\n",
       "       critic_score user_score rating  \n",
       "16676           NaN        NaN    NaN  \n",
       "16709           NaN        NaN    NaN  "
      ]
     },
     "execution_count": 24,
     "metadata": {},
     "output_type": "execute_result"
    }
   ],
   "source": [
    "# игры с нулевыми продажами по всем регионам\n",
    "games[(games['na_sales']==0) & (games['eu_sales']==0) & (games['jp_sales']==0) \\\n",
    "& (games['other_sales']==0)]"
   ]
  },
  {
   "cell_type": "markdown",
   "metadata": {},
   "source": [
    "Есть два наблюдениями с нулевыми продажами во всех регионах и пропусками в оценках и рейтинге. Удалим эти два наблюдения, так как они ошибочны по всей вероятности."
   ]
  },
  {
   "cell_type": "code",
   "execution_count": 25,
   "metadata": {},
   "outputs": [],
   "source": [
    "# удалим два ошибочных наблюдения\n",
    "games=games.drop([16676, 16709])"
   ]
  },
  {
   "cell_type": "markdown",
   "metadata": {},
   "source": [
    "Переведем год выпуска игры из вещественного в целочисленный тип."
   ]
  },
  {
   "cell_type": "code",
   "execution_count": 26,
   "metadata": {},
   "outputs": [],
   "source": [
    "# переведем год в целочисленный тип\n",
    "games['year_of_release']=games['year_of_release'].astype('int')"
   ]
  },
  {
   "cell_type": "code",
   "execution_count": 27,
   "metadata": {},
   "outputs": [
    {
     "name": "stdout",
     "output_type": "stream",
     "text": [
      "<class 'pandas.core.frame.DataFrame'>\n",
      "Int64Index: 16442 entries, 0 to 16714\n",
      "Data columns (total 11 columns):\n",
      "name               16442 non-null object\n",
      "platform           16442 non-null object\n",
      "year_of_release    16442 non-null int64\n",
      "genre              16442 non-null object\n",
      "na_sales           16442 non-null float64\n",
      "eu_sales           16442 non-null float64\n",
      "jp_sales           16442 non-null float64\n",
      "other_sales        16442 non-null float64\n",
      "critic_score       7983 non-null float64\n",
      "user_score         9839 non-null object\n",
      "rating             9768 non-null object\n",
      "dtypes: float64(5), int64(1), object(5)\n",
      "memory usage: 1.5+ MB\n"
     ]
    }
   ],
   "source": [
    "games.info()"
   ]
  },
  {
   "cell_type": "code",
   "execution_count": 28,
   "metadata": {},
   "outputs": [
    {
     "data": {
      "text/plain": [
       "2376"
      ]
     },
     "execution_count": 28,
     "metadata": {},
     "output_type": "execute_result"
    }
   ],
   "source": [
    "# посчитаем число строк со значением 'tbd' в столбце с пользовательской оценкой\n",
    "len(games[games['user_score'] == 'tbd'])"
   ]
  },
  {
   "cell_type": "markdown",
   "metadata": {},
   "source": [
    "Значения 'tbd' составляют 14% от всех наблюдений в столбце с оценкой пользователя (24% от ненулевых наблюдений). Можно заменить эти значения на нули (NaN), так как 'tbd' эквивалентно тому, что значение отсутствует. В ходе исследования при необходимости можно фильтровать пропуски в этом столбце."
   ]
  },
  {
   "cell_type": "code",
   "execution_count": 29,
   "metadata": {},
   "outputs": [],
   "source": [
    "# заменим 'tbd' в оценке пользователей на 11 \n",
    "games['user_score'] = games['user_score'].replace('tbd', np.nan)"
   ]
  },
  {
   "cell_type": "code",
   "execution_count": 30,
   "metadata": {},
   "outputs": [
    {
     "data": {
      "text/plain": [
       "0"
      ]
     },
     "execution_count": 30,
     "metadata": {},
     "output_type": "execute_result"
    }
   ],
   "source": [
    "# замена прошла успешно\n",
    "len(games[games['user_score'] == 'tbd'])"
   ]
  },
  {
   "cell_type": "markdown",
   "metadata": {},
   "source": [
    "Теперь можем привести пользовательскую оценку из object в числовой тип."
   ]
  },
  {
   "cell_type": "code",
   "execution_count": 31,
   "metadata": {},
   "outputs": [],
   "source": [
    "# приведем user_score в числовой тип\n",
    "games['user_score'] = pd.to_numeric(games['user_score'])"
   ]
  },
  {
   "cell_type": "code",
   "execution_count": 32,
   "metadata": {},
   "outputs": [
    {
     "name": "stdout",
     "output_type": "stream",
     "text": [
      "<class 'pandas.core.frame.DataFrame'>\n",
      "Int64Index: 16442 entries, 0 to 16714\n",
      "Data columns (total 11 columns):\n",
      "name               16442 non-null object\n",
      "platform           16442 non-null object\n",
      "year_of_release    16442 non-null int64\n",
      "genre              16442 non-null object\n",
      "na_sales           16442 non-null float64\n",
      "eu_sales           16442 non-null float64\n",
      "jp_sales           16442 non-null float64\n",
      "other_sales        16442 non-null float64\n",
      "critic_score       7983 non-null float64\n",
      "user_score         7463 non-null float64\n",
      "rating             9768 non-null object\n",
      "dtypes: float64(6), int64(1), object(4)\n",
      "memory usage: 1.5+ MB\n"
     ]
    }
   ],
   "source": [
    "# произошла замена типа user_score в числовой\n",
    "games.info()"
   ]
  },
  {
   "cell_type": "code",
   "execution_count": 33,
   "metadata": {},
   "outputs": [
    {
     "data": {
      "text/html": [
       "<div>\n",
       "<style scoped>\n",
       "    .dataframe tbody tr th:only-of-type {\n",
       "        vertical-align: middle;\n",
       "    }\n",
       "\n",
       "    .dataframe tbody tr th {\n",
       "        vertical-align: top;\n",
       "    }\n",
       "\n",
       "    .dataframe thead th {\n",
       "        text-align: right;\n",
       "    }\n",
       "</style>\n",
       "<table border=\"1\" class=\"dataframe\">\n",
       "  <thead>\n",
       "    <tr style=\"text-align: right;\">\n",
       "      <th></th>\n",
       "      <th>count</th>\n",
       "      <th>mean</th>\n",
       "      <th>std</th>\n",
       "      <th>min</th>\n",
       "      <th>25%</th>\n",
       "      <th>50%</th>\n",
       "      <th>75%</th>\n",
       "      <th>max</th>\n",
       "    </tr>\n",
       "  </thead>\n",
       "  <tbody>\n",
       "    <tr>\n",
       "      <td>user_score</td>\n",
       "      <td>7463.0</td>\n",
       "      <td>7.12633</td>\n",
       "      <td>1.499447</td>\n",
       "      <td>0.0</td>\n",
       "      <td>6.4</td>\n",
       "      <td>7.5</td>\n",
       "      <td>8.2</td>\n",
       "      <td>9.7</td>\n",
       "    </tr>\n",
       "  </tbody>\n",
       "</table>\n",
       "</div>"
      ],
      "text/plain": [
       "             count     mean       std  min  25%  50%  75%  max\n",
       "user_score  7463.0  7.12633  1.499447  0.0  6.4  7.5  8.2  9.7"
      ]
     },
     "execution_count": 33,
     "metadata": {},
     "output_type": "execute_result"
    }
   ],
   "source": [
    "# получим основную статистику по пользовательской оценке\n",
    "games[['user_score']].describe().T"
   ]
  },
  {
   "cell_type": "markdown",
   "metadata": {},
   "source": [
    "Создадим столбец с суммарными продажами во всех регионах."
   ]
  },
  {
   "cell_type": "code",
   "execution_count": 34,
   "metadata": {},
   "outputs": [],
   "source": [
    "# создаем новый столбец с суммарными продажами\n",
    "games['total_sales'] = games['na_sales'] + games['eu_sales'] + games['jp_sales'] + games['other_sales']"
   ]
  },
  {
   "cell_type": "code",
   "execution_count": 35,
   "metadata": {},
   "outputs": [
    {
     "data": {
      "text/html": [
       "<div>\n",
       "<style scoped>\n",
       "    .dataframe tbody tr th:only-of-type {\n",
       "        vertical-align: middle;\n",
       "    }\n",
       "\n",
       "    .dataframe tbody tr th {\n",
       "        vertical-align: top;\n",
       "    }\n",
       "\n",
       "    .dataframe thead th {\n",
       "        text-align: right;\n",
       "    }\n",
       "</style>\n",
       "<table border=\"1\" class=\"dataframe\">\n",
       "  <thead>\n",
       "    <tr style=\"text-align: right;\">\n",
       "      <th></th>\n",
       "      <th>count</th>\n",
       "      <th>mean</th>\n",
       "      <th>std</th>\n",
       "      <th>min</th>\n",
       "      <th>25%</th>\n",
       "      <th>50%</th>\n",
       "      <th>75%</th>\n",
       "      <th>max</th>\n",
       "    </tr>\n",
       "  </thead>\n",
       "  <tbody>\n",
       "    <tr>\n",
       "      <td>total_sales</td>\n",
       "      <td>16442.0</td>\n",
       "      <td>0.536089</td>\n",
       "      <td>1.558869</td>\n",
       "      <td>0.01</td>\n",
       "      <td>0.06</td>\n",
       "      <td>0.17</td>\n",
       "      <td>0.47</td>\n",
       "      <td>82.54</td>\n",
       "    </tr>\n",
       "  </tbody>\n",
       "</table>\n",
       "</div>"
      ],
      "text/plain": [
       "               count      mean       std   min   25%   50%   75%    max\n",
       "total_sales  16442.0  0.536089  1.558869  0.01  0.06  0.17  0.47  82.54"
      ]
     },
     "execution_count": 35,
     "metadata": {},
     "output_type": "execute_result"
    }
   ],
   "source": [
    "# получим основную статистику по суммарным продажам\n",
    "games[['total_sales']].describe().T"
   ]
  },
  {
   "cell_type": "code",
   "execution_count": 36,
   "metadata": {},
   "outputs": [
    {
     "data": {
      "text/plain": [
       "0"
      ]
     },
     "execution_count": 36,
     "metadata": {},
     "output_type": "execute_result"
    }
   ],
   "source": [
    "# проверим дубликаты\n",
    "games.duplicated().sum()"
   ]
  },
  {
   "cell_type": "markdown",
   "metadata": {},
   "source": [
    "Дубликатов нет."
   ]
  },
  {
   "cell_type": "markdown",
   "metadata": {},
   "source": [
    "### Вывод\n",
    "Названия столбцов были приведены к нижнему регистру. Наблюдения с пропусками в названии игры и году выпуска были удалены. Привели год выпуска в целочисленный тип. Пропуски в оценке пользователей, оценке критиков и рейтинге оставили как есть. Значения 'tbd' в столбце оценка пользователей заменили на NaN и привели столбец к числовому типу. Два наблюдения с 0-ми продажами одновременно по всем регионам мы удалили."
   ]
  },
  {
   "cell_type": "markdown",
   "metadata": {},
   "source": [
    "<a href=\"#contents\">к оглавлению</a>"
   ]
  },
  {
   "cell_type": "markdown",
   "metadata": {},
   "source": [
    "## Исследовательский анализ данных"
   ]
  },
  {
   "cell_type": "code",
   "execution_count": 37,
   "metadata": {},
   "outputs": [
    {
     "data": {
      "text/html": [
       "<style  type=\"text/css\" >\n",
       "    #T_d84e43a0_dc12_11eb_9fbd_acde48001122row0_col0 {\n",
       "            background-color:  #b40426;\n",
       "            color:  #f1f1f1;\n",
       "        }    #T_d84e43a0_dc12_11eb_9fbd_acde48001122row0_col1 {\n",
       "            background-color:  #3b4cc0;\n",
       "            color:  #f1f1f1;\n",
       "        }    #T_d84e43a0_dc12_11eb_9fbd_acde48001122row0_col2 {\n",
       "            background-color:  #3b4cc0;\n",
       "            color:  #f1f1f1;\n",
       "        }    #T_d84e43a0_dc12_11eb_9fbd_acde48001122row0_col3 {\n",
       "            background-color:  #3b4cc0;\n",
       "            color:  #f1f1f1;\n",
       "        }    #T_d84e43a0_dc12_11eb_9fbd_acde48001122row0_col4 {\n",
       "            background-color:  #3b4cc0;\n",
       "            color:  #f1f1f1;\n",
       "        }    #T_d84e43a0_dc12_11eb_9fbd_acde48001122row0_col5 {\n",
       "            background-color:  #3b4cc0;\n",
       "            color:  #f1f1f1;\n",
       "        }    #T_d84e43a0_dc12_11eb_9fbd_acde48001122row0_col6 {\n",
       "            background-color:  #3b4cc0;\n",
       "            color:  #f1f1f1;\n",
       "        }    #T_d84e43a0_dc12_11eb_9fbd_acde48001122row0_col7 {\n",
       "            background-color:  #3b4cc0;\n",
       "            color:  #f1f1f1;\n",
       "        }    #T_d84e43a0_dc12_11eb_9fbd_acde48001122row1_col0 {\n",
       "            background-color:  #6687ed;\n",
       "            color:  #000000;\n",
       "        }    #T_d84e43a0_dc12_11eb_9fbd_acde48001122row1_col1 {\n",
       "            background-color:  #b40426;\n",
       "            color:  #f1f1f1;\n",
       "        }    #T_d84e43a0_dc12_11eb_9fbd_acde48001122row1_col2 {\n",
       "            background-color:  #f39475;\n",
       "            color:  #000000;\n",
       "        }    #T_d84e43a0_dc12_11eb_9fbd_acde48001122row1_col3 {\n",
       "            background-color:  #e4d9d2;\n",
       "            color:  #000000;\n",
       "        }    #T_d84e43a0_dc12_11eb_9fbd_acde48001122row1_col4 {\n",
       "            background-color:  #f4c5ad;\n",
       "            color:  #000000;\n",
       "        }    #T_d84e43a0_dc12_11eb_9fbd_acde48001122row1_col5 {\n",
       "            background-color:  #86a9fc;\n",
       "            color:  #000000;\n",
       "        }    #T_d84e43a0_dc12_11eb_9fbd_acde48001122row1_col6 {\n",
       "            background-color:  #97b8ff;\n",
       "            color:  #000000;\n",
       "        }    #T_d84e43a0_dc12_11eb_9fbd_acde48001122row1_col7 {\n",
       "            background-color:  #c73635;\n",
       "            color:  #f1f1f1;\n",
       "        }    #T_d84e43a0_dc12_11eb_9fbd_acde48001122row2_col0 {\n",
       "            background-color:  #80a3fa;\n",
       "            color:  #000000;\n",
       "        }    #T_d84e43a0_dc12_11eb_9fbd_acde48001122row2_col1 {\n",
       "            background-color:  #f08a6c;\n",
       "            color:  #000000;\n",
       "        }    #T_d84e43a0_dc12_11eb_9fbd_acde48001122row2_col2 {\n",
       "            background-color:  #b40426;\n",
       "            color:  #f1f1f1;\n",
       "        }    #T_d84e43a0_dc12_11eb_9fbd_acde48001122row2_col3 {\n",
       "            background-color:  #e1dad6;\n",
       "            color:  #000000;\n",
       "        }    #T_d84e43a0_dc12_11eb_9fbd_acde48001122row2_col4 {\n",
       "            background-color:  #f7a889;\n",
       "            color:  #000000;\n",
       "        }    #T_d84e43a0_dc12_11eb_9fbd_acde48001122row2_col5 {\n",
       "            background-color:  #80a3fa;\n",
       "            color:  #000000;\n",
       "        }    #T_d84e43a0_dc12_11eb_9fbd_acde48001122row2_col6 {\n",
       "            background-color:  #8fb1fe;\n",
       "            color:  #000000;\n",
       "        }    #T_d84e43a0_dc12_11eb_9fbd_acde48001122row2_col7 {\n",
       "            background-color:  #d44e41;\n",
       "            color:  #000000;\n",
       "        }    #T_d84e43a0_dc12_11eb_9fbd_acde48001122row3_col0 {\n",
       "            background-color:  #536edd;\n",
       "            color:  #000000;\n",
       "        }    #T_d84e43a0_dc12_11eb_9fbd_acde48001122row3_col1 {\n",
       "            background-color:  #dcdddd;\n",
       "            color:  #000000;\n",
       "        }    #T_d84e43a0_dc12_11eb_9fbd_acde48001122row3_col2 {\n",
       "            background-color:  #cad8ef;\n",
       "            color:  #000000;\n",
       "        }    #T_d84e43a0_dc12_11eb_9fbd_acde48001122row3_col3 {\n",
       "            background-color:  #b40426;\n",
       "            color:  #f1f1f1;\n",
       "        }    #T_d84e43a0_dc12_11eb_9fbd_acde48001122row3_col4 {\n",
       "            background-color:  #92b4fe;\n",
       "            color:  #000000;\n",
       "        }    #T_d84e43a0_dc12_11eb_9fbd_acde48001122row3_col5 {\n",
       "            background-color:  #6788ee;\n",
       "            color:  #000000;\n",
       "        }    #T_d84e43a0_dc12_11eb_9fbd_acde48001122row3_col6 {\n",
       "            background-color:  #a2c1ff;\n",
       "            color:  #000000;\n",
       "        }    #T_d84e43a0_dc12_11eb_9fbd_acde48001122row3_col7 {\n",
       "            background-color:  #f6bfa6;\n",
       "            color:  #000000;\n",
       "        }    #T_d84e43a0_dc12_11eb_9fbd_acde48001122row4_col0 {\n",
       "            background-color:  #89acfd;\n",
       "            color:  #000000;\n",
       "        }    #T_d84e43a0_dc12_11eb_9fbd_acde48001122row4_col1 {\n",
       "            background-color:  #f7b79b;\n",
       "            color:  #000000;\n",
       "        }    #T_d84e43a0_dc12_11eb_9fbd_acde48001122row4_col2 {\n",
       "            background-color:  #f6a586;\n",
       "            color:  #000000;\n",
       "        }    #T_d84e43a0_dc12_11eb_9fbd_acde48001122row4_col3 {\n",
       "            background-color:  #bed2f6;\n",
       "            color:  #000000;\n",
       "        }    #T_d84e43a0_dc12_11eb_9fbd_acde48001122row4_col4 {\n",
       "            background-color:  #b40426;\n",
       "            color:  #f1f1f1;\n",
       "        }    #T_d84e43a0_dc12_11eb_9fbd_acde48001122row4_col5 {\n",
       "            background-color:  #779af7;\n",
       "            color:  #000000;\n",
       "        }    #T_d84e43a0_dc12_11eb_9fbd_acde48001122row4_col6 {\n",
       "            background-color:  #8fb1fe;\n",
       "            color:  #000000;\n",
       "        }    #T_d84e43a0_dc12_11eb_9fbd_acde48001122row4_col7 {\n",
       "            background-color:  #f29274;\n",
       "            color:  #000000;\n",
       "        }    #T_d84e43a0_dc12_11eb_9fbd_acde48001122row5_col0 {\n",
       "            background-color:  #82a6fb;\n",
       "            color:  #000000;\n",
       "        }    #T_d84e43a0_dc12_11eb_9fbd_acde48001122row5_col1 {\n",
       "            background-color:  #9fbfff;\n",
       "            color:  #000000;\n",
       "        }    #T_d84e43a0_dc12_11eb_9fbd_acde48001122row5_col2 {\n",
       "            background-color:  #81a4fb;\n",
       "            color:  #000000;\n",
       "        }    #T_d84e43a0_dc12_11eb_9fbd_acde48001122row5_col3 {\n",
       "            background-color:  #96b7ff;\n",
       "            color:  #000000;\n",
       "        }    #T_d84e43a0_dc12_11eb_9fbd_acde48001122row5_col4 {\n",
       "            background-color:  #6f92f3;\n",
       "            color:  #000000;\n",
       "        }    #T_d84e43a0_dc12_11eb_9fbd_acde48001122row5_col5 {\n",
       "            background-color:  #b40426;\n",
       "            color:  #f1f1f1;\n",
       "        }    #T_d84e43a0_dc12_11eb_9fbd_acde48001122row5_col6 {\n",
       "            background-color:  #f7b79b;\n",
       "            color:  #000000;\n",
       "        }    #T_d84e43a0_dc12_11eb_9fbd_acde48001122row5_col7 {\n",
       "            background-color:  #9ebeff;\n",
       "            color:  #000000;\n",
       "        }    #T_d84e43a0_dc12_11eb_9fbd_acde48001122row6_col0 {\n",
       "            background-color:  #3b4cc0;\n",
       "            color:  #f1f1f1;\n",
       "        }    #T_d84e43a0_dc12_11eb_9fbd_acde48001122row6_col1 {\n",
       "            background-color:  #6e90f2;\n",
       "            color:  #000000;\n",
       "        }    #T_d84e43a0_dc12_11eb_9fbd_acde48001122row6_col2 {\n",
       "            background-color:  #4a63d3;\n",
       "            color:  #f1f1f1;\n",
       "        }    #T_d84e43a0_dc12_11eb_9fbd_acde48001122row6_col3 {\n",
       "            background-color:  #8db0fe;\n",
       "            color:  #000000;\n",
       "        }    #T_d84e43a0_dc12_11eb_9fbd_acde48001122row6_col4 {\n",
       "            background-color:  #4055c8;\n",
       "            color:  #f1f1f1;\n",
       "        }    #T_d84e43a0_dc12_11eb_9fbd_acde48001122row6_col5 {\n",
       "            background-color:  #eed0c0;\n",
       "            color:  #000000;\n",
       "        }    #T_d84e43a0_dc12_11eb_9fbd_acde48001122row6_col6 {\n",
       "            background-color:  #b40426;\n",
       "            color:  #f1f1f1;\n",
       "        }    #T_d84e43a0_dc12_11eb_9fbd_acde48001122row6_col7 {\n",
       "            background-color:  #6b8df0;\n",
       "            color:  #000000;\n",
       "        }    #T_d84e43a0_dc12_11eb_9fbd_acde48001122row7_col0 {\n",
       "            background-color:  #6a8bef;\n",
       "            color:  #000000;\n",
       "        }    #T_d84e43a0_dc12_11eb_9fbd_acde48001122row7_col1 {\n",
       "            background-color:  #c73635;\n",
       "            color:  #f1f1f1;\n",
       "        }    #T_d84e43a0_dc12_11eb_9fbd_acde48001122row7_col2 {\n",
       "            background-color:  #d65244;\n",
       "            color:  #000000;\n",
       "        }    #T_d84e43a0_dc12_11eb_9fbd_acde48001122row7_col3 {\n",
       "            background-color:  #f7b79b;\n",
       "            color:  #000000;\n",
       "        }    #T_d84e43a0_dc12_11eb_9fbd_acde48001122row7_col4 {\n",
       "            background-color:  #f59d7e;\n",
       "            color:  #000000;\n",
       "        }    #T_d84e43a0_dc12_11eb_9fbd_acde48001122row7_col5 {\n",
       "            background-color:  #88abfd;\n",
       "            color:  #000000;\n",
       "        }    #T_d84e43a0_dc12_11eb_9fbd_acde48001122row7_col6 {\n",
       "            background-color:  #97b8ff;\n",
       "            color:  #000000;\n",
       "        }    #T_d84e43a0_dc12_11eb_9fbd_acde48001122row7_col7 {\n",
       "            background-color:  #b40426;\n",
       "            color:  #f1f1f1;\n",
       "        }</style><table id=\"T_d84e43a0_dc12_11eb_9fbd_acde48001122\" ><thead>    <tr>        <th class=\"blank level0\" ></th>        <th class=\"col_heading level0 col0\" >year_of_release</th>        <th class=\"col_heading level0 col1\" >na_sales</th>        <th class=\"col_heading level0 col2\" >eu_sales</th>        <th class=\"col_heading level0 col3\" >jp_sales</th>        <th class=\"col_heading level0 col4\" >other_sales</th>        <th class=\"col_heading level0 col5\" >critic_score</th>        <th class=\"col_heading level0 col6\" >user_score</th>        <th class=\"col_heading level0 col7\" >total_sales</th>    </tr></thead><tbody>\n",
       "                <tr>\n",
       "                        <th id=\"T_d84e43a0_dc12_11eb_9fbd_acde48001122level0_row0\" class=\"row_heading level0 row0\" >year_of_release</th>\n",
       "                        <td id=\"T_d84e43a0_dc12_11eb_9fbd_acde48001122row0_col0\" class=\"data row0 col0\" >1</td>\n",
       "                        <td id=\"T_d84e43a0_dc12_11eb_9fbd_acde48001122row0_col1\" class=\"data row0 col1\" >-0.0923173</td>\n",
       "                        <td id=\"T_d84e43a0_dc12_11eb_9fbd_acde48001122row0_col2\" class=\"data row0 col2\" >0.00405384</td>\n",
       "                        <td id=\"T_d84e43a0_dc12_11eb_9fbd_acde48001122row0_col3\" class=\"data row0 col3\" >-0.168471</td>\n",
       "                        <td id=\"T_d84e43a0_dc12_11eb_9fbd_acde48001122row0_col4\" class=\"data row0 col4\" >0.0378293</td>\n",
       "                        <td id=\"T_d84e43a0_dc12_11eb_9fbd_acde48001122row0_col5\" class=\"data row0 col5\" >0.011411</td>\n",
       "                        <td id=\"T_d84e43a0_dc12_11eb_9fbd_acde48001122row0_col6\" class=\"data row0 col6\" >-0.267851</td>\n",
       "                        <td id=\"T_d84e43a0_dc12_11eb_9fbd_acde48001122row0_col7\" class=\"data row0 col7\" >-0.0762104</td>\n",
       "            </tr>\n",
       "            <tr>\n",
       "                        <th id=\"T_d84e43a0_dc12_11eb_9fbd_acde48001122level0_row1\" class=\"row_heading level0 row1\" >na_sales</th>\n",
       "                        <td id=\"T_d84e43a0_dc12_11eb_9fbd_acde48001122row1_col0\" class=\"data row1 col0\" >-0.0923173</td>\n",
       "                        <td id=\"T_d84e43a0_dc12_11eb_9fbd_acde48001122row1_col1\" class=\"data row1 col1\" >1</td>\n",
       "                        <td id=\"T_d84e43a0_dc12_11eb_9fbd_acde48001122row1_col2\" class=\"data row1 col2\" >0.766544</td>\n",
       "                        <td id=\"T_d84e43a0_dc12_11eb_9fbd_acde48001122row1_col3\" class=\"data row1 col3\" >0.451157</td>\n",
       "                        <td id=\"T_d84e43a0_dc12_11eb_9fbd_acde48001122row1_col4\" class=\"data row1 col4\" >0.638476</td>\n",
       "                        <td id=\"T_d84e43a0_dc12_11eb_9fbd_acde48001122row1_col5\" class=\"data row1 col5\" >0.240083</td>\n",
       "                        <td id=\"T_d84e43a0_dc12_11eb_9fbd_acde48001122row1_col6\" class=\"data row1 col6\" >0.0855492</td>\n",
       "                        <td id=\"T_d84e43a0_dc12_11eb_9fbd_acde48001122row1_col7\" class=\"data row1 col7\" >0.941241</td>\n",
       "            </tr>\n",
       "            <tr>\n",
       "                        <th id=\"T_d84e43a0_dc12_11eb_9fbd_acde48001122level0_row2\" class=\"row_heading level0 row2\" >eu_sales</th>\n",
       "                        <td id=\"T_d84e43a0_dc12_11eb_9fbd_acde48001122row2_col0\" class=\"data row2 col0\" >0.00405384</td>\n",
       "                        <td id=\"T_d84e43a0_dc12_11eb_9fbd_acde48001122row2_col1\" class=\"data row2 col1\" >0.766544</td>\n",
       "                        <td id=\"T_d84e43a0_dc12_11eb_9fbd_acde48001122row2_col2\" class=\"data row2 col2\" >1</td>\n",
       "                        <td id=\"T_d84e43a0_dc12_11eb_9fbd_acde48001122row2_col3\" class=\"data row2 col3\" >0.435889</td>\n",
       "                        <td id=\"T_d84e43a0_dc12_11eb_9fbd_acde48001122row2_col4\" class=\"data row2 col4\" >0.722677</td>\n",
       "                        <td id=\"T_d84e43a0_dc12_11eb_9fbd_acde48001122row2_col5\" class=\"data row2 col5\" >0.221276</td>\n",
       "                        <td id=\"T_d84e43a0_dc12_11eb_9fbd_acde48001122row2_col6\" class=\"data row2 col6\" >0.0555299</td>\n",
       "                        <td id=\"T_d84e43a0_dc12_11eb_9fbd_acde48001122row2_col7\" class=\"data row2 col7\" >0.901672</td>\n",
       "            </tr>\n",
       "            <tr>\n",
       "                        <th id=\"T_d84e43a0_dc12_11eb_9fbd_acde48001122level0_row3\" class=\"row_heading level0 row3\" >jp_sales</th>\n",
       "                        <td id=\"T_d84e43a0_dc12_11eb_9fbd_acde48001122row3_col0\" class=\"data row3 col0\" >-0.168471</td>\n",
       "                        <td id=\"T_d84e43a0_dc12_11eb_9fbd_acde48001122row3_col1\" class=\"data row3 col1\" >0.451157</td>\n",
       "                        <td id=\"T_d84e43a0_dc12_11eb_9fbd_acde48001122row3_col2\" class=\"data row3 col2\" >0.435889</td>\n",
       "                        <td id=\"T_d84e43a0_dc12_11eb_9fbd_acde48001122row3_col3\" class=\"data row3 col3\" >1</td>\n",
       "                        <td id=\"T_d84e43a0_dc12_11eb_9fbd_acde48001122row3_col4\" class=\"data row3 col4\" >0.291557</td>\n",
       "                        <td id=\"T_d84e43a0_dc12_11eb_9fbd_acde48001122row3_col5\" class=\"data row3 col5\" >0.153474</td>\n",
       "                        <td id=\"T_d84e43a0_dc12_11eb_9fbd_acde48001122row3_col6\" class=\"data row3 col6\" >0.126372</td>\n",
       "                        <td id=\"T_d84e43a0_dc12_11eb_9fbd_acde48001122row3_col7\" class=\"data row3 col7\" >0.613301</td>\n",
       "            </tr>\n",
       "            <tr>\n",
       "                        <th id=\"T_d84e43a0_dc12_11eb_9fbd_acde48001122level0_row4\" class=\"row_heading level0 row4\" >other_sales</th>\n",
       "                        <td id=\"T_d84e43a0_dc12_11eb_9fbd_acde48001122row4_col0\" class=\"data row4 col0\" >0.0378293</td>\n",
       "                        <td id=\"T_d84e43a0_dc12_11eb_9fbd_acde48001122row4_col1\" class=\"data row4 col1\" >0.638476</td>\n",
       "                        <td id=\"T_d84e43a0_dc12_11eb_9fbd_acde48001122row4_col2\" class=\"data row4 col2\" >0.722677</td>\n",
       "                        <td id=\"T_d84e43a0_dc12_11eb_9fbd_acde48001122row4_col3\" class=\"data row4 col3\" >0.291557</td>\n",
       "                        <td id=\"T_d84e43a0_dc12_11eb_9fbd_acde48001122row4_col4\" class=\"data row4 col4\" >1</td>\n",
       "                        <td id=\"T_d84e43a0_dc12_11eb_9fbd_acde48001122row4_col5\" class=\"data row4 col5\" >0.19841</td>\n",
       "                        <td id=\"T_d84e43a0_dc12_11eb_9fbd_acde48001122row4_col6\" class=\"data row4 col6\" >0.0569351</td>\n",
       "                        <td id=\"T_d84e43a0_dc12_11eb_9fbd_acde48001122row4_col7\" class=\"data row4 col7\" >0.748928</td>\n",
       "            </tr>\n",
       "            <tr>\n",
       "                        <th id=\"T_d84e43a0_dc12_11eb_9fbd_acde48001122level0_row5\" class=\"row_heading level0 row5\" >critic_score</th>\n",
       "                        <td id=\"T_d84e43a0_dc12_11eb_9fbd_acde48001122row5_col0\" class=\"data row5 col0\" >0.011411</td>\n",
       "                        <td id=\"T_d84e43a0_dc12_11eb_9fbd_acde48001122row5_col1\" class=\"data row5 col1\" >0.240083</td>\n",
       "                        <td id=\"T_d84e43a0_dc12_11eb_9fbd_acde48001122row5_col2\" class=\"data row5 col2\" >0.221276</td>\n",
       "                        <td id=\"T_d84e43a0_dc12_11eb_9fbd_acde48001122row5_col3\" class=\"data row5 col3\" >0.153474</td>\n",
       "                        <td id=\"T_d84e43a0_dc12_11eb_9fbd_acde48001122row5_col4\" class=\"data row5 col4\" >0.19841</td>\n",
       "                        <td id=\"T_d84e43a0_dc12_11eb_9fbd_acde48001122row5_col5\" class=\"data row5 col5\" >1</td>\n",
       "                        <td id=\"T_d84e43a0_dc12_11eb_9fbd_acde48001122row5_col6\" class=\"data row5 col6\" >0.579671</td>\n",
       "                        <td id=\"T_d84e43a0_dc12_11eb_9fbd_acde48001122row5_col7\" class=\"data row5 col7\" >0.245349</td>\n",
       "            </tr>\n",
       "            <tr>\n",
       "                        <th id=\"T_d84e43a0_dc12_11eb_9fbd_acde48001122level0_row6\" class=\"row_heading level0 row6\" >user_score</th>\n",
       "                        <td id=\"T_d84e43a0_dc12_11eb_9fbd_acde48001122row6_col0\" class=\"data row6 col0\" >-0.267851</td>\n",
       "                        <td id=\"T_d84e43a0_dc12_11eb_9fbd_acde48001122row6_col1\" class=\"data row6 col1\" >0.0855492</td>\n",
       "                        <td id=\"T_d84e43a0_dc12_11eb_9fbd_acde48001122row6_col2\" class=\"data row6 col2\" >0.0555299</td>\n",
       "                        <td id=\"T_d84e43a0_dc12_11eb_9fbd_acde48001122row6_col3\" class=\"data row6 col3\" >0.126372</td>\n",
       "                        <td id=\"T_d84e43a0_dc12_11eb_9fbd_acde48001122row6_col4\" class=\"data row6 col4\" >0.0569351</td>\n",
       "                        <td id=\"T_d84e43a0_dc12_11eb_9fbd_acde48001122row6_col5\" class=\"data row6 col5\" >0.579671</td>\n",
       "                        <td id=\"T_d84e43a0_dc12_11eb_9fbd_acde48001122row6_col6\" class=\"data row6 col6\" >1</td>\n",
       "                        <td id=\"T_d84e43a0_dc12_11eb_9fbd_acde48001122row6_col7\" class=\"data row6 col7\" >0.087984</td>\n",
       "            </tr>\n",
       "            <tr>\n",
       "                        <th id=\"T_d84e43a0_dc12_11eb_9fbd_acde48001122level0_row7\" class=\"row_heading level0 row7\" >total_sales</th>\n",
       "                        <td id=\"T_d84e43a0_dc12_11eb_9fbd_acde48001122row7_col0\" class=\"data row7 col0\" >-0.0762104</td>\n",
       "                        <td id=\"T_d84e43a0_dc12_11eb_9fbd_acde48001122row7_col1\" class=\"data row7 col1\" >0.941241</td>\n",
       "                        <td id=\"T_d84e43a0_dc12_11eb_9fbd_acde48001122row7_col2\" class=\"data row7 col2\" >0.901672</td>\n",
       "                        <td id=\"T_d84e43a0_dc12_11eb_9fbd_acde48001122row7_col3\" class=\"data row7 col3\" >0.613301</td>\n",
       "                        <td id=\"T_d84e43a0_dc12_11eb_9fbd_acde48001122row7_col4\" class=\"data row7 col4\" >0.748928</td>\n",
       "                        <td id=\"T_d84e43a0_dc12_11eb_9fbd_acde48001122row7_col5\" class=\"data row7 col5\" >0.245349</td>\n",
       "                        <td id=\"T_d84e43a0_dc12_11eb_9fbd_acde48001122row7_col6\" class=\"data row7 col6\" >0.087984</td>\n",
       "                        <td id=\"T_d84e43a0_dc12_11eb_9fbd_acde48001122row7_col7\" class=\"data row7 col7\" >1</td>\n",
       "            </tr>\n",
       "    </tbody></table>"
      ],
      "text/plain": [
       "<pandas.io.formats.style.Styler at 0x10487af90>"
      ]
     },
     "execution_count": 37,
     "metadata": {},
     "output_type": "execute_result"
    }
   ],
   "source": [
    "# построим матрицу корреляций Пирсона\n",
    "games.corr().style.background_gradient('coolwarm')"
   ]
  },
  {
   "cell_type": "markdown",
   "metadata": {},
   "source": [
    "Наблюдаем высокую положительную корреляцию между продажами в Северной Америке, продажами в Европе, продажами в других странах и суммарными продажами. Продажи в Японии положительно коррелируют только с суммарными продажами. Оценка критиков и оценка пользователей ни с чем сильно не коррелируют. "
   ]
  },
  {
   "cell_type": "markdown",
   "metadata": {},
   "source": [
    "Посмотрим, сколько игр выпускалось в разные годы."
   ]
  },
  {
   "cell_type": "code",
   "execution_count": 38,
   "metadata": {},
   "outputs": [
    {
     "data": {
      "text/html": [
       "<div>\n",
       "<style scoped>\n",
       "    .dataframe tbody tr th:only-of-type {\n",
       "        vertical-align: middle;\n",
       "    }\n",
       "\n",
       "    .dataframe tbody tr th {\n",
       "        vertical-align: top;\n",
       "    }\n",
       "\n",
       "    .dataframe thead th {\n",
       "        text-align: right;\n",
       "    }\n",
       "</style>\n",
       "<table border=\"1\" class=\"dataframe\">\n",
       "  <thead>\n",
       "    <tr style=\"text-align: right;\">\n",
       "      <th></th>\n",
       "      <th>name</th>\n",
       "    </tr>\n",
       "    <tr>\n",
       "      <th>year_of_release</th>\n",
       "      <th></th>\n",
       "    </tr>\n",
       "  </thead>\n",
       "  <tbody>\n",
       "    <tr>\n",
       "      <td>1980</td>\n",
       "      <td>9</td>\n",
       "    </tr>\n",
       "    <tr>\n",
       "      <td>1981</td>\n",
       "      <td>46</td>\n",
       "    </tr>\n",
       "    <tr>\n",
       "      <td>1982</td>\n",
       "      <td>36</td>\n",
       "    </tr>\n",
       "    <tr>\n",
       "      <td>1983</td>\n",
       "      <td>17</td>\n",
       "    </tr>\n",
       "    <tr>\n",
       "      <td>1984</td>\n",
       "      <td>14</td>\n",
       "    </tr>\n",
       "    <tr>\n",
       "      <td>1985</td>\n",
       "      <td>14</td>\n",
       "    </tr>\n",
       "    <tr>\n",
       "      <td>1986</td>\n",
       "      <td>21</td>\n",
       "    </tr>\n",
       "    <tr>\n",
       "      <td>1987</td>\n",
       "      <td>16</td>\n",
       "    </tr>\n",
       "    <tr>\n",
       "      <td>1988</td>\n",
       "      <td>15</td>\n",
       "    </tr>\n",
       "    <tr>\n",
       "      <td>1989</td>\n",
       "      <td>17</td>\n",
       "    </tr>\n",
       "    <tr>\n",
       "      <td>1990</td>\n",
       "      <td>16</td>\n",
       "    </tr>\n",
       "    <tr>\n",
       "      <td>1991</td>\n",
       "      <td>41</td>\n",
       "    </tr>\n",
       "    <tr>\n",
       "      <td>1992</td>\n",
       "      <td>43</td>\n",
       "    </tr>\n",
       "    <tr>\n",
       "      <td>1993</td>\n",
       "      <td>60</td>\n",
       "    </tr>\n",
       "    <tr>\n",
       "      <td>1994</td>\n",
       "      <td>121</td>\n",
       "    </tr>\n",
       "    <tr>\n",
       "      <td>1995</td>\n",
       "      <td>219</td>\n",
       "    </tr>\n",
       "    <tr>\n",
       "      <td>1996</td>\n",
       "      <td>263</td>\n",
       "    </tr>\n",
       "    <tr>\n",
       "      <td>1997</td>\n",
       "      <td>289</td>\n",
       "    </tr>\n",
       "    <tr>\n",
       "      <td>1998</td>\n",
       "      <td>379</td>\n",
       "    </tr>\n",
       "    <tr>\n",
       "      <td>1999</td>\n",
       "      <td>338</td>\n",
       "    </tr>\n",
       "    <tr>\n",
       "      <td>2000</td>\n",
       "      <td>350</td>\n",
       "    </tr>\n",
       "    <tr>\n",
       "      <td>2001</td>\n",
       "      <td>482</td>\n",
       "    </tr>\n",
       "    <tr>\n",
       "      <td>2002</td>\n",
       "      <td>829</td>\n",
       "    </tr>\n",
       "    <tr>\n",
       "      <td>2003</td>\n",
       "      <td>775</td>\n",
       "    </tr>\n",
       "    <tr>\n",
       "      <td>2004</td>\n",
       "      <td>762</td>\n",
       "    </tr>\n",
       "    <tr>\n",
       "      <td>2005</td>\n",
       "      <td>939</td>\n",
       "    </tr>\n",
       "    <tr>\n",
       "      <td>2006</td>\n",
       "      <td>1006</td>\n",
       "    </tr>\n",
       "    <tr>\n",
       "      <td>2007</td>\n",
       "      <td>1197</td>\n",
       "    </tr>\n",
       "    <tr>\n",
       "      <td>2008</td>\n",
       "      <td>1425</td>\n",
       "    </tr>\n",
       "    <tr>\n",
       "      <td>2009</td>\n",
       "      <td>1426</td>\n",
       "    </tr>\n",
       "    <tr>\n",
       "      <td>2010</td>\n",
       "      <td>1255</td>\n",
       "    </tr>\n",
       "    <tr>\n",
       "      <td>2011</td>\n",
       "      <td>1136</td>\n",
       "    </tr>\n",
       "    <tr>\n",
       "      <td>2012</td>\n",
       "      <td>653</td>\n",
       "    </tr>\n",
       "    <tr>\n",
       "      <td>2013</td>\n",
       "      <td>544</td>\n",
       "    </tr>\n",
       "    <tr>\n",
       "      <td>2014</td>\n",
       "      <td>581</td>\n",
       "    </tr>\n",
       "    <tr>\n",
       "      <td>2015</td>\n",
       "      <td>606</td>\n",
       "    </tr>\n",
       "    <tr>\n",
       "      <td>2016</td>\n",
       "      <td>502</td>\n",
       "    </tr>\n",
       "  </tbody>\n",
       "</table>\n",
       "</div>"
      ],
      "text/plain": [
       "                 name\n",
       "year_of_release      \n",
       "1980                9\n",
       "1981               46\n",
       "1982               36\n",
       "1983               17\n",
       "1984               14\n",
       "1985               14\n",
       "1986               21\n",
       "1987               16\n",
       "1988               15\n",
       "1989               17\n",
       "1990               16\n",
       "1991               41\n",
       "1992               43\n",
       "1993               60\n",
       "1994              121\n",
       "1995              219\n",
       "1996              263\n",
       "1997              289\n",
       "1998              379\n",
       "1999              338\n",
       "2000              350\n",
       "2001              482\n",
       "2002              829\n",
       "2003              775\n",
       "2004              762\n",
       "2005              939\n",
       "2006             1006\n",
       "2007             1197\n",
       "2008             1425\n",
       "2009             1426\n",
       "2010             1255\n",
       "2011             1136\n",
       "2012              653\n",
       "2013              544\n",
       "2014              581\n",
       "2015              606\n",
       "2016              502"
      ]
     },
     "execution_count": 38,
     "metadata": {},
     "output_type": "execute_result"
    }
   ],
   "source": [
    "# создадим сводную таблицу с числом игр в каждом году\n",
    "games.pivot_table(index='year_of_release', values='name', aggfunc='count')"
   ]
  },
  {
   "cell_type": "markdown",
   "metadata": {},
   "source": [
    "Количество выпускаемых игр в некотрых годах ничтожно мало, например 9 игр в 1980 году. До 1991 года ежегодно выпускалось меньше 20 игр, за исключением 1981, 1982 и 1986 года. До 1994 года выпускалось меньше 100 игр ежегодно. Начиная с 1994 года количество ежегодно выпускаемых игр не было ниже 100."
   ]
  },
  {
   "cell_type": "markdown",
   "metadata": {},
   "source": [
    "Посмотрим, как менялись продажи по платформам. Выберем платформы с наибольшими суммарными продажами и построим распределение по годам. Также выявим типичный срок жизни платформы."
   ]
  },
  {
   "cell_type": "code",
   "execution_count": 39,
   "metadata": {},
   "outputs": [
    {
     "data": {
      "text/html": [
       "<div>\n",
       "<style scoped>\n",
       "    .dataframe tbody tr th:only-of-type {\n",
       "        vertical-align: middle;\n",
       "    }\n",
       "\n",
       "    .dataframe tbody tr th {\n",
       "        vertical-align: top;\n",
       "    }\n",
       "\n",
       "    .dataframe thead th {\n",
       "        text-align: right;\n",
       "    }\n",
       "</style>\n",
       "<table border=\"1\" class=\"dataframe\">\n",
       "  <thead>\n",
       "    <tr style=\"text-align: right;\">\n",
       "      <th></th>\n",
       "      <th>platform</th>\n",
       "      <th>total_sales</th>\n",
       "    </tr>\n",
       "  </thead>\n",
       "  <tbody>\n",
       "    <tr>\n",
       "      <td>0</td>\n",
       "      <td>PS2</td>\n",
       "      <td>1233.56</td>\n",
       "    </tr>\n",
       "    <tr>\n",
       "      <td>1</td>\n",
       "      <td>X360</td>\n",
       "      <td>961.24</td>\n",
       "    </tr>\n",
       "    <tr>\n",
       "      <td>2</td>\n",
       "      <td>PS3</td>\n",
       "      <td>931.34</td>\n",
       "    </tr>\n",
       "    <tr>\n",
       "      <td>3</td>\n",
       "      <td>Wii</td>\n",
       "      <td>891.18</td>\n",
       "    </tr>\n",
       "    <tr>\n",
       "      <td>4</td>\n",
       "      <td>DS</td>\n",
       "      <td>802.78</td>\n",
       "    </tr>\n",
       "    <tr>\n",
       "      <td>5</td>\n",
       "      <td>PS</td>\n",
       "      <td>727.58</td>\n",
       "    </tr>\n",
       "    <tr>\n",
       "      <td>6</td>\n",
       "      <td>PS4</td>\n",
       "      <td>314.14</td>\n",
       "    </tr>\n",
       "    <tr>\n",
       "      <td>7</td>\n",
       "      <td>GBA</td>\n",
       "      <td>312.88</td>\n",
       "    </tr>\n",
       "    <tr>\n",
       "      <td>8</td>\n",
       "      <td>PSP</td>\n",
       "      <td>289.53</td>\n",
       "    </tr>\n",
       "    <tr>\n",
       "      <td>9</td>\n",
       "      <td>3DS</td>\n",
       "      <td>257.81</td>\n",
       "    </tr>\n",
       "    <tr>\n",
       "      <td>10</td>\n",
       "      <td>PC</td>\n",
       "      <td>255.76</td>\n",
       "    </tr>\n",
       "    <tr>\n",
       "      <td>11</td>\n",
       "      <td>GB</td>\n",
       "      <td>254.43</td>\n",
       "    </tr>\n",
       "    <tr>\n",
       "      <td>12</td>\n",
       "      <td>XB</td>\n",
       "      <td>251.57</td>\n",
       "    </tr>\n",
       "    <tr>\n",
       "      <td>13</td>\n",
       "      <td>NES</td>\n",
       "      <td>251.05</td>\n",
       "    </tr>\n",
       "    <tr>\n",
       "      <td>14</td>\n",
       "      <td>N64</td>\n",
       "      <td>218.01</td>\n",
       "    </tr>\n",
       "    <tr>\n",
       "      <td>15</td>\n",
       "      <td>SNES</td>\n",
       "      <td>200.04</td>\n",
       "    </tr>\n",
       "    <tr>\n",
       "      <td>16</td>\n",
       "      <td>GC</td>\n",
       "      <td>196.73</td>\n",
       "    </tr>\n",
       "    <tr>\n",
       "      <td>17</td>\n",
       "      <td>XOne</td>\n",
       "      <td>159.32</td>\n",
       "    </tr>\n",
       "    <tr>\n",
       "      <td>18</td>\n",
       "      <td>2600</td>\n",
       "      <td>86.48</td>\n",
       "    </tr>\n",
       "    <tr>\n",
       "      <td>19</td>\n",
       "      <td>WiiU</td>\n",
       "      <td>82.19</td>\n",
       "    </tr>\n",
       "    <tr>\n",
       "      <td>20</td>\n",
       "      <td>PSV</td>\n",
       "      <td>53.81</td>\n",
       "    </tr>\n",
       "    <tr>\n",
       "      <td>21</td>\n",
       "      <td>SAT</td>\n",
       "      <td>33.59</td>\n",
       "    </tr>\n",
       "    <tr>\n",
       "      <td>22</td>\n",
       "      <td>GEN</td>\n",
       "      <td>28.35</td>\n",
       "    </tr>\n",
       "    <tr>\n",
       "      <td>23</td>\n",
       "      <td>DC</td>\n",
       "      <td>15.95</td>\n",
       "    </tr>\n",
       "    <tr>\n",
       "      <td>24</td>\n",
       "      <td>SCD</td>\n",
       "      <td>1.86</td>\n",
       "    </tr>\n",
       "    <tr>\n",
       "      <td>25</td>\n",
       "      <td>NG</td>\n",
       "      <td>1.44</td>\n",
       "    </tr>\n",
       "    <tr>\n",
       "      <td>26</td>\n",
       "      <td>WS</td>\n",
       "      <td>1.42</td>\n",
       "    </tr>\n",
       "    <tr>\n",
       "      <td>27</td>\n",
       "      <td>TG16</td>\n",
       "      <td>0.16</td>\n",
       "    </tr>\n",
       "    <tr>\n",
       "      <td>28</td>\n",
       "      <td>3DO</td>\n",
       "      <td>0.10</td>\n",
       "    </tr>\n",
       "    <tr>\n",
       "      <td>29</td>\n",
       "      <td>GG</td>\n",
       "      <td>0.04</td>\n",
       "    </tr>\n",
       "    <tr>\n",
       "      <td>30</td>\n",
       "      <td>PCFX</td>\n",
       "      <td>0.03</td>\n",
       "    </tr>\n",
       "  </tbody>\n",
       "</table>\n",
       "</div>"
      ],
      "text/plain": [
       "   platform  total_sales\n",
       "0       PS2      1233.56\n",
       "1      X360       961.24\n",
       "2       PS3       931.34\n",
       "3       Wii       891.18\n",
       "4        DS       802.78\n",
       "5        PS       727.58\n",
       "6       PS4       314.14\n",
       "7       GBA       312.88\n",
       "8       PSP       289.53\n",
       "9       3DS       257.81\n",
       "10       PC       255.76\n",
       "11       GB       254.43\n",
       "12       XB       251.57\n",
       "13      NES       251.05\n",
       "14      N64       218.01\n",
       "15     SNES       200.04\n",
       "16       GC       196.73\n",
       "17     XOne       159.32\n",
       "18     2600        86.48\n",
       "19     WiiU        82.19\n",
       "20      PSV        53.81\n",
       "21      SAT        33.59\n",
       "22      GEN        28.35\n",
       "23       DC        15.95\n",
       "24      SCD         1.86\n",
       "25       NG         1.44\n",
       "26       WS         1.42\n",
       "27     TG16         0.16\n",
       "28      3DO         0.10\n",
       "29       GG         0.04\n",
       "30     PCFX         0.03"
      ]
     },
     "execution_count": 39,
     "metadata": {},
     "output_type": "execute_result"
    }
   ],
   "source": [
    "# сводная таблица по платформам с суммарными продажами\n",
    "platforms_sales = games.pivot_table(index='platform', aggfunc={'total_sales':'sum'})\\\n",
    ".sort_values(by='total_sales', ascending=False).reset_index()\n",
    "platforms_sales"
   ]
  },
  {
   "cell_type": "markdown",
   "metadata": {},
   "source": [
    "Возьмем первые 6 платформ для анализа по годам, так как после 6-й платформы продажи меньше в два раза. Топ-6 платформ по суммарным продажам: PS2, X360, PS3, Wii, DS и PS."
   ]
  },
  {
   "cell_type": "code",
   "execution_count": 40,
   "metadata": {},
   "outputs": [
    {
     "data": {
      "text/plain": [
       "['PS2', 'X360', 'PS3', 'Wii', 'DS', 'PS']"
      ]
     },
     "execution_count": 40,
     "metadata": {},
     "output_type": "execute_result"
    }
   ],
   "source": [
    "# сохраним топ-6 платформ в список\n",
    "top_plat = list(platforms_sales[:6]['platform'])\n",
    "top_plat"
   ]
  },
  {
   "cell_type": "code",
   "execution_count": 41,
   "metadata": {},
   "outputs": [],
   "source": [
    "# создаем таблицу с топ-платформами\n",
    "top_platform = games.query('platform in @top_plat')"
   ]
  },
  {
   "cell_type": "code",
   "execution_count": 42,
   "metadata": {},
   "outputs": [
    {
     "data": {
      "text/plain": [
       "PS2     2126\n",
       "DS      2121\n",
       "PS3     1305\n",
       "Wii     1286\n",
       "X360    1232\n",
       "PS      1190\n",
       "Name: platform, dtype: int64"
      ]
     },
     "execution_count": 42,
     "metadata": {},
     "output_type": "execute_result"
    }
   ],
   "source": [
    "# проверяем уникальные платформы в таблице с топ-платформами\n",
    "top_platform['platform'].value_counts()"
   ]
  },
  {
   "cell_type": "code",
   "execution_count": 43,
   "metadata": {},
   "outputs": [
    {
     "data": {
      "text/html": [
       "<div>\n",
       "<style scoped>\n",
       "    .dataframe tbody tr th:only-of-type {\n",
       "        vertical-align: middle;\n",
       "    }\n",
       "\n",
       "    .dataframe tbody tr th {\n",
       "        vertical-align: top;\n",
       "    }\n",
       "\n",
       "    .dataframe thead tr th {\n",
       "        text-align: left;\n",
       "    }\n",
       "\n",
       "    .dataframe thead tr:last-of-type th {\n",
       "        text-align: right;\n",
       "    }\n",
       "</style>\n",
       "<table border=\"1\" class=\"dataframe\">\n",
       "  <thead>\n",
       "    <tr>\n",
       "      <th></th>\n",
       "      <th colspan=\"6\" halign=\"left\">total_sales</th>\n",
       "    </tr>\n",
       "    <tr>\n",
       "      <th>platform</th>\n",
       "      <th>DS</th>\n",
       "      <th>PS</th>\n",
       "      <th>PS2</th>\n",
       "      <th>PS3</th>\n",
       "      <th>Wii</th>\n",
       "      <th>X360</th>\n",
       "    </tr>\n",
       "    <tr>\n",
       "      <th>year_of_release</th>\n",
       "      <th></th>\n",
       "      <th></th>\n",
       "      <th></th>\n",
       "      <th></th>\n",
       "      <th></th>\n",
       "      <th></th>\n",
       "    </tr>\n",
       "  </thead>\n",
       "  <tbody>\n",
       "    <tr>\n",
       "      <td>1985</td>\n",
       "      <td>0.02</td>\n",
       "      <td>NaN</td>\n",
       "      <td>NaN</td>\n",
       "      <td>NaN</td>\n",
       "      <td>NaN</td>\n",
       "      <td>NaN</td>\n",
       "    </tr>\n",
       "    <tr>\n",
       "      <td>1994</td>\n",
       "      <td>NaN</td>\n",
       "      <td>6.03</td>\n",
       "      <td>NaN</td>\n",
       "      <td>NaN</td>\n",
       "      <td>NaN</td>\n",
       "      <td>NaN</td>\n",
       "    </tr>\n",
       "    <tr>\n",
       "      <td>1995</td>\n",
       "      <td>NaN</td>\n",
       "      <td>35.96</td>\n",
       "      <td>NaN</td>\n",
       "      <td>NaN</td>\n",
       "      <td>NaN</td>\n",
       "      <td>NaN</td>\n",
       "    </tr>\n",
       "    <tr>\n",
       "      <td>1996</td>\n",
       "      <td>NaN</td>\n",
       "      <td>94.70</td>\n",
       "      <td>NaN</td>\n",
       "      <td>NaN</td>\n",
       "      <td>NaN</td>\n",
       "      <td>NaN</td>\n",
       "    </tr>\n",
       "    <tr>\n",
       "      <td>1997</td>\n",
       "      <td>NaN</td>\n",
       "      <td>136.17</td>\n",
       "      <td>NaN</td>\n",
       "      <td>NaN</td>\n",
       "      <td>NaN</td>\n",
       "      <td>NaN</td>\n",
       "    </tr>\n",
       "    <tr>\n",
       "      <td>1998</td>\n",
       "      <td>NaN</td>\n",
       "      <td>169.49</td>\n",
       "      <td>NaN</td>\n",
       "      <td>NaN</td>\n",
       "      <td>NaN</td>\n",
       "      <td>NaN</td>\n",
       "    </tr>\n",
       "    <tr>\n",
       "      <td>1999</td>\n",
       "      <td>NaN</td>\n",
       "      <td>144.53</td>\n",
       "      <td>NaN</td>\n",
       "      <td>NaN</td>\n",
       "      <td>NaN</td>\n",
       "      <td>NaN</td>\n",
       "    </tr>\n",
       "    <tr>\n",
       "      <td>2000</td>\n",
       "      <td>NaN</td>\n",
       "      <td>96.37</td>\n",
       "      <td>39.17</td>\n",
       "      <td>NaN</td>\n",
       "      <td>NaN</td>\n",
       "      <td>NaN</td>\n",
       "    </tr>\n",
       "    <tr>\n",
       "      <td>2001</td>\n",
       "      <td>NaN</td>\n",
       "      <td>35.59</td>\n",
       "      <td>166.43</td>\n",
       "      <td>NaN</td>\n",
       "      <td>NaN</td>\n",
       "      <td>NaN</td>\n",
       "    </tr>\n",
       "    <tr>\n",
       "      <td>2002</td>\n",
       "      <td>NaN</td>\n",
       "      <td>6.67</td>\n",
       "      <td>205.38</td>\n",
       "      <td>NaN</td>\n",
       "      <td>NaN</td>\n",
       "      <td>NaN</td>\n",
       "    </tr>\n",
       "    <tr>\n",
       "      <td>2003</td>\n",
       "      <td>NaN</td>\n",
       "      <td>2.07</td>\n",
       "      <td>184.31</td>\n",
       "      <td>NaN</td>\n",
       "      <td>NaN</td>\n",
       "      <td>NaN</td>\n",
       "    </tr>\n",
       "    <tr>\n",
       "      <td>2004</td>\n",
       "      <td>17.27</td>\n",
       "      <td>NaN</td>\n",
       "      <td>211.81</td>\n",
       "      <td>NaN</td>\n",
       "      <td>NaN</td>\n",
       "      <td>NaN</td>\n",
       "    </tr>\n",
       "    <tr>\n",
       "      <td>2005</td>\n",
       "      <td>130.14</td>\n",
       "      <td>NaN</td>\n",
       "      <td>160.66</td>\n",
       "      <td>NaN</td>\n",
       "      <td>NaN</td>\n",
       "      <td>8.25</td>\n",
       "    </tr>\n",
       "    <tr>\n",
       "      <td>2006</td>\n",
       "      <td>119.81</td>\n",
       "      <td>NaN</td>\n",
       "      <td>103.42</td>\n",
       "      <td>20.96</td>\n",
       "      <td>137.15</td>\n",
       "      <td>51.62</td>\n",
       "    </tr>\n",
       "    <tr>\n",
       "      <td>2007</td>\n",
       "      <td>146.94</td>\n",
       "      <td>NaN</td>\n",
       "      <td>75.99</td>\n",
       "      <td>73.19</td>\n",
       "      <td>152.77</td>\n",
       "      <td>95.41</td>\n",
       "    </tr>\n",
       "    <tr>\n",
       "      <td>2008</td>\n",
       "      <td>145.31</td>\n",
       "      <td>NaN</td>\n",
       "      <td>53.90</td>\n",
       "      <td>118.52</td>\n",
       "      <td>171.32</td>\n",
       "      <td>135.26</td>\n",
       "    </tr>\n",
       "    <tr>\n",
       "      <td>2009</td>\n",
       "      <td>119.54</td>\n",
       "      <td>NaN</td>\n",
       "      <td>26.40</td>\n",
       "      <td>130.93</td>\n",
       "      <td>206.97</td>\n",
       "      <td>120.29</td>\n",
       "    </tr>\n",
       "    <tr>\n",
       "      <td>2010</td>\n",
       "      <td>85.02</td>\n",
       "      <td>NaN</td>\n",
       "      <td>5.64</td>\n",
       "      <td>142.17</td>\n",
       "      <td>127.95</td>\n",
       "      <td>170.03</td>\n",
       "    </tr>\n",
       "    <tr>\n",
       "      <td>2011</td>\n",
       "      <td>26.18</td>\n",
       "      <td>NaN</td>\n",
       "      <td>0.45</td>\n",
       "      <td>156.78</td>\n",
       "      <td>59.65</td>\n",
       "      <td>143.84</td>\n",
       "    </tr>\n",
       "    <tr>\n",
       "      <td>2012</td>\n",
       "      <td>11.01</td>\n",
       "      <td>NaN</td>\n",
       "      <td>NaN</td>\n",
       "      <td>107.36</td>\n",
       "      <td>21.71</td>\n",
       "      <td>99.74</td>\n",
       "    </tr>\n",
       "    <tr>\n",
       "      <td>2013</td>\n",
       "      <td>1.54</td>\n",
       "      <td>NaN</td>\n",
       "      <td>NaN</td>\n",
       "      <td>113.25</td>\n",
       "      <td>8.59</td>\n",
       "      <td>88.58</td>\n",
       "    </tr>\n",
       "    <tr>\n",
       "      <td>2014</td>\n",
       "      <td>NaN</td>\n",
       "      <td>NaN</td>\n",
       "      <td>NaN</td>\n",
       "      <td>47.76</td>\n",
       "      <td>3.75</td>\n",
       "      <td>34.74</td>\n",
       "    </tr>\n",
       "    <tr>\n",
       "      <td>2015</td>\n",
       "      <td>NaN</td>\n",
       "      <td>NaN</td>\n",
       "      <td>NaN</td>\n",
       "      <td>16.82</td>\n",
       "      <td>1.14</td>\n",
       "      <td>11.96</td>\n",
       "    </tr>\n",
       "    <tr>\n",
       "      <td>2016</td>\n",
       "      <td>NaN</td>\n",
       "      <td>NaN</td>\n",
       "      <td>NaN</td>\n",
       "      <td>3.60</td>\n",
       "      <td>0.18</td>\n",
       "      <td>1.52</td>\n",
       "    </tr>\n",
       "  </tbody>\n",
       "</table>\n",
       "</div>"
      ],
      "text/plain": [
       "                total_sales                                        \n",
       "platform                 DS      PS     PS2     PS3     Wii    X360\n",
       "year_of_release                                                    \n",
       "1985                   0.02     NaN     NaN     NaN     NaN     NaN\n",
       "1994                    NaN    6.03     NaN     NaN     NaN     NaN\n",
       "1995                    NaN   35.96     NaN     NaN     NaN     NaN\n",
       "1996                    NaN   94.70     NaN     NaN     NaN     NaN\n",
       "1997                    NaN  136.17     NaN     NaN     NaN     NaN\n",
       "1998                    NaN  169.49     NaN     NaN     NaN     NaN\n",
       "1999                    NaN  144.53     NaN     NaN     NaN     NaN\n",
       "2000                    NaN   96.37   39.17     NaN     NaN     NaN\n",
       "2001                    NaN   35.59  166.43     NaN     NaN     NaN\n",
       "2002                    NaN    6.67  205.38     NaN     NaN     NaN\n",
       "2003                    NaN    2.07  184.31     NaN     NaN     NaN\n",
       "2004                  17.27     NaN  211.81     NaN     NaN     NaN\n",
       "2005                 130.14     NaN  160.66     NaN     NaN    8.25\n",
       "2006                 119.81     NaN  103.42   20.96  137.15   51.62\n",
       "2007                 146.94     NaN   75.99   73.19  152.77   95.41\n",
       "2008                 145.31     NaN   53.90  118.52  171.32  135.26\n",
       "2009                 119.54     NaN   26.40  130.93  206.97  120.29\n",
       "2010                  85.02     NaN    5.64  142.17  127.95  170.03\n",
       "2011                  26.18     NaN    0.45  156.78   59.65  143.84\n",
       "2012                  11.01     NaN     NaN  107.36   21.71   99.74\n",
       "2013                   1.54     NaN     NaN  113.25    8.59   88.58\n",
       "2014                    NaN     NaN     NaN   47.76    3.75   34.74\n",
       "2015                    NaN     NaN     NaN   16.82    1.14   11.96\n",
       "2016                    NaN     NaN     NaN    3.60    0.18    1.52"
      ]
     },
     "execution_count": 43,
     "metadata": {},
     "output_type": "execute_result"
    }
   ],
   "source": [
    "# сводная таблица по топовым платформам с суммарными продажами\n",
    "top_platform_piv = top_platform.pivot_table(index=['year_of_release', 'platform'], aggfunc={'total_sales':'sum'})\\\n",
    ".unstack(level=-1)\n",
    "top_platform_piv"
   ]
  },
  {
   "cell_type": "code",
   "execution_count": 44,
   "metadata": {},
   "outputs": [],
   "source": [
    "# избавляемся от мультииндекса\n",
    "top_platform_piv.columns = top_platform_piv.columns.droplevel(0)"
   ]
  },
  {
   "cell_type": "code",
   "execution_count": 45,
   "metadata": {},
   "outputs": [
    {
     "data": {
      "text/html": [
       "<div>\n",
       "<style scoped>\n",
       "    .dataframe tbody tr th:only-of-type {\n",
       "        vertical-align: middle;\n",
       "    }\n",
       "\n",
       "    .dataframe tbody tr th {\n",
       "        vertical-align: top;\n",
       "    }\n",
       "\n",
       "    .dataframe thead th {\n",
       "        text-align: right;\n",
       "    }\n",
       "</style>\n",
       "<table border=\"1\" class=\"dataframe\">\n",
       "  <thead>\n",
       "    <tr style=\"text-align: right;\">\n",
       "      <th>platform</th>\n",
       "      <th>year_of_release</th>\n",
       "      <th>DS</th>\n",
       "      <th>PS</th>\n",
       "      <th>PS2</th>\n",
       "      <th>PS3</th>\n",
       "      <th>Wii</th>\n",
       "      <th>X360</th>\n",
       "    </tr>\n",
       "  </thead>\n",
       "  <tbody>\n",
       "    <tr>\n",
       "      <td>0</td>\n",
       "      <td>1985</td>\n",
       "      <td>0.02</td>\n",
       "      <td>NaN</td>\n",
       "      <td>NaN</td>\n",
       "      <td>NaN</td>\n",
       "      <td>NaN</td>\n",
       "      <td>NaN</td>\n",
       "    </tr>\n",
       "    <tr>\n",
       "      <td>1</td>\n",
       "      <td>1994</td>\n",
       "      <td>NaN</td>\n",
       "      <td>6.03</td>\n",
       "      <td>NaN</td>\n",
       "      <td>NaN</td>\n",
       "      <td>NaN</td>\n",
       "      <td>NaN</td>\n",
       "    </tr>\n",
       "    <tr>\n",
       "      <td>2</td>\n",
       "      <td>1995</td>\n",
       "      <td>NaN</td>\n",
       "      <td>35.96</td>\n",
       "      <td>NaN</td>\n",
       "      <td>NaN</td>\n",
       "      <td>NaN</td>\n",
       "      <td>NaN</td>\n",
       "    </tr>\n",
       "    <tr>\n",
       "      <td>3</td>\n",
       "      <td>1996</td>\n",
       "      <td>NaN</td>\n",
       "      <td>94.70</td>\n",
       "      <td>NaN</td>\n",
       "      <td>NaN</td>\n",
       "      <td>NaN</td>\n",
       "      <td>NaN</td>\n",
       "    </tr>\n",
       "    <tr>\n",
       "      <td>4</td>\n",
       "      <td>1997</td>\n",
       "      <td>NaN</td>\n",
       "      <td>136.17</td>\n",
       "      <td>NaN</td>\n",
       "      <td>NaN</td>\n",
       "      <td>NaN</td>\n",
       "      <td>NaN</td>\n",
       "    </tr>\n",
       "    <tr>\n",
       "      <td>5</td>\n",
       "      <td>1998</td>\n",
       "      <td>NaN</td>\n",
       "      <td>169.49</td>\n",
       "      <td>NaN</td>\n",
       "      <td>NaN</td>\n",
       "      <td>NaN</td>\n",
       "      <td>NaN</td>\n",
       "    </tr>\n",
       "    <tr>\n",
       "      <td>6</td>\n",
       "      <td>1999</td>\n",
       "      <td>NaN</td>\n",
       "      <td>144.53</td>\n",
       "      <td>NaN</td>\n",
       "      <td>NaN</td>\n",
       "      <td>NaN</td>\n",
       "      <td>NaN</td>\n",
       "    </tr>\n",
       "    <tr>\n",
       "      <td>7</td>\n",
       "      <td>2000</td>\n",
       "      <td>NaN</td>\n",
       "      <td>96.37</td>\n",
       "      <td>39.17</td>\n",
       "      <td>NaN</td>\n",
       "      <td>NaN</td>\n",
       "      <td>NaN</td>\n",
       "    </tr>\n",
       "    <tr>\n",
       "      <td>8</td>\n",
       "      <td>2001</td>\n",
       "      <td>NaN</td>\n",
       "      <td>35.59</td>\n",
       "      <td>166.43</td>\n",
       "      <td>NaN</td>\n",
       "      <td>NaN</td>\n",
       "      <td>NaN</td>\n",
       "    </tr>\n",
       "    <tr>\n",
       "      <td>9</td>\n",
       "      <td>2002</td>\n",
       "      <td>NaN</td>\n",
       "      <td>6.67</td>\n",
       "      <td>205.38</td>\n",
       "      <td>NaN</td>\n",
       "      <td>NaN</td>\n",
       "      <td>NaN</td>\n",
       "    </tr>\n",
       "    <tr>\n",
       "      <td>10</td>\n",
       "      <td>2003</td>\n",
       "      <td>NaN</td>\n",
       "      <td>2.07</td>\n",
       "      <td>184.31</td>\n",
       "      <td>NaN</td>\n",
       "      <td>NaN</td>\n",
       "      <td>NaN</td>\n",
       "    </tr>\n",
       "    <tr>\n",
       "      <td>11</td>\n",
       "      <td>2004</td>\n",
       "      <td>17.27</td>\n",
       "      <td>NaN</td>\n",
       "      <td>211.81</td>\n",
       "      <td>NaN</td>\n",
       "      <td>NaN</td>\n",
       "      <td>NaN</td>\n",
       "    </tr>\n",
       "    <tr>\n",
       "      <td>12</td>\n",
       "      <td>2005</td>\n",
       "      <td>130.14</td>\n",
       "      <td>NaN</td>\n",
       "      <td>160.66</td>\n",
       "      <td>NaN</td>\n",
       "      <td>NaN</td>\n",
       "      <td>8.25</td>\n",
       "    </tr>\n",
       "    <tr>\n",
       "      <td>13</td>\n",
       "      <td>2006</td>\n",
       "      <td>119.81</td>\n",
       "      <td>NaN</td>\n",
       "      <td>103.42</td>\n",
       "      <td>20.96</td>\n",
       "      <td>137.15</td>\n",
       "      <td>51.62</td>\n",
       "    </tr>\n",
       "    <tr>\n",
       "      <td>14</td>\n",
       "      <td>2007</td>\n",
       "      <td>146.94</td>\n",
       "      <td>NaN</td>\n",
       "      <td>75.99</td>\n",
       "      <td>73.19</td>\n",
       "      <td>152.77</td>\n",
       "      <td>95.41</td>\n",
       "    </tr>\n",
       "    <tr>\n",
       "      <td>15</td>\n",
       "      <td>2008</td>\n",
       "      <td>145.31</td>\n",
       "      <td>NaN</td>\n",
       "      <td>53.90</td>\n",
       "      <td>118.52</td>\n",
       "      <td>171.32</td>\n",
       "      <td>135.26</td>\n",
       "    </tr>\n",
       "    <tr>\n",
       "      <td>16</td>\n",
       "      <td>2009</td>\n",
       "      <td>119.54</td>\n",
       "      <td>NaN</td>\n",
       "      <td>26.40</td>\n",
       "      <td>130.93</td>\n",
       "      <td>206.97</td>\n",
       "      <td>120.29</td>\n",
       "    </tr>\n",
       "    <tr>\n",
       "      <td>17</td>\n",
       "      <td>2010</td>\n",
       "      <td>85.02</td>\n",
       "      <td>NaN</td>\n",
       "      <td>5.64</td>\n",
       "      <td>142.17</td>\n",
       "      <td>127.95</td>\n",
       "      <td>170.03</td>\n",
       "    </tr>\n",
       "    <tr>\n",
       "      <td>18</td>\n",
       "      <td>2011</td>\n",
       "      <td>26.18</td>\n",
       "      <td>NaN</td>\n",
       "      <td>0.45</td>\n",
       "      <td>156.78</td>\n",
       "      <td>59.65</td>\n",
       "      <td>143.84</td>\n",
       "    </tr>\n",
       "    <tr>\n",
       "      <td>19</td>\n",
       "      <td>2012</td>\n",
       "      <td>11.01</td>\n",
       "      <td>NaN</td>\n",
       "      <td>NaN</td>\n",
       "      <td>107.36</td>\n",
       "      <td>21.71</td>\n",
       "      <td>99.74</td>\n",
       "    </tr>\n",
       "    <tr>\n",
       "      <td>20</td>\n",
       "      <td>2013</td>\n",
       "      <td>1.54</td>\n",
       "      <td>NaN</td>\n",
       "      <td>NaN</td>\n",
       "      <td>113.25</td>\n",
       "      <td>8.59</td>\n",
       "      <td>88.58</td>\n",
       "    </tr>\n",
       "    <tr>\n",
       "      <td>21</td>\n",
       "      <td>2014</td>\n",
       "      <td>NaN</td>\n",
       "      <td>NaN</td>\n",
       "      <td>NaN</td>\n",
       "      <td>47.76</td>\n",
       "      <td>3.75</td>\n",
       "      <td>34.74</td>\n",
       "    </tr>\n",
       "    <tr>\n",
       "      <td>22</td>\n",
       "      <td>2015</td>\n",
       "      <td>NaN</td>\n",
       "      <td>NaN</td>\n",
       "      <td>NaN</td>\n",
       "      <td>16.82</td>\n",
       "      <td>1.14</td>\n",
       "      <td>11.96</td>\n",
       "    </tr>\n",
       "    <tr>\n",
       "      <td>23</td>\n",
       "      <td>2016</td>\n",
       "      <td>NaN</td>\n",
       "      <td>NaN</td>\n",
       "      <td>NaN</td>\n",
       "      <td>3.60</td>\n",
       "      <td>0.18</td>\n",
       "      <td>1.52</td>\n",
       "    </tr>\n",
       "  </tbody>\n",
       "</table>\n",
       "</div>"
      ],
      "text/plain": [
       "platform  year_of_release      DS      PS     PS2     PS3     Wii    X360\n",
       "0                    1985    0.02     NaN     NaN     NaN     NaN     NaN\n",
       "1                    1994     NaN    6.03     NaN     NaN     NaN     NaN\n",
       "2                    1995     NaN   35.96     NaN     NaN     NaN     NaN\n",
       "3                    1996     NaN   94.70     NaN     NaN     NaN     NaN\n",
       "4                    1997     NaN  136.17     NaN     NaN     NaN     NaN\n",
       "5                    1998     NaN  169.49     NaN     NaN     NaN     NaN\n",
       "6                    1999     NaN  144.53     NaN     NaN     NaN     NaN\n",
       "7                    2000     NaN   96.37   39.17     NaN     NaN     NaN\n",
       "8                    2001     NaN   35.59  166.43     NaN     NaN     NaN\n",
       "9                    2002     NaN    6.67  205.38     NaN     NaN     NaN\n",
       "10                   2003     NaN    2.07  184.31     NaN     NaN     NaN\n",
       "11                   2004   17.27     NaN  211.81     NaN     NaN     NaN\n",
       "12                   2005  130.14     NaN  160.66     NaN     NaN    8.25\n",
       "13                   2006  119.81     NaN  103.42   20.96  137.15   51.62\n",
       "14                   2007  146.94     NaN   75.99   73.19  152.77   95.41\n",
       "15                   2008  145.31     NaN   53.90  118.52  171.32  135.26\n",
       "16                   2009  119.54     NaN   26.40  130.93  206.97  120.29\n",
       "17                   2010   85.02     NaN    5.64  142.17  127.95  170.03\n",
       "18                   2011   26.18     NaN    0.45  156.78   59.65  143.84\n",
       "19                   2012   11.01     NaN     NaN  107.36   21.71   99.74\n",
       "20                   2013    1.54     NaN     NaN  113.25    8.59   88.58\n",
       "21                   2014     NaN     NaN     NaN   47.76    3.75   34.74\n",
       "22                   2015     NaN     NaN     NaN   16.82    1.14   11.96\n",
       "23                   2016     NaN     NaN     NaN    3.60    0.18    1.52"
      ]
     },
     "execution_count": 45,
     "metadata": {},
     "output_type": "execute_result"
    }
   ],
   "source": [
    "# восстановим индекс\n",
    "top_platform_piv = top_platform_piv.reset_index()\n",
    "top_platform_piv"
   ]
  },
  {
   "cell_type": "markdown",
   "metadata": {},
   "source": [
    "В 1985 году наблюдаем продажи только по платформе DS. Затем продаж по DS не было вплоть до 2004 года. С 2004 года продажи по DS возобновились снова и продолжились до 2013 года. С 1994 по 2003 лидировала платформа PS. C 2000 по 2011 наблюдаем продажи по платформе PS2. С 2005 начались продажи по платформе X360. С 2006 начались продажи по платформе PS3 и Wii. "
   ]
  },
  {
   "cell_type": "code",
   "execution_count": 46,
   "metadata": {},
   "outputs": [],
   "source": [
    "# заменим пропуски нулями\n",
    "top_platform_piv = top_platform_piv.replace(np.nan, 0)"
   ]
  },
  {
   "cell_type": "code",
   "execution_count": 47,
   "metadata": {},
   "outputs": [
    {
     "data": {
      "image/png": "[encoded data removed]",
      "text/plain": [
       "<Figure size 864x576 with 1 Axes>"
      ]
     },
     "metadata": {
      "needs_background": "light"
     },
     "output_type": "display_data"
    }
   ],
   "source": [
    "# построим столбчатую диаграмму по годам\n",
    "N = 24 #кол-во лет в нашем датасете\n",
    "ind = np.arange(N)  # кол-во отметок на оси x для каждой плптформы\n",
    "width = 0.4        # ширина корзины\n",
    "x_year = top_platform_piv['year_of_release']\n",
    "fig = plt.figure(figsize=(12,8))\n",
    "ax = fig.add_subplot()\n",
    "ds = top_platform_piv['DS']\n",
    "bar1 = ax.bar(ind, ds, width, color='r')\n",
    "ps = top_platform_piv['PS']\n",
    "bar2 = ax.bar(ind+width, ps, width, color='g')\n",
    "\n",
    "ps2 = top_platform_piv['PS2']\n",
    "bar3 = ax.bar(ind+width*2, ps2, width, color='b')\n",
    "\n",
    "ps3 = top_platform_piv['PS3']\n",
    "bar4 = ax.bar(ind+width*3, ps3, width, color='y')\n",
    "\n",
    "wii = top_platform_piv['Wii']\n",
    "bar5 = ax.bar(ind+width*4, wii, width, color='grey')\n",
    "\n",
    "x360 = top_platform_piv['X360']\n",
    "bar6 = ax.bar(ind+width*5, x360, width, color='pink')\n",
    "\n",
    "ax.set_title('Продажи по топ-6 платформам')\n",
    "ax.set_ylabel('Суммарные продажи, млн. копий')\n",
    "ax.set_xticks(ind+width)\n",
    "ax.set_xticklabels( (x_year), rotation=45 )\n",
    "ax.legend( (bar1[0], bar2[0], bar3[0], bar4[0], bar5[0], bar6[0]), ('DS', 'PS', 'PS2', 'PS3', 'Wii', 'X360') )\n",
    " \n",
    "def autolabel(bars):\n",
    "    for bar in bars:\n",
    "        h = bar.get_height()\n",
    "        ax.text(bar.get_x()+bar.get_width()/2., 1.02*h, '%d'%int(h),\n",
    "                ha='center', va='bottom')\n",
    "\n",
    "autolabel(bar1)\n",
    "autolabel(bar2)\n",
    "autolabel(bar3)\n",
    "autolabel(bar4)\n",
    "autolabel(bar5)\n",
    "autolabel(bar6)\n",
    "\n",
    "plt.show()"
   ]
  },
  {
   "cell_type": "markdown",
   "metadata": {},
   "source": [
    "Диаграмма показывает суммарные продажи по годам, где высота каждого цветного блока показывает продажи в миллионах копий. Видим, что с 1994 по 2000 год преобладала платформа PS. Затем начались продажи по платформам PS2, DS, X360, Wii и PS3. Характерный жизненный цикл платформы 10-12 лет."
   ]
  },
  {
   "cell_type": "code",
   "execution_count": 48,
   "metadata": {},
   "outputs": [
    {
     "data": {
      "text/html": [
       "<div>\n",
       "<style scoped>\n",
       "    .dataframe tbody tr th:only-of-type {\n",
       "        vertical-align: middle;\n",
       "    }\n",
       "\n",
       "    .dataframe tbody tr th {\n",
       "        vertical-align: top;\n",
       "    }\n",
       "\n",
       "    .dataframe thead th {\n",
       "        text-align: right;\n",
       "    }\n",
       "</style>\n",
       "<table border=\"1\" class=\"dataframe\">\n",
       "  <thead>\n",
       "    <tr style=\"text-align: right;\">\n",
       "      <th></th>\n",
       "      <th>platform</th>\n",
       "    </tr>\n",
       "    <tr>\n",
       "      <th>year_of_release</th>\n",
       "      <th></th>\n",
       "    </tr>\n",
       "  </thead>\n",
       "  <tbody>\n",
       "    <tr>\n",
       "      <td>1980</td>\n",
       "      <td>1</td>\n",
       "    </tr>\n",
       "    <tr>\n",
       "      <td>1981</td>\n",
       "      <td>1</td>\n",
       "    </tr>\n",
       "    <tr>\n",
       "      <td>1982</td>\n",
       "      <td>1</td>\n",
       "    </tr>\n",
       "    <tr>\n",
       "      <td>1983</td>\n",
       "      <td>2</td>\n",
       "    </tr>\n",
       "    <tr>\n",
       "      <td>1984</td>\n",
       "      <td>2</td>\n",
       "    </tr>\n",
       "    <tr>\n",
       "      <td>1985</td>\n",
       "      <td>4</td>\n",
       "    </tr>\n",
       "    <tr>\n",
       "      <td>1986</td>\n",
       "      <td>2</td>\n",
       "    </tr>\n",
       "    <tr>\n",
       "      <td>1987</td>\n",
       "      <td>2</td>\n",
       "    </tr>\n",
       "    <tr>\n",
       "      <td>1988</td>\n",
       "      <td>4</td>\n",
       "    </tr>\n",
       "    <tr>\n",
       "      <td>1989</td>\n",
       "      <td>3</td>\n",
       "    </tr>\n",
       "    <tr>\n",
       "      <td>1990</td>\n",
       "      <td>4</td>\n",
       "    </tr>\n",
       "    <tr>\n",
       "      <td>1991</td>\n",
       "      <td>4</td>\n",
       "    </tr>\n",
       "    <tr>\n",
       "      <td>1992</td>\n",
       "      <td>6</td>\n",
       "    </tr>\n",
       "    <tr>\n",
       "      <td>1993</td>\n",
       "      <td>5</td>\n",
       "    </tr>\n",
       "    <tr>\n",
       "      <td>1994</td>\n",
       "      <td>10</td>\n",
       "    </tr>\n",
       "    <tr>\n",
       "      <td>1995</td>\n",
       "      <td>8</td>\n",
       "    </tr>\n",
       "    <tr>\n",
       "      <td>1996</td>\n",
       "      <td>8</td>\n",
       "    </tr>\n",
       "    <tr>\n",
       "      <td>1997</td>\n",
       "      <td>6</td>\n",
       "    </tr>\n",
       "    <tr>\n",
       "      <td>1998</td>\n",
       "      <td>7</td>\n",
       "    </tr>\n",
       "    <tr>\n",
       "      <td>1999</td>\n",
       "      <td>8</td>\n",
       "    </tr>\n",
       "    <tr>\n",
       "      <td>2000</td>\n",
       "      <td>9</td>\n",
       "    </tr>\n",
       "    <tr>\n",
       "      <td>2001</td>\n",
       "      <td>10</td>\n",
       "    </tr>\n",
       "    <tr>\n",
       "      <td>2002</td>\n",
       "      <td>8</td>\n",
       "    </tr>\n",
       "    <tr>\n",
       "      <td>2003</td>\n",
       "      <td>6</td>\n",
       "    </tr>\n",
       "    <tr>\n",
       "      <td>2004</td>\n",
       "      <td>7</td>\n",
       "    </tr>\n",
       "    <tr>\n",
       "      <td>2005</td>\n",
       "      <td>8</td>\n",
       "    </tr>\n",
       "    <tr>\n",
       "      <td>2006</td>\n",
       "      <td>10</td>\n",
       "    </tr>\n",
       "    <tr>\n",
       "      <td>2007</td>\n",
       "      <td>11</td>\n",
       "    </tr>\n",
       "    <tr>\n",
       "      <td>2008</td>\n",
       "      <td>9</td>\n",
       "    </tr>\n",
       "    <tr>\n",
       "      <td>2009</td>\n",
       "      <td>7</td>\n",
       "    </tr>\n",
       "    <tr>\n",
       "      <td>2010</td>\n",
       "      <td>7</td>\n",
       "    </tr>\n",
       "    <tr>\n",
       "      <td>2011</td>\n",
       "      <td>9</td>\n",
       "    </tr>\n",
       "    <tr>\n",
       "      <td>2012</td>\n",
       "      <td>9</td>\n",
       "    </tr>\n",
       "    <tr>\n",
       "      <td>2013</td>\n",
       "      <td>11</td>\n",
       "    </tr>\n",
       "    <tr>\n",
       "      <td>2014</td>\n",
       "      <td>10</td>\n",
       "    </tr>\n",
       "    <tr>\n",
       "      <td>2015</td>\n",
       "      <td>10</td>\n",
       "    </tr>\n",
       "    <tr>\n",
       "      <td>2016</td>\n",
       "      <td>9</td>\n",
       "    </tr>\n",
       "  </tbody>\n",
       "</table>\n",
       "</div>"
      ],
      "text/plain": [
       "                 platform\n",
       "year_of_release          \n",
       "1980                    1\n",
       "1981                    1\n",
       "1982                    1\n",
       "1983                    2\n",
       "1984                    2\n",
       "1985                    4\n",
       "1986                    2\n",
       "1987                    2\n",
       "1988                    4\n",
       "1989                    3\n",
       "1990                    4\n",
       "1991                    4\n",
       "1992                    6\n",
       "1993                    5\n",
       "1994                   10\n",
       "1995                    8\n",
       "1996                    8\n",
       "1997                    6\n",
       "1998                    7\n",
       "1999                    8\n",
       "2000                    9\n",
       "2001                   10\n",
       "2002                    8\n",
       "2003                    6\n",
       "2004                    7\n",
       "2005                    8\n",
       "2006                   10\n",
       "2007                   11\n",
       "2008                    9\n",
       "2009                    7\n",
       "2010                    7\n",
       "2011                    9\n",
       "2012                    9\n",
       "2013                   11\n",
       "2014                   10\n",
       "2015                   10\n",
       "2016                    9"
      ]
     },
     "execution_count": 48,
     "metadata": {},
     "output_type": "execute_result"
    }
   ],
   "source": [
    "# создадим сводную таблицу с количеством уникальных платформ в каждом году\n",
    "games.pivot_table(index='year_of_release', values='platform', aggfunc=lambda x: len(x.unique()))"
   ]
  },
  {
   "cell_type": "markdown",
   "metadata": {},
   "source": [
    "Максимальное количество платформ, по которым были продажи, составляет 11 платформ, минимальное - 1 платформа."
   ]
  },
  {
   "cell_type": "markdown",
   "metadata": {},
   "source": [
    "<a href=\"#contents\">к оглавлению</a>"
   ]
  },
  {
   "cell_type": "markdown",
   "metadata": {},
   "source": [
    "За актуальный период возьмем данные за последние 3 года, с 2013 по 2016 год. Посмотрим, какие платформы лидируют по продажам."
   ]
  },
  {
   "cell_type": "code",
   "execution_count": 49,
   "metadata": {},
   "outputs": [],
   "source": [
    "# возьмем период с 2013 года\n",
    "games_actual = games.query('year_of_release > 2012')"
   ]
  },
  {
   "cell_type": "code",
   "execution_count": 50,
   "metadata": {},
   "outputs": [
    {
     "data": {
      "text/html": [
       "<div>\n",
       "<style scoped>\n",
       "    .dataframe tbody tr th:only-of-type {\n",
       "        vertical-align: middle;\n",
       "    }\n",
       "\n",
       "    .dataframe tbody tr th {\n",
       "        vertical-align: top;\n",
       "    }\n",
       "\n",
       "    .dataframe thead th {\n",
       "        text-align: right;\n",
       "    }\n",
       "</style>\n",
       "<table border=\"1\" class=\"dataframe\">\n",
       "  <thead>\n",
       "    <tr style=\"text-align: right;\">\n",
       "      <th></th>\n",
       "      <th>name</th>\n",
       "      <th>platform</th>\n",
       "      <th>year_of_release</th>\n",
       "      <th>genre</th>\n",
       "      <th>na_sales</th>\n",
       "      <th>eu_sales</th>\n",
       "      <th>jp_sales</th>\n",
       "      <th>other_sales</th>\n",
       "      <th>critic_score</th>\n",
       "      <th>user_score</th>\n",
       "      <th>rating</th>\n",
       "      <th>total_sales</th>\n",
       "    </tr>\n",
       "  </thead>\n",
       "  <tbody>\n",
       "    <tr>\n",
       "      <td>16</td>\n",
       "      <td>Grand Theft Auto V</td>\n",
       "      <td>PS3</td>\n",
       "      <td>2013</td>\n",
       "      <td>Action</td>\n",
       "      <td>7.02</td>\n",
       "      <td>9.09</td>\n",
       "      <td>0.98</td>\n",
       "      <td>3.96</td>\n",
       "      <td>97.0</td>\n",
       "      <td>8.2</td>\n",
       "      <td>M</td>\n",
       "      <td>21.05</td>\n",
       "    </tr>\n",
       "    <tr>\n",
       "      <td>23</td>\n",
       "      <td>Grand Theft Auto V</td>\n",
       "      <td>X360</td>\n",
       "      <td>2013</td>\n",
       "      <td>Action</td>\n",
       "      <td>9.66</td>\n",
       "      <td>5.14</td>\n",
       "      <td>0.06</td>\n",
       "      <td>1.41</td>\n",
       "      <td>97.0</td>\n",
       "      <td>8.1</td>\n",
       "      <td>M</td>\n",
       "      <td>16.27</td>\n",
       "    </tr>\n",
       "    <tr>\n",
       "      <td>31</td>\n",
       "      <td>Call of Duty: Black Ops 3</td>\n",
       "      <td>PS4</td>\n",
       "      <td>2015</td>\n",
       "      <td>Shooter</td>\n",
       "      <td>6.03</td>\n",
       "      <td>5.86</td>\n",
       "      <td>0.36</td>\n",
       "      <td>2.38</td>\n",
       "      <td>NaN</td>\n",
       "      <td>NaN</td>\n",
       "      <td>NaN</td>\n",
       "      <td>14.63</td>\n",
       "    </tr>\n",
       "    <tr>\n",
       "      <td>33</td>\n",
       "      <td>Pokemon X/Pokemon Y</td>\n",
       "      <td>3DS</td>\n",
       "      <td>2013</td>\n",
       "      <td>Role-Playing</td>\n",
       "      <td>5.28</td>\n",
       "      <td>4.19</td>\n",
       "      <td>4.35</td>\n",
       "      <td>0.78</td>\n",
       "      <td>NaN</td>\n",
       "      <td>NaN</td>\n",
       "      <td>NaN</td>\n",
       "      <td>14.60</td>\n",
       "    </tr>\n",
       "    <tr>\n",
       "      <td>42</td>\n",
       "      <td>Grand Theft Auto V</td>\n",
       "      <td>PS4</td>\n",
       "      <td>2014</td>\n",
       "      <td>Action</td>\n",
       "      <td>3.96</td>\n",
       "      <td>6.31</td>\n",
       "      <td>0.38</td>\n",
       "      <td>1.97</td>\n",
       "      <td>97.0</td>\n",
       "      <td>8.3</td>\n",
       "      <td>M</td>\n",
       "      <td>12.62</td>\n",
       "    </tr>\n",
       "  </tbody>\n",
       "</table>\n",
       "</div>"
      ],
      "text/plain": [
       "                         name platform  year_of_release         genre  \\\n",
       "16         Grand Theft Auto V      PS3             2013        Action   \n",
       "23         Grand Theft Auto V     X360             2013        Action   \n",
       "31  Call of Duty: Black Ops 3      PS4             2015       Shooter   \n",
       "33        Pokemon X/Pokemon Y      3DS             2013  Role-Playing   \n",
       "42         Grand Theft Auto V      PS4             2014        Action   \n",
       "\n",
       "    na_sales  eu_sales  jp_sales  other_sales  critic_score  user_score  \\\n",
       "16      7.02      9.09      0.98         3.96          97.0         8.2   \n",
       "23      9.66      5.14      0.06         1.41          97.0         8.1   \n",
       "31      6.03      5.86      0.36         2.38           NaN         NaN   \n",
       "33      5.28      4.19      4.35         0.78           NaN         NaN   \n",
       "42      3.96      6.31      0.38         1.97          97.0         8.3   \n",
       "\n",
       "   rating  total_sales  \n",
       "16      M        21.05  \n",
       "23      M        16.27  \n",
       "31    NaN        14.63  \n",
       "33    NaN        14.60  \n",
       "42      M        12.62  "
      ]
     },
     "execution_count": 50,
     "metadata": {},
     "output_type": "execute_result"
    }
   ],
   "source": [
    "# выведем актуальную таблицу\n",
    "games_actual.head()"
   ]
  },
  {
   "cell_type": "code",
   "execution_count": 51,
   "metadata": {},
   "outputs": [
    {
     "name": "stdout",
     "output_type": "stream",
     "text": [
      "<class 'pandas.core.frame.DataFrame'>\n",
      "Int64Index: 2233 entries, 16 to 16714\n",
      "Data columns (total 12 columns):\n",
      "name               2233 non-null object\n",
      "platform           2233 non-null object\n",
      "year_of_release    2233 non-null int64\n",
      "genre              2233 non-null object\n",
      "na_sales           2233 non-null float64\n",
      "eu_sales           2233 non-null float64\n",
      "jp_sales           2233 non-null float64\n",
      "other_sales        2233 non-null float64\n",
      "critic_score       991 non-null float64\n",
      "user_score         1192 non-null float64\n",
      "rating             1256 non-null object\n",
      "total_sales        2233 non-null float64\n",
      "dtypes: float64(7), int64(1), object(4)\n",
      "memory usage: 226.8+ KB\n"
     ]
    }
   ],
   "source": [
    "# выведем информацию по актуальной таблице\n",
    "games_actual.info()"
   ]
  },
  {
   "cell_type": "code",
   "execution_count": 52,
   "metadata": {},
   "outputs": [],
   "source": [
    "# сконвертируем продажи в тыс. копий\n",
    "games_actual['total_sales_thousands'] = games_actual['total_sales']*1000"
   ]
  },
  {
   "cell_type": "code",
   "execution_count": 53,
   "metadata": {},
   "outputs": [],
   "source": [
    "# сводная таблица по платформам с суммарными продажами\n",
    "games_actual_piv = games_actual.pivot_table(index=['year_of_release', 'platform'], aggfunc={'total_sales':'sum'})\\\n",
    ".unstack(level=-1)"
   ]
  },
  {
   "cell_type": "code",
   "execution_count": 54,
   "metadata": {},
   "outputs": [],
   "source": [
    "# избавимся от мультииндекса\n",
    "games_actual_piv.columns = games_actual_piv.columns.droplevel(0)"
   ]
  },
  {
   "cell_type": "code",
   "execution_count": 55,
   "metadata": {},
   "outputs": [],
   "source": [
    "# заменим пропуски на нули\n",
    "games_actual_piv = games_actual_piv.replace(np.nan, 0)"
   ]
  },
  {
   "cell_type": "code",
   "execution_count": 56,
   "metadata": {},
   "outputs": [],
   "source": [
    "# восстановим индекс\n",
    "games_actual_piv = games_actual_piv.reset_index()"
   ]
  },
  {
   "cell_type": "code",
   "execution_count": 57,
   "metadata": {
    "scrolled": true
   },
   "outputs": [
    {
     "data": {
      "text/html": [
       "<div>\n",
       "<style scoped>\n",
       "    .dataframe tbody tr th:only-of-type {\n",
       "        vertical-align: middle;\n",
       "    }\n",
       "\n",
       "    .dataframe tbody tr th {\n",
       "        vertical-align: top;\n",
       "    }\n",
       "\n",
       "    .dataframe thead th {\n",
       "        text-align: right;\n",
       "    }\n",
       "</style>\n",
       "<table border=\"1\" class=\"dataframe\">\n",
       "  <thead>\n",
       "    <tr style=\"text-align: right;\">\n",
       "      <th>platform</th>\n",
       "      <th>year_of_release</th>\n",
       "      <th>3DS</th>\n",
       "      <th>DS</th>\n",
       "      <th>PC</th>\n",
       "      <th>PS3</th>\n",
       "      <th>PS4</th>\n",
       "      <th>PSP</th>\n",
       "      <th>PSV</th>\n",
       "      <th>Wii</th>\n",
       "      <th>WiiU</th>\n",
       "      <th>X360</th>\n",
       "      <th>XOne</th>\n",
       "    </tr>\n",
       "  </thead>\n",
       "  <tbody>\n",
       "    <tr>\n",
       "      <td>0</td>\n",
       "      <td>2013</td>\n",
       "      <td>56.57</td>\n",
       "      <td>1.54</td>\n",
       "      <td>12.38</td>\n",
       "      <td>113.25</td>\n",
       "      <td>25.99</td>\n",
       "      <td>3.14</td>\n",
       "      <td>10.59</td>\n",
       "      <td>8.59</td>\n",
       "      <td>21.65</td>\n",
       "      <td>88.58</td>\n",
       "      <td>18.96</td>\n",
       "    </tr>\n",
       "    <tr>\n",
       "      <td>1</td>\n",
       "      <td>2014</td>\n",
       "      <td>43.76</td>\n",
       "      <td>0.00</td>\n",
       "      <td>13.28</td>\n",
       "      <td>47.76</td>\n",
       "      <td>100.00</td>\n",
       "      <td>0.24</td>\n",
       "      <td>11.90</td>\n",
       "      <td>3.75</td>\n",
       "      <td>22.03</td>\n",
       "      <td>34.74</td>\n",
       "      <td>54.07</td>\n",
       "    </tr>\n",
       "    <tr>\n",
       "      <td>2</td>\n",
       "      <td>2015</td>\n",
       "      <td>27.78</td>\n",
       "      <td>0.00</td>\n",
       "      <td>8.52</td>\n",
       "      <td>16.82</td>\n",
       "      <td>118.90</td>\n",
       "      <td>0.12</td>\n",
       "      <td>6.25</td>\n",
       "      <td>1.14</td>\n",
       "      <td>16.35</td>\n",
       "      <td>11.96</td>\n",
       "      <td>60.14</td>\n",
       "    </tr>\n",
       "    <tr>\n",
       "      <td>3</td>\n",
       "      <td>2016</td>\n",
       "      <td>15.14</td>\n",
       "      <td>0.00</td>\n",
       "      <td>5.25</td>\n",
       "      <td>3.60</td>\n",
       "      <td>69.25</td>\n",
       "      <td>0.00</td>\n",
       "      <td>4.25</td>\n",
       "      <td>0.18</td>\n",
       "      <td>4.60</td>\n",
       "      <td>1.52</td>\n",
       "      <td>26.15</td>\n",
       "    </tr>\n",
       "  </tbody>\n",
       "</table>\n",
       "</div>"
      ],
      "text/plain": [
       "platform  year_of_release    3DS    DS     PC     PS3     PS4   PSP    PSV  \\\n",
       "0                    2013  56.57  1.54  12.38  113.25   25.99  3.14  10.59   \n",
       "1                    2014  43.76  0.00  13.28   47.76  100.00  0.24  11.90   \n",
       "2                    2015  27.78  0.00   8.52   16.82  118.90  0.12   6.25   \n",
       "3                    2016  15.14  0.00   5.25    3.60   69.25  0.00   4.25   \n",
       "\n",
       "platform   Wii   WiiU   X360   XOne  \n",
       "0         8.59  21.65  88.58  18.96  \n",
       "1         3.75  22.03  34.74  54.07  \n",
       "2         1.14  16.35  11.96  60.14  \n",
       "3         0.18   4.60   1.52  26.15  "
      ]
     },
     "execution_count": 57,
     "metadata": {},
     "output_type": "execute_result"
    }
   ],
   "source": [
    "# сводная таблица за актуальный период\n",
    "games_actual_piv"
   ]
  },
  {
   "cell_type": "markdown",
   "metadata": {},
   "source": [
    "За актуальный период были продажи по 11 платформам."
   ]
  },
  {
   "cell_type": "code",
   "execution_count": 60,
   "metadata": {},
   "outputs": [
    {
     "data": {
      "image/png": "[encoded data removed]",
      "text/plain": [
       "<Figure size 864x504 with 1 Axes>"
      ]
     },
     "metadata": {
      "needs_background": "light"
     },
     "output_type": "display_data"
    }
   ],
   "source": [
    "# Построим линейный график продаж игр по платформам\n",
    "games_actual_piv.plot(title='Глобальные продажи игр по платформам 2013-2016', style='o-', grid=True, figsize=(12,7), \n",
    "                      x='year_of_release')\n",
    "plt.legend()\n",
    "plt.xlabel('год')\n",
    "plt.ylabel('млн. копий')\n",
    "plt.show()"
   ]
  },
  {
   "cell_type": "markdown",
   "metadata": {},
   "source": [
    "Платформы PS4 и XOne лидируют по продажам и показали хороший рост. Продажи по платформам PS3, X360, 3DS упали значительно за последние годы. По остальным платформам также наблюдаем падение. В целом, наблюдаем нисходящий тренд продаж по всем платформам в последние годы."
   ]
  },
  {
   "cell_type": "markdown",
   "metadata": {},
   "source": [
    "Итак, можем предположить, что PS4 и XOne - потенциально прибыльные платформы. Построим по ним «ящики с усами» по глобальным продажам игр."
   ]
  },
  {
   "cell_type": "code",
   "execution_count": null,
   "metadata": {},
   "outputs": [],
   "source": [
    "# напишем функцию для создания ящика с усами\n",
    "def my_plot(df, col, name):\n",
    "    plt.figure(figsize =(8, 2))\n",
    "    plt.boxplot(df[col],\n",
    "            notch=True, \n",
    "            sym=\"o\", \n",
    "            vert=False,\n",
    "            widths = 0.15, \n",
    "            patch_artist = True)\n",
    "    plt.title('Ящик с усами по продажам игр по ' + name)\n",
    "    plt.xlabel('тыс. копий')\n",
    "    plt.tick_params(axis = 'both',   \n",
    "               which = 'major',    \n",
    "               direction = 'inout',    \n",
    "               length = 16,    \n",
    "               width = 2,     \n",
    "               color = 'm',    \n",
    "               pad = 10,    \n",
    "               labelsize = 10,    \n",
    "               labelcolor = 'b')    \n",
    "    plt.grid()\n",
    "    plt.show()"
   ]
  },
  {
   "cell_type": "code",
   "execution_count": null,
   "metadata": {},
   "outputs": [],
   "source": [
    "# создадим таблицу только с платформой PS4\n",
    "ps4 = games_actual.query('platform == \"PS4\"')"
   ]
  },
  {
   "cell_type": "code",
   "execution_count": null,
   "metadata": {},
   "outputs": [],
   "source": [
    "# построим ящик с усами для pS4\n",
    "my_plot(ps4, 'total_sales_thousands', 'PS4')"
   ]
  },
  {
   "cell_type": "markdown",
   "metadata": {},
   "source": [
    "Значения, которые отсёк правый «ус» — редкие и их много. Видно, что медиана не стремится к длинному хвосту больших значений. Медиана продаж игр по платформе PS4 около 200 тыс. копий."
   ]
  },
  {
   "cell_type": "code",
   "execution_count": null,
   "metadata": {},
   "outputs": [],
   "source": [
    "# создадим таблицу тольк с платформой XOne\n",
    "xone = games_actual.query('platform == \"XOne\"')"
   ]
  },
  {
   "cell_type": "code",
   "execution_count": null,
   "metadata": {},
   "outputs": [],
   "source": [
    "my_plot(xone, 'total_sales_thousands', 'XOne')"
   ]
  },
  {
   "cell_type": "markdown",
   "metadata": {},
   "source": [
    "Мы видим редкие значения, которые отсёк правый «ус». Медиана не стремится к длинному хвосту больших значений. Медиана продаж игр по платформе около 230 тыс. копий. \n",
    "\n",
    "Межквартильный размах больше по платформе PS4."
   ]
  },
  {
   "cell_type": "markdown",
   "metadata": {},
   "source": [
    "Посмотрим, как влияют отзывы пользователей и критиков на продажи игр на платформе PS4. "
   ]
  },
  {
   "cell_type": "code",
   "execution_count": null,
   "metadata": {},
   "outputs": [],
   "source": [
    "# посчитаем корреляцию Пирсона между продажами и оценками критиков и пользователей\n",
    "ps4[['total_sales', 'user_score', 'critic_score']].corr()"
   ]
  },
  {
   "cell_type": "code",
   "execution_count": null,
   "metadata": {},
   "outputs": [],
   "source": [
    "# построим матрицу диаграмм рассеяния и гистограмм\n",
    "sns.pairplot(ps4[['total_sales', 'user_score', 'critic_score']], diag_kind=\"hist\")"
   ]
  },
  {
   "cell_type": "markdown",
   "metadata": {},
   "source": [
    "Пользовательские оценки положительно коррелируют с оценками критиков (0.56). Есть небольшая положительная корреляция (0.41) между продажами и оценкой критиков. А вот корреляция между продажами и оценкой пользователей отсутствует."
   ]
  },
  {
   "cell_type": "markdown",
   "metadata": {},
   "source": [
    "Теперь посмотрим, как влияют отзывы пользователей и критиков на продажи игр на платформе XOne. "
   ]
  },
  {
   "cell_type": "code",
   "execution_count": null,
   "metadata": {},
   "outputs": [],
   "source": [
    "# посчитаем корреляцию Пирсона между продажами и оценками критиков и пользователей\n",
    "xone[['total_sales', 'user_score', 'critic_score']].corr()"
   ]
  },
  {
   "cell_type": "code",
   "execution_count": null,
   "metadata": {},
   "outputs": [],
   "source": [
    "# построим матрицу диаграмм рассеяния и гистограмм\n",
    "sns.pairplot(xone[['total_sales', 'user_score', 'critic_score']], diag_kind=\"hist\")\n",
    "plt.show()"
   ]
  },
  {
   "cell_type": "markdown",
   "metadata": {},
   "source": [
    "Есть небольшая положительная корреляция между оценками критиков и пользователей (0.47). Есть также небольшая положительная корреляция (0.42) между продажами и оценкой критиков. Корреляция между продажами и оценкой пользователей отсутствует."
   ]
  },
  {
   "cell_type": "markdown",
   "metadata": {},
   "source": [
    "В целом, наблюдаем схожее влияние отзывов пользователей и критиков на продажи игр на платформах PS4 и XOne: есть небольшая положительная корреляция между продажами и оценкой критиков."
   ]
  },
  {
   "cell_type": "markdown",
   "metadata": {},
   "source": [
    "Посмотрим на продажи и общее распределение игр по жанрам."
   ]
  },
  {
   "cell_type": "code",
   "execution_count": null,
   "metadata": {},
   "outputs": [],
   "source": [
    "# сводная таблица с количеством игр и суммарными продажами по каждому жанру\n",
    "games_actual_genre = games_actual.pivot_table(index='genre', aggfunc={'name':'count', 'total_sales':'sum'})\\\n",
    ".reset_index()"
   ]
  },
  {
   "cell_type": "code",
   "execution_count": null,
   "metadata": {},
   "outputs": [],
   "source": [
    "# поменяем названия столбцов и выведем таблицу\n",
    "games_actual_genre.columns = ['genre', 'game_count', 'total_sales']\n",
    "games_actual_genre = games_actual_genre.sort_values(by='game_count', ascending=False)\n",
    "games_actual_genre"
   ]
  },
  {
   "cell_type": "code",
   "execution_count": null,
   "metadata": {},
   "outputs": [],
   "source": [
    "# построим столбчатую гистограмму распределения игр по жанрам\n",
    "sns.set_style('whitegrid')\n",
    "ax = sns.barplot(x='genre', y='game_count', data=games_actual_genre)\n",
    "ax.set_title('Распределение игр по жанрам, 2013-2016')\n",
    "ax.set_xticklabels(games_actual_genre['genre'], rotation=90)"
   ]
  },
  {
   "cell_type": "code",
   "execution_count": null,
   "metadata": {},
   "outputs": [],
   "source": [
    "# построим столбчатую гистограмму распределения глобальных продаж по жанрам\n",
    "sns.set_style('whitegrid')\n",
    "ax = sns.barplot(x='genre', y='total_sales', data=games_actual_genre.sort_values(by='total_sales', ascending=False))\n",
    "ax.set_title('Глобальные продажи по жанрам, 2013-2016')\n",
    "ax.set_xticklabels(games_actual_genre['genre'], rotation=90)"
   ]
  },
  {
   "cell_type": "markdown",
   "metadata": {},
   "source": [
    "За актуальный период мы наблюдаем больше всего игр в жанре Action, затем в жанре Role-Playing. Меньше всего игр в жанре Puzzle. Жанр Action также имеет самые высокие продажи, затем следует жанр Shooter. Жанр Puzzle имеет самые низкие продажи."
   ]
  },
  {
   "cell_type": "markdown",
   "metadata": {},
   "source": [
    "### Вывод\n",
    "Мы выявили топ-6 платформ по суммарным продажам за всесь период: PS2, X360, PS3, Wii, DS и PS. С 1994 по 2000 год преобладала платформа PS. Затем начались продажи по платформам PS2, DS, X360, Wii и PS3. Выяснили, что характерный жизненный цикл платформы - 10-12 лет. \n",
    "\n",
    "За актуальный период 2013-2016 платформы PS4 и XOne лидировали по продажам и показали хороший рост. Продажи по платформам PS3, X360, 3DS упали значительно за этот период. По остальным платформам также наблюдаем падение. В целом, наблюдаем нисходящий тренд продаж по всем платформам. Таким образом, PS4 и XOne - потенциально прибыльные платформы. При построении диаграммы размаха выявили, что межквартильный размах больше по платформе PS4, а медиана продаж выше по платформе XOne.\n",
    "\n",
    "Наблюдаем схожее влияние отзывов пользователей и критиков на продажи игр на платформах PS4 и XOne: есть небольшая положительная корреляция между продажами и оценкой критиков.\n",
    "\n",
    "За актуальный период больше всего игр в жанре Action, меньше всего - Puzzle. Жанр Action также имеет самые высокие продажи. Жанр Puzzle имеет самые низкие продажи."
   ]
  },
  {
   "cell_type": "markdown",
   "metadata": {},
   "source": [
    "<a href=\"#contents\">к оглавлению</a>"
   ]
  },
  {
   "cell_type": "markdown",
   "metadata": {},
   "source": [
    "## Портрет пользователя"
   ]
  },
  {
   "cell_type": "markdown",
   "metadata": {},
   "source": [
    "Определим для пользователей каждого региона (NA, EU, JP) самые популярные платформы. "
   ]
  },
  {
   "cell_type": "code",
   "execution_count": null,
   "metadata": {},
   "outputs": [],
   "source": [
    "# сводная таблица с суммарными продажами по платформам по 3 регионам\n",
    "games_region = games.pivot_table(index='platform', values=['na_sales', 'eu_sales', 'jp_sales'], aggfunc='sum')\\\n",
    ".reset_index()"
   ]
  },
  {
   "cell_type": "code",
   "execution_count": null,
   "metadata": {},
   "outputs": [],
   "source": [
    "# выведем сводную таблицу\n",
    "games_region.head()"
   ]
  },
  {
   "cell_type": "code",
   "execution_count": null,
   "metadata": {},
   "outputs": [],
   "source": [
    "# топ-5 платформ по региону North America\n",
    "games_region_na = games_region.sort_values(by='na_sales', ascending=False)[['platform', 'na_sales']].head()\n",
    "games_region_na"
   ]
  },
  {
   "cell_type": "code",
   "execution_count": null,
   "metadata": {},
   "outputs": [],
   "source": [
    "# топ-5 платформ по региону Europe\n",
    "games_region_eu = games_region.sort_values(by='eu_sales', ascending=False)[['platform', 'eu_sales']].head()\n",
    "games_region_eu"
   ]
  },
  {
   "cell_type": "code",
   "execution_count": null,
   "metadata": {
    "scrolled": true
   },
   "outputs": [],
   "source": [
    "# топ-5 платформ по региону Japan\n",
    "games_region_jp = games_region.sort_values(by='jp_sales', ascending=False)[['platform', 'jp_sales']].head()\n",
    "games_region_jp"
   ]
  },
  {
   "cell_type": "code",
   "execution_count": null,
   "metadata": {},
   "outputs": [],
   "source": [
    "# напишем функцию для построения диаграммы - \"пирога\" по платформам.\n",
    "def my_pie(df, col, region):\n",
    "    df.plot(kind='pie', y=col, figsize=(7, 7), labels=df['platform'], autopct='%1.1f%%')\n",
    "    plt.title('Диаграмма распределения продаж по платформам, ' + region)\n",
    "    plt.show()"
   ]
  },
  {
   "cell_type": "code",
   "execution_count": null,
   "metadata": {},
   "outputs": [],
   "source": [
    "# построим pie chart по региону NA\n",
    "my_pie(games_region_na, 'na_sales', 'Северная Америка')"
   ]
  },
  {
   "cell_type": "code",
   "execution_count": null,
   "metadata": {},
   "outputs": [],
   "source": [
    "# построим pie chart по региону EU\n",
    "my_pie(games_region_eu, 'eu_sales', 'Европа')"
   ]
  },
  {
   "cell_type": "code",
   "execution_count": null,
   "metadata": {},
   "outputs": [],
   "source": [
    "# построим pie chart по региону JP\n",
    "my_pie(games_region_jp, 'jp_sales', 'Япония')"
   ]
  },
  {
   "cell_type": "markdown",
   "metadata": {},
   "source": [
    "В Северной Америке доминируют платформы X360, PS2 и Wii - доля каждой чуть больше 20%. В европе лидируют по продажам платформы PS2 и PS3 - доля каждой также чуть больше 20%. В Японии лидируют платформы DS (26.1%), PS (20.9%) и PS2 (20.5%). В целом, PS2 очень популярна во всех регионах. В Северной Америке - лидер компания Microsoft. В Европе попклярна компания производитель - Sony. В Японии популярностью пользуется Nintendo."
   ]
  },
  {
   "cell_type": "markdown",
   "metadata": {},
   "source": [
    "Определим теперь для пользователей каждого региона (NA, EU, JP) самые популярные жанры."
   ]
  },
  {
   "cell_type": "code",
   "execution_count": null,
   "metadata": {},
   "outputs": [],
   "source": [
    "# сводная таблица с суммарными продажами по жанрам по 3 регионам\n",
    "games_genre = games.pivot_table(index='genre', values=['na_sales', 'eu_sales', 'jp_sales', 'total_sales'], \\\n",
    "aggfunc='sum').reset_index()"
   ]
  },
  {
   "cell_type": "code",
   "execution_count": null,
   "metadata": {
    "scrolled": false
   },
   "outputs": [],
   "source": [
    "# выведем сводную таблицу\n",
    "games_genre"
   ]
  },
  {
   "cell_type": "code",
   "execution_count": null,
   "metadata": {},
   "outputs": [],
   "source": [
    "# топ-5 жанров по суммарным продажам\n",
    "games_genre.sort_values(by='total_sales', ascending=False)[['genre', 'total_sales']].head()"
   ]
  },
  {
   "cell_type": "markdown",
   "metadata": {},
   "source": [
    "Теперь создадим таблицы с топ-5 жанрами в каждом регионе."
   ]
  },
  {
   "cell_type": "code",
   "execution_count": null,
   "metadata": {},
   "outputs": [],
   "source": [
    "# топ-5 жанров по региону North America\n",
    "games_genre_na = games_genre.sort_values(by='na_sales', ascending=False)[['genre', 'na_sales']].head()\n",
    "games_genre_na"
   ]
  },
  {
   "cell_type": "code",
   "execution_count": null,
   "metadata": {},
   "outputs": [],
   "source": [
    "# топ-5 жанров по региону Europe\n",
    "games_genre_eu = games_genre.sort_values(by='eu_sales', ascending=False)[['genre', 'eu_sales']].head()\n",
    "games_genre_eu"
   ]
  },
  {
   "cell_type": "code",
   "execution_count": null,
   "metadata": {},
   "outputs": [],
   "source": [
    "# топ-5 жанров по региону JP\n",
    "games_genre_jp = games_genre.sort_values(by='jp_sales', ascending=False)[['genre', 'jp_sales']].head()\n",
    "games_genre_jp"
   ]
  },
  {
   "cell_type": "code",
   "execution_count": null,
   "metadata": {},
   "outputs": [],
   "source": [
    "# напишем функцию для построения диаграммы - \"пирога\" по жанрам.\n",
    "def my_pie_gen(df, col, region):\n",
    "    df.plot(kind='pie', y=col, figsize=(7, 7), labels=df['genre'], autopct='%1.1f%%')\n",
    "    plt.title('Диаграмма распределения продаж по жанрам, ' + region)\n",
    "    plt.show()"
   ]
  },
  {
   "cell_type": "code",
   "execution_count": null,
   "metadata": {},
   "outputs": [],
   "source": [
    "# построим pie chart по региону NA\n",
    "my_pie_gen(games_genre_na, 'na_sales', 'Северная Америка')"
   ]
  },
  {
   "cell_type": "code",
   "execution_count": null,
   "metadata": {},
   "outputs": [],
   "source": [
    "# построим pie chart по региону EU\n",
    "my_pie_gen(games_genre_eu, 'eu_sales', 'Европа')"
   ]
  },
  {
   "cell_type": "code",
   "execution_count": null,
   "metadata": {},
   "outputs": [],
   "source": [
    "# построим pie chart по региону JP\n",
    "my_pie_gen(games_genre_jp, 'jp_sales', 'Япония')"
   ]
  },
  {
   "cell_type": "markdown",
   "metadata": {},
   "source": [
    "Жанр Action лидирует Северной Америке (29.1%) и Европе (31.1%), затем следует Sports - чуть больше 20% в обоих регионах. В Японии лидирует жанр Role-Playing (39.9%), затем идет Action (18.1%). Северная Америка и Европа схожи в популярных жанрах компьютерных игр. "
   ]
  },
  {
   "cell_type": "markdown",
   "metadata": {},
   "source": [
    "Посмотрим, влияет ли рейтинг ESRB на продажи в отдельном регионе."
   ]
  },
  {
   "cell_type": "code",
   "execution_count": null,
   "metadata": {},
   "outputs": [],
   "source": [
    "# сводная таблица с суммарными продажами по рейтингу по 3 регионам\n",
    "games_rating = games.pivot_table(index='rating', values=['na_sales', 'eu_sales', 'jp_sales'], aggfunc='sum')\\\n",
    ".reset_index()"
   ]
  },
  {
   "cell_type": "code",
   "execution_count": null,
   "metadata": {},
   "outputs": [],
   "source": [
    "# выведем таблицу\n",
    "games_rating"
   ]
  },
  {
   "cell_type": "markdown",
   "metadata": {},
   "source": [
    "Большинство игр, проданных во всех 3-х регионах, имеют возрастной ценз \"E\" (для всех возрастных категорий)."
   ]
  },
  {
   "cell_type": "markdown",
   "metadata": {},
   "source": [
    "Построим столбчатые диаграммы распределения суммарных продаж за весь период по рейтингу для каждого региона."
   ]
  },
  {
   "cell_type": "code",
   "execution_count": null,
   "metadata": {},
   "outputs": [],
   "source": [
    "# напишем функцию для построения столбчатой диаграммы\n",
    "def my_bar(col, region):\n",
    "    sns.set_style('whitegrid')\n",
    "    f, ax = plt.subplots(figsize=(12, 6))\n",
    "    sns.barplot(x=col, y='rating', data=games_rating, label=\"Total\", color='purple') \n",
    "    ax.set_title('Продажи в разбивке по рейтингу ESRB по региону ' + region)"
   ]
  },
  {
   "cell_type": "code",
   "execution_count": null,
   "metadata": {},
   "outputs": [],
   "source": [
    "# столбчатая диаграмма продаж в разбивке по рейтингу для NA\n",
    "my_bar('na_sales', 'Северная Америка')"
   ]
  },
  {
   "cell_type": "code",
   "execution_count": null,
   "metadata": {},
   "outputs": [],
   "source": [
    "# столбчатая диаграмма продаж в разбивке по рейтингу для EU\n",
    "my_bar('eu_sales', 'Европа')"
   ]
  },
  {
   "cell_type": "code",
   "execution_count": null,
   "metadata": {
    "scrolled": false
   },
   "outputs": [],
   "source": [
    "# столбчатая диаграмма продаж в разбивке по рейтингу для JP\n",
    "my_bar('jp_sales', 'Япония')"
   ]
  },
  {
   "cell_type": "markdown",
   "metadata": {},
   "source": [
    "Мы видим, что большинство проданных игр имеет категорию E во всех трех регионах. Затем следуют категории M и T. Продажи по категории AO составляют меньшинство в Северной Америке и Европе, а в Японии такие продажи вообще отсутствут. "
   ]
  },
  {
   "cell_type": "markdown",
   "metadata": {},
   "source": [
    "Чтобы оценить влияние рейтинга на продажи, нужно превратить рейтинг в числовые значения. Для этого категоризируем рейтинг. Для каждой категории рейтинга присвоим цифру по возрастанию возрастной категории игры. Категорию для всех возрастов можем обозначить цифрой 0. \n",
    "\n",
    "Для начала отфильтруем пропуски и наблюдения с значением 'RP', так как это означает как таковое отсутствие рейтинга. "
   ]
  },
  {
   "cell_type": "code",
   "execution_count": null,
   "metadata": {},
   "outputs": [],
   "source": [
    "# сначала отфильтруем пропуски и значения 'RP'\n",
    "games_filtered_rating = games.query('rating.notnull() and rating != \"RP\"')"
   ]
  },
  {
   "cell_type": "code",
   "execution_count": null,
   "metadata": {},
   "outputs": [],
   "source": [
    "# напишем функцию для присвоения числа определенной возрастной категории рейтинга\n",
    "def rating_cat(rating):\n",
    "    if (rating == 'E') or (rating == 'K-A') :\n",
    "        return 0\n",
    "\n",
    "    if rating == 'EC':\n",
    "        return 3\n",
    "        \n",
    "    if rating == 'E10+':\n",
    "        return 10\n",
    "    \n",
    "    if rating == 'T':\n",
    "        return 13\n",
    "    \n",
    "    if rating == 'M':\n",
    "        return 17\n",
    "   \n",
    "    return 18\n",
    "    "
   ]
  },
  {
   "cell_type": "code",
   "execution_count": null,
   "metadata": {},
   "outputs": [],
   "source": [
    "# применим функцию к таблице games_filtered_rating, чтобы создать новый столбец с категорией рейтинга\n",
    "games_filtered_rating['rating_cat'] = games_filtered_rating['rating'].apply(rating_cat)"
   ]
  },
  {
   "cell_type": "code",
   "execution_count": null,
   "metadata": {
    "scrolled": true
   },
   "outputs": [],
   "source": [
    "# видим, что новый столбец с категорией рейтинга появился\n",
    "games_filtered_rating.head()"
   ]
  },
  {
   "cell_type": "markdown",
   "metadata": {},
   "source": [
    "Создадим словарь для рейтинга."
   ]
  },
  {
   "cell_type": "code",
   "execution_count": null,
   "metadata": {},
   "outputs": [],
   "source": [
    "# создадим словарь\n",
    "games_filtered_rating_dict = games_filtered_rating[['rating', 'rating_cat']]"
   ]
  },
  {
   "cell_type": "code",
   "execution_count": null,
   "metadata": {},
   "outputs": [],
   "source": [
    "# удалим из словаря дубликаты\n",
    "games_filtered_rating_dict = games_filtered_rating_dict.drop_duplicates().reset_index(drop=True)\n",
    "games_filtered_rating_dict.sort_values(by='rating_cat')"
   ]
  },
  {
   "cell_type": "markdown",
   "metadata": {},
   "source": [
    "Теперь можем посчитать корреляцию, чтобы оценить влияние рейтинга на продажи."
   ]
  },
  {
   "cell_type": "code",
   "execution_count": null,
   "metadata": {},
   "outputs": [],
   "source": [
    "# посчитаем корреляцию Пирсона\n",
    "games_filtered_rating[['na_sales', 'eu_sales', 'jp_sales', 'rating_cat']].corr().style.background_gradient('rainbow')"
   ]
  },
  {
   "cell_type": "code",
   "execution_count": null,
   "metadata": {},
   "outputs": [],
   "source": [
    "# построим матрицу диаграмм рассеяния и гистограмм\n",
    "sns.pairplot(games_filtered_rating[['na_sales', 'eu_sales', 'jp_sales', 'rating_cat']], diag_kind=\"hist\")\n",
    "plt.show()"
   ]
  },
  {
   "cell_type": "markdown",
   "metadata": {},
   "source": [
    "В каждом из регионов мы не наблюдаем какой-либо корреляции между продажами и рейтингом."
   ]
  },
  {
   "cell_type": "markdown",
   "metadata": {},
   "source": [
    "### Вывод\n",
    "Мы выявили самые популярные платформы и жанры за весь рассматриваемый период. В Северной Америке доминируют платформы X360, PS2, Wii, PS3 и DS. В европе лидируют по продажам платформы PS2, PS3, X360, Wii и PS. В Японии лидируют платформы DS, PS, PS2, SNES и 3DS. Платформа PS2 входит в топ-популярные во всех трех регионах. Жанр игр Action популярен во всех трех регионах. \n",
    "\n",
    "Отметим, что большинство проданных игр имеет категорию E во всех трех регионах. Продажи по категории AO составляют меньшинство в Северной Америке и Европе, а в Японии такие продажи вообще отсутствут. Какой-либо взаимосвязи между рейтингом ESRB и продажами в каждом отдельном регионе выявлено не было."
   ]
  },
  {
   "cell_type": "markdown",
   "metadata": {},
   "source": [
    "<a href=\"#contents\">к оглавлению</a>"
   ]
  },
  {
   "cell_type": "markdown",
   "metadata": {},
   "source": [
    "## Проверка гипотез"
   ]
  },
  {
   "cell_type": "markdown",
   "metadata": {},
   "source": [
    "Проверим несколько гипотез:\n",
    "\n",
    "* 1. Средние пользовательские рейтинги платформ Xbox One и PC одинаковые;\n",
    "* 2. Средние пользовательские рейтинги жанров Action и Sports разные."
   ]
  },
  {
   "cell_type": "markdown",
   "metadata": {},
   "source": [
    "### Проверка первой гипотезы"
   ]
  },
  {
   "cell_type": "markdown",
   "metadata": {},
   "source": [
    "Для начала исследуем среднее, дисперсию и стандартное отклонение по двум выборкам - Xbox One и PC."
   ]
  },
  {
   "cell_type": "code",
   "execution_count": null,
   "metadata": {},
   "outputs": [],
   "source": [
    "# создадим таблицу с платформой XOne и PC отфильтруем пропуски по пользовательской оценке\n",
    "games_2platf = games.query('user_score.notnull() and (platform==\"XOne\" or platform==\"PC\")')"
   ]
  },
  {
   "cell_type": "code",
   "execution_count": null,
   "metadata": {},
   "outputs": [],
   "source": [
    "# осталось 937 наблюдений\n",
    "games_2platf.info()"
   ]
  },
  {
   "cell_type": "code",
   "execution_count": null,
   "metadata": {},
   "outputs": [],
   "source": [
    "# выведем среднюю, стандартное отклонение и дисперсию \n",
    "games_2platf.pivot_table(index='platform', values='user_score', aggfunc=['mean', 'std', 'var']).round(1)"
   ]
  },
  {
   "cell_type": "markdown",
   "metadata": {},
   "source": [
    "Средние рейтинги, дисперсия и стандартное отклонение, на первый взгляд, сильно не отличаются. "
   ]
  },
  {
   "cell_type": "markdown",
   "metadata": {},
   "source": [
    "Построим гистограммы распределения, кривые-KDE (Kernel Density Estimation), а также QQ-plot для определения нормальности распределения данных."
   ]
  },
  {
   "cell_type": "code",
   "execution_count": null,
   "metadata": {},
   "outputs": [],
   "source": [
    "# напишем функцию для создания гистограммы, кривой kde и QQ-plot\n",
    "def my_hist(df, col, bins, df_name):\n",
    "    plt.figure(figsize =(6, 4))\n",
    "    hist = df[col].plot(\n",
    "                kind='hist', \n",
    "                bins=bins, \n",
    "                alpha=0.9, \n",
    "                ec='black',\n",
    "                color='skyblue',\n",
    "                )\n",
    "    plt.axvline(x=df[col].median(),\n",
    "                linewidth=2, \n",
    "                color='red', \n",
    "                linestyle='--', \n",
    "                label='медиана')\n",
    "    plt.axvline(x=df[col].quantile(.05),\n",
    "                linewidth=2, \n",
    "                color='gold', \n",
    "                linestyle='--', \n",
    "                label='5 квантиль')\n",
    "    plt.axvline(x=df[col].quantile(.95),\n",
    "                linewidth=2, \n",
    "                color='gold', \n",
    "                linestyle='--',\n",
    "                label='95 квантиль')\n",
    "    plt.title('Распределение по столбцу ' + col + ' в выборке ' + df_name)\n",
    "    plt.xlabel('Значение')\n",
    "    plt.ylabel('Частота')\n",
    "    plt.grid()\n",
    "    plt.legend()\n",
    "    plt.show()\n",
    "    \n",
    "    plt.figure(figsize =(6, 4))\n",
    "    kdeplot = df[col].plot(\n",
    "                kind='kde', \n",
    "                alpha=0.5,\n",
    "                color='skyblue',\n",
    "                )\n",
    "    plt.title('Распределение по столбцу ' + col + ' в выборке ' + df_name)\n",
    "    plt.xlabel('Значение')\n",
    "    plt.ylabel('Частота')\n",
    "    plt.grid()\n",
    "    plt.show()\n",
    "    \n",
    "    #проверка на нормальность распределения;\n",
    "    from statsmodels.graphics.gofplots import qqplot\n",
    "    qqplot(df[col], line='s')\n",
    "    plt.title('Близость к нормальному распределению (красная линия)', fontsize=12, color='black')\n",
    "    plt.show()\n",
    "    print('--------------------------------------------------------------')"
   ]
  },
  {
   "cell_type": "code",
   "execution_count": null,
   "metadata": {},
   "outputs": [],
   "source": [
    "# графики для выборки XOne\n",
    "my_hist(games_2platf[games_2platf['platform']=='XOne'], 'user_score', 100, 'Xbox One')"
   ]
  },
  {
   "cell_type": "markdown",
   "metadata": {},
   "source": [
    "Пик и медиана пользовательской оценки по выборке Xbox One около значения 6.8. Данные распределены не совсем нормально."
   ]
  },
  {
   "cell_type": "code",
   "execution_count": null,
   "metadata": {},
   "outputs": [],
   "source": [
    "# графики для выборки XOne\n",
    "my_hist(games_2platf[games_2platf['platform']=='PC'], 'user_score', 100, 'PC')"
   ]
  },
  {
   "cell_type": "markdown",
   "metadata": {},
   "source": [
    "Пик пользовательской оценки по выборке PC около значения 8.5, медиана около 7.5. Данные распределены ненормально."
   ]
  },
  {
   "cell_type": "markdown",
   "metadata": {},
   "source": [
    "Проверим, одинаковы ли дисперсии двух выборок. Используем тест Левена:\n",
    "\n",
    "* $H_0$: дисперсии выборок равны; \n",
    "* $H_1$: дисперсии выборок не равны. "
   ]
  },
  {
   "cell_type": "code",
   "execution_count": null,
   "metadata": {},
   "outputs": [],
   "source": [
    "# тест Левена на разность дисперсий\n",
    "alpha = 0.05\n",
    "results = st.levene(games_2platf[games_2platf['platform']=='XOne']['user_score'], \\\n",
    "                    games_2platf[games_2platf['platform']=='PC']['user_score'])\n",
    "print('p-значение:', results.pvalue)\n",
    "\n",
    "if (results.pvalue < alpha):\n",
    "    print(\"Отвергаем нулевую гипотезу\")\n",
    "else:\n",
    "    print(\"Не удалось отвергнуть нулевую гипотезу\")"
   ]
  },
  {
   "cell_type": "markdown",
   "metadata": {},
   "source": [
    "Итак, дисперсии выборок равны."
   ]
  },
  {
   "cell_type": "markdown",
   "metadata": {},
   "source": [
    "Теперь сформулируем нашу основную гипотезу:\n",
    "\n",
    "* $H_0$: средние пользовательские рейтинги платформ Xbox One и PC не равны;\n",
    "* $H_1$: средние пользовательские рейтинги платформ Xbox One и PC равны. \n",
    "\n",
    "Мы будем использовать двусторонний тест Стьюдента при проверке гипотезы, так как в данном случае мы проверяем равенство или неравенство средних двух выборок. У нас достаточно наблюдений, поэтому, согласно ЦПТ, средние двух выборок распределены нормально. Критический уровень возьмем 5%."
   ]
  },
  {
   "cell_type": "code",
   "execution_count": null,
   "metadata": {
    "scrolled": true
   },
   "outputs": [],
   "source": [
    "# критический уровень статистической значимости;  если p-value окажется меньше него - отвергнем гипотезу \n",
    "alpha = 0.05 \n",
    "# проведем двусторонний тест о равенстве средних пользовательских оценок двух выборок\n",
    "# параметр equal_var приравняем к True, так как дисперсии выборок равны\n",
    "results = st.ttest_ind(games_2platf[games_2platf['platform']=='XOne']['user_score'], \\\n",
    "                       games_2platf[games_2platf['platform']=='PC']['user_score'], equal_var = True)\n",
    "# выведем значение p-value\n",
    "print('p-значение:', results.pvalue)\n",
    "\n",
    "# результат проверки гипотезы\n",
    "if results.pvalue < alpha:\n",
    "    print('Отвергаем нулевую гипотезу')\n",
    "else: \n",
    "    print('Не получилось отвергнуть нулевую гипотезу') "
   ]
  },
  {
   "cell_type": "markdown",
   "metadata": {},
   "source": [
    "Итак, мы отвергаем нулевую гипотезу о неравенстве средних пользовательских оценок двух выборок - Xbox One и PC."
   ]
  },
  {
   "cell_type": "markdown",
   "metadata": {},
   "source": [
    "<a href=\"#contents\">к оглавлению</a>"
   ]
  },
  {
   "cell_type": "markdown",
   "metadata": {},
   "source": [
    "### Проверка второй гипотезы"
   ]
  },
  {
   "cell_type": "markdown",
   "metadata": {},
   "source": [
    "Для начала исследуем среднее, дисперсию и стандартное отклонение по двум выборкам - жанр Action и жанр Sports."
   ]
  },
  {
   "cell_type": "code",
   "execution_count": null,
   "metadata": {},
   "outputs": [],
   "source": [
    "# создадим таблицу с жанрами Action и Sports, отфильтруем пропуски по пользовательской оценке\n",
    "games_2genre = games.query('user_score.notnull() and (genre==\"Action\" or genre==\"Sports\")')"
   ]
  },
  {
   "cell_type": "code",
   "execution_count": null,
   "metadata": {},
   "outputs": [],
   "source": [
    "# осталось 2877 наблюдений\n",
    "games_2genre.info()"
   ]
  },
  {
   "cell_type": "code",
   "execution_count": null,
   "metadata": {},
   "outputs": [],
   "source": [
    "# выведем среднюю, стандартное отклонение и дисперсию по пользовательской оценке\n",
    "games_2genre.pivot_table(index='genre', values='user_score', aggfunc=['mean', 'std', 'var']).round(1)"
   ]
  },
  {
   "cell_type": "markdown",
   "metadata": {},
   "source": [
    "Средние рейтинги и их стандартное отклонение, на первый взгляд, сильно не отличаются. Дисперсия отличается по двум выборкам."
   ]
  },
  {
   "cell_type": "code",
   "execution_count": null,
   "metadata": {},
   "outputs": [],
   "source": [
    "# графики для выборки Action\n",
    "my_hist(games_2genre[games_2genre['genre']=='Action'], 'user_score', 100, 'Action')"
   ]
  },
  {
   "cell_type": "markdown",
   "metadata": {},
   "source": [
    "Пик пользовательской оценки по выборке Action около 8, медиана щколо 7.3. Данные распределены ненормально."
   ]
  },
  {
   "cell_type": "code",
   "execution_count": null,
   "metadata": {},
   "outputs": [],
   "source": [
    "# графики для выборки Action\n",
    "my_hist(games_2genre[games_2genre['genre']=='Sports'], 'user_score', 100, 'Sports')"
   ]
  },
  {
   "cell_type": "markdown",
   "metadata": {},
   "source": [
    "Пик оценки по выборке Sports около 7.5, медиана около 7.3.Данные распределены ненормально."
   ]
  },
  {
   "cell_type": "markdown",
   "metadata": {},
   "source": [
    "Проверим, одинаковы ли дисперсии двух выборок. Используем снова тест Левена:\n",
    "\n",
    "* $H_0$: дисперсии выборок равны; \n",
    "* $H_1$: дисперсии выборок не равны. "
   ]
  },
  {
   "cell_type": "code",
   "execution_count": null,
   "metadata": {},
   "outputs": [],
   "source": [
    "# тест Левена на разность дисперсий\n",
    "alpha = 0.05\n",
    "results = st.levene(games_2genre[games_2genre['genre']=='Action']['user_score'], \\\n",
    "                    games_2genre[games_2genre['genre']=='Sports']['user_score'])\n",
    "print('p-значение:', results.pvalue)\n",
    "\n",
    "if (results.pvalue < alpha):\n",
    "    print(\"Отвергаем нулевую гипотезу\")\n",
    "else:\n",
    "    print(\"Не удалось отвергнуть нулевую гипотезу\")"
   ]
  },
  {
   "cell_type": "markdown",
   "metadata": {},
   "source": [
    "Дисперсии выборок не равны."
   ]
  },
  {
   "cell_type": "markdown",
   "metadata": {},
   "source": [
    "Теперь сформулируем нашу основную гипотезу:\n",
    "\n",
    "* $H_0$: средние пользовательские рейтинги жанров Action и Sports равны;\n",
    "* $H_1$: средние пользовательские рейтинги жанров Action и Sports не равны. \n",
    "\n",
    "Мы будем использовать двусторонний тест Стьюдента при проверке гипотезы, так как мы проверяем равенство или неравенство средних двух выборок. У нас достаточно наблюдений, поэтому, согласно ЦПТ, средние двух выборок распределены нормально. Критический уровень возьмем 5%."
   ]
  },
  {
   "cell_type": "code",
   "execution_count": null,
   "metadata": {},
   "outputs": [],
   "source": [
    "# критический уровень статистической значимости;  если p-value окажется меньше него - отвергнем гипотезу \n",
    "alpha = 0.05 \n",
    "# проведем двусторонний тест о равенстве средних пользовательских оценок двух выборок\n",
    "# параметр equal_var приравняем к False, так как дисперсии выборок не равны\n",
    "results = st.ttest_ind(games_2genre[games_2genre['genre']=='Action']['user_score'], \\\n",
    "                       games_2genre[games_2genre['genre']=='Sports']['user_score'], equal_var = False)\n",
    "# выведем значение p-value\n",
    "print('p-значение:', results.pvalue)\n",
    "\n",
    "# результат проверки гипотезы\n",
    "if results.pvalue < alpha:\n",
    "    print('Отвергаем нулевую гипотезу')\n",
    "else: \n",
    "    print('Не получилось отвергнуть нулевую гипотезу') "
   ]
  },
  {
   "cell_type": "markdown",
   "metadata": {},
   "source": [
    "Итак, нам не удалось отвергнуть нулевую гипотезу о равенстве средних пользовательских оценок выборок Action и Sports."
   ]
  },
  {
   "cell_type": "markdown",
   "metadata": {},
   "source": [
    "### Вывод\n",
    "\n",
    "По результатам проверки гипотез, средние пользовательские оценки по двум платформам Xbox One и PC равны; средние пользовательские оценки по двум жанрам Action и Sports также равны. "
   ]
  },
  {
   "cell_type": "markdown",
   "metadata": {},
   "source": [
    "<a href=\"#contents\">к оглавлению</a>"
   ]
  },
  {
   "cell_type": "markdown",
   "metadata": {},
   "source": [
    "## Общий вывод"
   ]
  },
  {
   "cell_type": "markdown",
   "metadata": {},
   "source": [
    "В данном исследовании мы анализировали данные по продажам компьютерных игр. Данные содержат следующую информацию: название игры, платформа, жанр, год выпуска, пользовательская оценка, оценка критиков, рейтинг ESRB, и объем продаж по регионам - Северная Америка, Европа, Япония и другие страны. \n",
    "\n",
    "В таблице есть 11559 уникальных игр, 12 уникальных жанров и 31 уникальная игровая платформа. Значения в столбце рейтинг организации ESRB представляют собой 8 уникальных возрастных рейтингов. Самые популярные игры имеют рейтинг E - для всех возрастных категорий. Затем следуют игры для подростков. Топ-7 платформ по количеству игр на них: PS2, DS, PS3, Wii, X360, PSP и PS.\n",
    "\n",
    "Мы провели предобработку данных:\n",
    "\n",
    "- названия столбцов были приведены к нижнему регистру;\n",
    "- удалили наблюдения с пропусками в столбцах название игры и год выпуска;\n",
    "- пропуски в оценке пользователей, оценке критиков и рейтинге оставили как есть;\n",
    "- заменили типы данных, где необходимо;\n",
    "- значения 'tbd' в столбце оценка пользователей заменили на NaN и привели столбец к числовому типу;\n",
    "- два наблюдения с 0-ми продажами одновременно по всем регионам мы удалили.\n",
    "\n",
    "Мы выявили топ-6 платформ по суммарным продажам за всесь период: PS2, X360, PS3, Wii, DS и PS. Выяснили, что характерный жизненный цикл платформы - 10-12 лет.\n",
    "\n",
    "За актуальный период взяли 2013-2016 год. За этот период платформы PS4 и XOne лидировали по продажам и показали хороший рост. Продажи по платформам PS3, X360, 3DS упали значительно за этот период. По остальным платформам также наблюдаем падение. В целом, наблюдаем нисходящий тренд продаж по всем платформам. Таким образом, PS4 и XOne - потенциально прибыльные платформы. Компании производители данных платформ - Sony и Microsoft соответственно.\n",
    "\n",
    "Наблюдаем схожее влияние отзывов пользователей и критиков на продажи игр на платформах PS4 и XOne: есть небольшая положительная корреляция между продажами и оценкой критиков.\n",
    "\n",
    "За актуальный период больше всего игр в жанре Action, меньше всего - Puzzle. Жанр Action также имеет самые высокие продажи. Жанр Puzzle имеет самые низкие продажи.\n",
    "\n",
    "Мы выявили самые популярные платформы и жанры за весь рассматриваемый период. В Северной Америке доминируют платформы X360, PS2, Wii, PS3 и DS. В европе лидируют по продажам платформы PS2, PS3, X360, Wii и PS. В Японии лидируют платформы DS, PS, PS2, SNES и 3DS. Платформа PS2 входит в топ-популярные во всех трех регионах. Жанр игр Action популярен во всех трех регионах.\n",
    "\n",
    "Отметим, что большинство проданных игр имеет категорию E во всех трех регионах. Продажи по категории AO составляют меньшинство в Северной Америке и Европе, а в Японии такие продажи вообще отсутствут. Какой-либо взаимосвязи между рейтингом ESRB и продажами в каждом отдельном регионе выявлено не было.\n",
    "\n",
    "***На последнем этапе исследования проверили две гипотезы:***\n",
    "\n",
    "1. Средние пользовательские рейтинги платформ Xbox One и PC одинаковые:\n",
    "\n",
    " * Нулевая гипотеза  $𝐻_0$  : средние пользовательские рейтинги не равны. \n",
    "\n",
    " * Альтернативная гипотеза  $𝐻_1$  : средние пользовательские рейтинги равны. \n",
    "\n",
    "\n",
    "2. Средние пользовательские рейтинги жанров Action и Sports разные:\n",
    "\n",
    " * Нулевая гипотеза  $𝐻_0$  : средние пользовательские рейтинги равны. \n",
    "\n",
    " * Альтернативная гипотеза  $𝐻_1$  : средние пользовательские рейтинги не равны. \n",
    "\n",
    "Альтернативная гипотеза является нашей рабочей гипотезой и ее мы проверяем. Мы использовали двусторонние тесты Стьюдента при проверке гипотез, так как проверяем равенство или неравенство средних двух выборок. Критический уровень приняли за 5%. При проверке гипотез мы \n",
    "учитываем дисперсии выборок.\n",
    "\n",
    "*Результаты проведенных тестов по двум гипотезам соответственно:*\n",
    "\n",
    "**1. Мы отвергаем нулевую гипотезу о неравенстве средних пользовательских оценок двух выборок - Xbox One и PC;**\n",
    "\n",
    "**2. Нам не удалось отвергнуть нулевую гипотезу о равенстве средних пользовательских оценок выборок Action и Sports.**\n",
    "\n",
    "\n",
    "<div class=\"alert alert-block alert-info\">\n",
    "<b>Наша рекомендация:</b>\n",
    "\n",
    "При планировании рекламной кампании на 2017 год сделать упор на следующие параметры компьютерных игр:\n",
    "- потенцально прибыльные платформы PS4 и XOne;\n",
    "- прибыльные жанры: Action, Role-Playing, Adventure, Sports и Shooter;\n",
    "- игры с рейтингом E, M и T - для всех возрастных категорий, зрелых (от 17 лет) и для подростков соответственно.\n",
    "    \n",
    "</div>"
   ]
  },
  {
   "cell_type": "markdown",
   "metadata": {},
   "source": [
    "<a href=\"#contents\">к оглавлению</a>"
   ]
  }
 ],
 "metadata": {
  "kernelspec": {
   "display_name": "Python 3",
   "language": "python",
   "name": "python3"
  },
  "language_info": {
   "codemirror_mode": {
    "name": "ipython",
    "version": 3
   },
   "file_extension": ".py",
   "mimetype": "text/x-python",
   "name": "python",
   "nbconvert_exporter": "python",
   "pygments_lexer": "ipython3",
   "version": "3.7.9"
  },
  "toc": {
   "base_numbering": 1,
   "nav_menu": {},
   "number_sections": true,
   "sideBar": true,
   "skip_h1_title": true,
   "title_cell": "Оглавление",
   "title_sidebar": "Contents",
   "toc_cell": true,
   "toc_position": {},
   "toc_section_display": true,
   "toc_window_display": false
  }
 },
 "nbformat": 4,
 "nbformat_minor": 2
}
