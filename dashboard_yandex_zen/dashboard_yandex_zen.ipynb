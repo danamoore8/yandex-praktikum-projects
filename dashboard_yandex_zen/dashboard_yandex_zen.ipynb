{
 "cells": [
  {
   "attachments": {},
   "cell_type": "markdown",
   "id": "southeast-found",
   "metadata": {},
   "source": [
    "# Создание дашборда по пользовательским событиям для агрегатора новостей\n",
    "\n",
    "В данном проекте мы анализируем пользовательские взаимодействия с карточками статей на Яндекс.Дзен. Каждая карточка имеет тему и источник (у источника тоже есть тема). Есть три способа взаимодействия пользователей с карточками: отображение карточки (show); клик по карточке (click); просмотр статьи карточки (view). \n",
    "\n",
    "Наша задача - выяснить: сколько взаимодействий пользователей с карточками происходит в системе с разбивкой по темам карточек; как много событий генерируют источники с разными темами; как соотносятся темы карточек и темы источников. \n",
    "\n",
    "Мы выгрузим cырые данные о событиях взаимодействия пользователей с карточками (таблица log_raw) из базы данных PostgreSQL. Затем здесь в тетрадке запишем ее как csv-файл для дальнейшего использования. Для визуализации анализа мы построим дашборд в Tableau."
   ]
  },
  {
   "cell_type": "code",
   "execution_count": 13,
   "id": "mechanical-matrix",
   "metadata": {},
   "outputs": [],
   "source": [
    "# импортируем библиотеки\n",
    "import pandas as pd\n",
    "from sqlalchemy import create_engine"
   ]
  },
  {
   "cell_type": "markdown",
   "id": "unable-revolution",
   "metadata": {},
   "source": [
    "Подключимся к БД PostgreSQL. "
   ]
  },
  {
   "cell_type": "code",
   "execution_count": 18,
   "id": "extra-collect",
   "metadata": {},
   "outputs": [],
   "source": [
    "# пропишем параметры присоединения к БД\n",
    "db_config = {'user': '*****', # имя пользователя\n",
    "            'pwd': '*****', # пароль\n",
    "            'host': '*****',\n",
    "            'port': ****, # порт подключения\n",
    "            'db': '*****'} # название базы данных\n",
    "\n",
    "connection_string = 'postgresql://{}:{}@{}:{}/{}'.format(db_config['user'],\n",
    "                                                db_config['pwd'],\n",
    "                                                db_config['host'],\n",
    "                                                db_config['port'],\n",
    "                                                db_config['db'])\n",
    "\n",
    "engine = create_engine(connection_string) "
   ]
  },
  {
   "cell_type": "markdown",
   "id": "serious-strain",
   "metadata": {},
   "source": [
    "Напишем запрос в SQL и затем сохраним данные из БД в таблицу pandas."
   ]
  },
  {
   "cell_type": "code",
   "execution_count": 19,
   "id": "sound-habitat",
   "metadata": {},
   "outputs": [],
   "source": [
    "# наш SQL-запрос\n",
    "query = ''' SELECT *\n",
    "            FROM log_raw\n",
    "        '''"
   ]
  },
  {
   "cell_type": "code",
   "execution_count": 23,
   "id": "scientific-terrace",
   "metadata": {},
   "outputs": [],
   "source": [
    "# сохраним данные из запроса в таблицу\n",
    "dash_visits = pd.io.sql.read_sql(query, con = engine) "
   ]
  },
  {
   "cell_type": "code",
   "execution_count": 24,
   "id": "stylish-acoustic",
   "metadata": {},
   "outputs": [
    {
     "data": {
      "text/html": [
       "<div>\n",
       "<style scoped>\n",
       "    .dataframe tbody tr th:only-of-type {\n",
       "        vertical-align: middle;\n",
       "    }\n",
       "\n",
       "    .dataframe tbody tr th {\n",
       "        vertical-align: top;\n",
       "    }\n",
       "\n",
       "    .dataframe thead th {\n",
       "        text-align: right;\n",
       "    }\n",
       "</style>\n",
       "<table border=\"1\" class=\"dataframe\">\n",
       "  <thead>\n",
       "    <tr style=\"text-align: right;\">\n",
       "      <th></th>\n",
       "      <th>record_id</th>\n",
       "      <th>item_topic</th>\n",
       "      <th>source_topic</th>\n",
       "      <th>age_segment</th>\n",
       "      <th>dt</th>\n",
       "      <th>visits</th>\n",
       "    </tr>\n",
       "  </thead>\n",
       "  <tbody>\n",
       "    <tr>\n",
       "      <td>0</td>\n",
       "      <td>1040597</td>\n",
       "      <td>Деньги</td>\n",
       "      <td>Авто</td>\n",
       "      <td>18-25</td>\n",
       "      <td>2019-09-24 18:32:00</td>\n",
       "      <td>3</td>\n",
       "    </tr>\n",
       "    <tr>\n",
       "      <td>1</td>\n",
       "      <td>1040598</td>\n",
       "      <td>Деньги</td>\n",
       "      <td>Авто</td>\n",
       "      <td>18-25</td>\n",
       "      <td>2019-09-24 18:35:00</td>\n",
       "      <td>1</td>\n",
       "    </tr>\n",
       "    <tr>\n",
       "      <td>2</td>\n",
       "      <td>1040599</td>\n",
       "      <td>Деньги</td>\n",
       "      <td>Авто</td>\n",
       "      <td>18-25</td>\n",
       "      <td>2019-09-24 18:54:00</td>\n",
       "      <td>4</td>\n",
       "    </tr>\n",
       "    <tr>\n",
       "      <td>3</td>\n",
       "      <td>1040600</td>\n",
       "      <td>Деньги</td>\n",
       "      <td>Авто</td>\n",
       "      <td>18-25</td>\n",
       "      <td>2019-09-24 18:55:00</td>\n",
       "      <td>17</td>\n",
       "    </tr>\n",
       "    <tr>\n",
       "      <td>4</td>\n",
       "      <td>1040601</td>\n",
       "      <td>Деньги</td>\n",
       "      <td>Авто</td>\n",
       "      <td>18-25</td>\n",
       "      <td>2019-09-24 18:56:00</td>\n",
       "      <td>27</td>\n",
       "    </tr>\n",
       "  </tbody>\n",
       "</table>\n",
       "</div>"
      ],
      "text/plain": [
       "   record_id item_topic source_topic age_segment                  dt  visits\n",
       "0    1040597     Деньги         Авто       18-25 2019-09-24 18:32:00       3\n",
       "1    1040598     Деньги         Авто       18-25 2019-09-24 18:35:00       1\n",
       "2    1040599     Деньги         Авто       18-25 2019-09-24 18:54:00       4\n",
       "3    1040600     Деньги         Авто       18-25 2019-09-24 18:55:00      17\n",
       "4    1040601     Деньги         Авто       18-25 2019-09-24 18:56:00      27"
      ]
     },
     "execution_count": 24,
     "metadata": {},
     "output_type": "execute_result"
    }
   ],
   "source": [
    "# взглянем на первые строки таблицы\n",
    "dash_visits.head()"
   ]
  },
  {
   "cell_type": "code",
   "execution_count": 25,
   "id": "further-mention",
   "metadata": {},
   "outputs": [],
   "source": [
    "# запишем таблицу в csv-файл\n",
    "dash_visits.to_csv('dash_visits.csv')"
   ]
  },
  {
   "cell_type": "markdown",
   "id": "mature-lucas",
   "metadata": {},
   "source": [
    "Создан файл dash_visits.csv. Дальше будем работать с ним в Tableau."
   ]
  },
  {
   "attachments": {},
   "cell_type": "markdown",
   "id": "unexpected-venture",
   "metadata": {},
   "source": [
    "Создан дашборд со следующими элементами:\n",
    "1. История событий по темам карточек; \n",
    "2. Разбивка событий по темам источников;  \n",
    "3. Таблица соответствия тем источников темам карточек."
   ]
  },
  {
   "cell_type": "markdown",
   "id": "dress-newfoundland",
   "metadata": {},
   "source": [
    "Ссылка на дашборд в Tableau:\n",
    "https://public.tableau.com/app/profile/dana.muratbek/viz/ZenVisits_16237006482060/ZenDashboard"
   ]
  }
 ],
 "metadata": {
  "kernelspec": {
   "display_name": "Python 3",
   "language": "python",
   "name": "python3"
  },
  "language_info": {
   "codemirror_mode": {
    "name": "ipython",
    "version": 3
   },
   "file_extension": ".py",
   "mimetype": "text/x-python",
   "name": "python",
   "nbconvert_exporter": "python",
   "pygments_lexer": "ipython3",
   "version": "3.7.9"
  },
  "toc": {
   "base_numbering": 1,
   "nav_menu": {},
   "number_sections": true,
   "sideBar": true,
   "skip_h1_title": true,
   "title_cell": "Table of Contents",
   "title_sidebar": "Contents",
   "toc_cell": false,
   "toc_position": {},
   "toc_section_display": true,
   "toc_window_display": false
  }
 },
 "nbformat": 4,
 "nbformat_minor": 5
}
